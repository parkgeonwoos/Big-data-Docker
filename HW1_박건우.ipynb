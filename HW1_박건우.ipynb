{
 "cells": [
  {
   "cell_type": "markdown",
   "metadata": {
    "colab_type": "text",
    "id": "1uOxYRes17bR"
   },
   "source": [
    "# Homework 1\n",
    "## 1.1. 간단한 Spark 예제\n",
    "\n",
    "Click on the “Run” button for the next two cells or type `[Shift]-[Enter]`.  \n",
    "조금 기다리면 5 element가 들어있는 array가 생깁니다. \n",
    "\n",
    "아래 코드는 당장 이해할 필요는 없습니다, 아직 설명드린 부분은 아니지만, Spark가 잘 설치되었는지 확인할 수 있는 코드입니다."
   ]
  },
  {
   "cell_type": "code",
   "execution_count": 16,
   "metadata": {
    "colab": {},
    "colab_type": "code",
    "id": "I3S7f-8Q17bT"
   },
   "outputs": [
    {
     "ename": "ValueError",
     "evalue": "Cannot run multiple SparkContexts at once; existing SparkContext(app=pyspark-shell, master=local[*]) created by __init__ at <ipython-input-15-37b8b762dcb2>:2 ",
     "output_type": "error",
     "traceback": [
      "\u001b[0;31m\u001b[0m",
      "\u001b[0;31mValueError\u001b[0mTraceback (most recent call last)",
      "\u001b[0;32m<ipython-input-16-37b8b762dcb2>\u001b[0m in \u001b[0;36m<module>\u001b[0;34m\u001b[0m\n\u001b[1;32m      1\u001b[0m \u001b[0;32mimport\u001b[0m \u001b[0mpyspark\u001b[0m\u001b[0;34m\u001b[0m\u001b[0;34m\u001b[0m\u001b[0m\n\u001b[0;32m----> 2\u001b[0;31m \u001b[0msc\u001b[0m \u001b[0;34m=\u001b[0m \u001b[0mpyspark\u001b[0m\u001b[0;34m.\u001b[0m\u001b[0mSparkContext\u001b[0m\u001b[0;34m(\u001b[0m\u001b[0;34m'local[*]'\u001b[0m\u001b[0;34m)\u001b[0m\u001b[0;34m\u001b[0m\u001b[0;34m\u001b[0m\u001b[0m\n\u001b[0m\u001b[1;32m      3\u001b[0m \u001b[0mrdd\u001b[0m \u001b[0;34m=\u001b[0m \u001b[0msc\u001b[0m\u001b[0;34m.\u001b[0m\u001b[0mparallelize\u001b[0m\u001b[0;34m(\u001b[0m\u001b[0mrange\u001b[0m\u001b[0;34m(\u001b[0m\u001b[0;36m1000\u001b[0m\u001b[0;34m)\u001b[0m\u001b[0;34m)\u001b[0m\u001b[0;34m\u001b[0m\u001b[0;34m\u001b[0m\u001b[0m\n\u001b[1;32m      4\u001b[0m \u001b[0mtake5\u001b[0m \u001b[0;34m=\u001b[0m \u001b[0mrdd\u001b[0m\u001b[0;34m.\u001b[0m\u001b[0mtakeSample\u001b[0m\u001b[0;34m(\u001b[0m\u001b[0;32mFalse\u001b[0m\u001b[0;34m,\u001b[0m \u001b[0;36m5\u001b[0m\u001b[0;34m,\u001b[0m \u001b[0mseed\u001b[0m\u001b[0;34m=\u001b[0m\u001b[0;36m314\u001b[0m\u001b[0;34m)\u001b[0m\u001b[0;34m\u001b[0m\u001b[0;34m\u001b[0m\u001b[0m\n",
      "\u001b[0;32m/usr/local/spark/python/pyspark/context.py\u001b[0m in \u001b[0;36m__init__\u001b[0;34m(self, master, appName, sparkHome, pyFiles, environment, batchSize, serializer, conf, gateway, jsc, profiler_cls)\u001b[0m\n\u001b[1;32m    131\u001b[0m                     \" note this option will be removed in Spark 3.0\")\n\u001b[1;32m    132\u001b[0m \u001b[0;34m\u001b[0m\u001b[0m\n\u001b[0;32m--> 133\u001b[0;31m         \u001b[0mSparkContext\u001b[0m\u001b[0;34m.\u001b[0m\u001b[0m_ensure_initialized\u001b[0m\u001b[0;34m(\u001b[0m\u001b[0mself\u001b[0m\u001b[0;34m,\u001b[0m \u001b[0mgateway\u001b[0m\u001b[0;34m=\u001b[0m\u001b[0mgateway\u001b[0m\u001b[0;34m,\u001b[0m \u001b[0mconf\u001b[0m\u001b[0;34m=\u001b[0m\u001b[0mconf\u001b[0m\u001b[0;34m)\u001b[0m\u001b[0;34m\u001b[0m\u001b[0;34m\u001b[0m\u001b[0m\n\u001b[0m\u001b[1;32m    134\u001b[0m         \u001b[0;32mtry\u001b[0m\u001b[0;34m:\u001b[0m\u001b[0;34m\u001b[0m\u001b[0;34m\u001b[0m\u001b[0m\n\u001b[1;32m    135\u001b[0m             self._do_init(master, appName, sparkHome, pyFiles, environment, batchSize, serializer,\n",
      "\u001b[0;32m/usr/local/spark/python/pyspark/context.py\u001b[0m in \u001b[0;36m_ensure_initialized\u001b[0;34m(cls, instance, gateway, conf)\u001b[0m\n\u001b[1;32m    330\u001b[0m                         \u001b[0;34m\" created by %s at %s:%s \"\u001b[0m\u001b[0;34m\u001b[0m\u001b[0;34m\u001b[0m\u001b[0m\n\u001b[1;32m    331\u001b[0m                         % (currentAppName, currentMaster,\n\u001b[0;32m--> 332\u001b[0;31m                             callsite.function, callsite.file, callsite.linenum))\n\u001b[0m\u001b[1;32m    333\u001b[0m                 \u001b[0;32melse\u001b[0m\u001b[0;34m:\u001b[0m\u001b[0;34m\u001b[0m\u001b[0;34m\u001b[0m\u001b[0m\n\u001b[1;32m    334\u001b[0m                     \u001b[0mSparkContext\u001b[0m\u001b[0;34m.\u001b[0m\u001b[0m_active_spark_context\u001b[0m \u001b[0;34m=\u001b[0m \u001b[0minstance\u001b[0m\u001b[0;34m\u001b[0m\u001b[0;34m\u001b[0m\u001b[0m\n",
      "\u001b[0;31mValueError\u001b[0m: Cannot run multiple SparkContexts at once; existing SparkContext(app=pyspark-shell, master=local[*]) created by __init__ at <ipython-input-15-37b8b762dcb2>:2 "
     ]
    }
   ],
   "source": [
    "import pyspark\n",
    "sc = pyspark.SparkContext('local[*]')\n",
    "rdd = sc.parallelize(range(1000))\n",
    "take5 = rdd.takeSample(False, 5, seed=314)"
   ]
  },
  {
   "cell_type": "code",
   "execution_count": null,
   "metadata": {},
   "outputs": [],
   "source": []
  },
  {
   "cell_type": "code",
   "execution_count": 17,
   "metadata": {
    "colab": {},
    "colab_type": "code",
    "id": "yc9-J8wb17bX",
    "outputId": "beac4f29-e312-41e8-d6c1-45edda5600d8"
   },
   "outputs": [
    {
     "data": {
      "text/plain": [
       "[623, 361, 418, 299, 519]"
      ]
     },
     "metadata": {},
     "output_type": "display_data"
    }
   ],
   "source": [
    "display(take5)"
   ]
  },
  {
   "cell_type": "code",
   "execution_count": null,
   "metadata": {},
   "outputs": [],
   "source": []
  },
  {
   "cell_type": "code",
   "execution_count": null,
   "metadata": {},
   "outputs": [],
   "source": []
  },
  {
   "cell_type": "code",
   "execution_count": null,
   "metadata": {},
   "outputs": [],
   "source": []
  },
  {
   "cell_type": "markdown",
   "metadata": {
    "colab_type": "text",
    "id": "MLOvVULg17bd"
   },
   "source": [
    "## 1.2 Something a Little More Fun\n",
    "\n",
    "아래 cell에 들어있는 코드를 다음 요구사항에 맞게 변형하여 그림을 출력하게 해보세요:\n",
    "\n",
    "1. The text (which says “student”) should be your student number\n",
    "2. Sample된 수가 150이 되게 변경하고, 이에 맞추어서 figure의 title을 바꿔주세요\n",
    "3. x-축이 “Sample number” 가 되도록 변경해주세요.\n",
    "\n",
    "각 cell은 반복적으로 실행시킬 수 있습니다. 채점을 할때에는, 조교님이 전체 cell을 run하여 확인을 하게 됩니다. \n",
    "제출전에 Kernel menu에서 \"Restart & Run All\"를 실행하여 버그가 있는지 확인해보시기를 추천 드립니다. "
   ]
  },
  {
   "cell_type": "code",
   "execution_count": 1,
   "metadata": {
    "colab": {},
    "colab_type": "code",
    "id": "Pa1Ll1VF17be"
   },
   "outputs": [
    {
     "ename": "NameError",
     "evalue": "name 'rdd' is not defined",
     "output_type": "error",
     "traceback": [
      "\u001b[0;31m\u001b[0m",
      "\u001b[0;31mNameError\u001b[0mTraceback (most recent call last)",
      "\u001b[0;32m<ipython-input-1-263ff810e32c>\u001b[0m in \u001b[0;36m<module>\u001b[0;34m\u001b[0m\n\u001b[1;32m      3\u001b[0m \u001b[0;34m\u001b[0m\u001b[0m\n\u001b[1;32m      4\u001b[0m \u001b[0;31m# Sample 100 values from the RDD\u001b[0m\u001b[0;34m\u001b[0m\u001b[0;34m\u001b[0m\u001b[0;34m\u001b[0m\u001b[0m\n\u001b[0;32m----> 5\u001b[0;31m \u001b[0my\u001b[0m \u001b[0;34m=\u001b[0m \u001b[0mnp\u001b[0m\u001b[0;34m.\u001b[0m\u001b[0marray\u001b[0m\u001b[0;34m(\u001b[0m\u001b[0mrdd\u001b[0m\u001b[0;34m.\u001b[0m\u001b[0mtakeSample\u001b[0m\u001b[0;34m(\u001b[0m\u001b[0;32mFalse\u001b[0m\u001b[0;34m,\u001b[0m \u001b[0;36m150\u001b[0m\u001b[0;34m,\u001b[0m \u001b[0;36m1\u001b[0m\u001b[0;34m)\u001b[0m\u001b[0;34m)\u001b[0m\u001b[0;34m\u001b[0m\u001b[0;34m\u001b[0m\u001b[0m\n\u001b[0m\u001b[1;32m      6\u001b[0m \u001b[0;31m# Create an array with the indices\u001b[0m\u001b[0;34m\u001b[0m\u001b[0;34m\u001b[0m\u001b[0;34m\u001b[0m\u001b[0m\n\u001b[1;32m      7\u001b[0m \u001b[0mx\u001b[0m \u001b[0;34m=\u001b[0m \u001b[0mnp\u001b[0m\u001b[0;34m.\u001b[0m\u001b[0marray\u001b[0m\u001b[0;34m(\u001b[0m\u001b[0mrange\u001b[0m\u001b[0;34m(\u001b[0m\u001b[0mlen\u001b[0m\u001b[0;34m(\u001b[0m\u001b[0my\u001b[0m\u001b[0;34m)\u001b[0m\u001b[0;34m)\u001b[0m\u001b[0;34m)\u001b[0m\u001b[0;34m\u001b[0m\u001b[0;34m\u001b[0m\u001b[0m\n",
      "\u001b[0;31mNameError\u001b[0m: name 'rdd' is not defined"
     ]
    }
   ],
   "source": [
    "\n",
    "import matplotlib.pyplot as plt\n",
    "import numpy as np\n",
    "\n",
    "# Sample 100 values from the RDD\n",
    "y = np.array(rdd.takeSample(False, 150, 1))\n",
    "# Create an array with the indices\n",
    "x = np.array(range(len(y)))\n",
    "\n",
    "# Create a plot with a caption, X and Y legends, etc\n",
    "x_label = 'Sample number'\n",
    "y_label = 'Value'\n",
    "student = '20175130'\n",
    "\n",
    "plt.title(str(len(y)) + ' random samples from the RDD')\n",
    "plt.xlabel(x_label)\n",
    "plt.ylabel(y_label)\n",
    "plt.figtext(0.995, 0.01, student, ha='right', va='bottom')\n",
    "# Scatter plot that fits within the box\n",
    "plt.scatter(x, y)\n",
    "plt.tight_layout()\n",
    "\n",
    "# Now fit a trend line to the data and plot it over the scatter plot\n",
    "m, c = np.polyfit(x, y, 1)\n",
    "plt.plot(x, m*x + c)\n",
    "\n",
    "# Save the SVG\n",
    "plt.savefig('hw1.svg')"
   ]
  },
  {
   "cell_type": "code",
   "execution_count": null,
   "metadata": {},
   "outputs": [],
   "source": []
  },
  {
   "cell_type": "code",
   "execution_count": null,
   "metadata": {},
   "outputs": [],
   "source": []
  },
  {
   "cell_type": "code",
   "execution_count": null,
   "metadata": {},
   "outputs": [],
   "source": []
  },
  {
   "cell_type": "code",
   "execution_count": null,
   "metadata": {},
   "outputs": [],
   "source": []
  },
  {
   "cell_type": "code",
   "execution_count": 21,
   "metadata": {
    "colab": {},
    "colab_type": "code",
    "id": "1lSOlJy617bh",
    "outputId": "06702396-f6db-4e5f-db45-73ff881f8959"
   },
   "outputs": [
    {
     "name": "stdout",
     "output_type": "stream",
     "text": [
      "Your student number is: 20175130\n"
     ]
    }
   ],
   "source": [
    "# 확인용 cell 입니다. 변경하지 마세요\n",
    "print(\"Your student number is:\", student)"
   ]
  },
  {
   "cell_type": "code",
   "execution_count": null,
   "metadata": {},
   "outputs": [],
   "source": []
  },
  {
   "cell_type": "code",
   "execution_count": null,
   "metadata": {},
   "outputs": [],
   "source": []
  },
  {
   "cell_type": "code",
   "execution_count": 0,
   "metadata": {
    "colab": {},
    "colab_type": "code",
    "id": "yfgBeERH17bk",
    "outputId": "c5427570-815a-4014-ccd3-18f34e36e721"
   },
   "outputs": [
    {
     "name": "stdout",
     "output_type": "stream",
     "text": [
      "You have sampled 100 points.\n"
     ]
    }
   ],
   "source": [
    "# 확인용 cell 입니다. 변경하지 마세요\n",
    "print(\"You have sampled\", len(y), \"points.\")"
   ]
  },
  {
   "cell_type": "code",
   "execution_count": 0,
   "metadata": {
    "colab": {},
    "colab_type": "code",
    "id": "t5IJp9aI17bn",
    "outputId": "7261da27-5491-4379-cab7-d58b1d15e97f"
   },
   "outputs": [
    {
     "name": "stdout",
     "output_type": "stream",
     "text": [
      "The label on the x-axis says: Sample no\n"
     ]
    }
   ],
   "source": [
    "# 확인용 cell 입니다. 변경하지 마세요\n",
    "print(\"The label on the x-axis says:\", x_label)"
   ]
  },
  {
   "cell_type": "code",
   "execution_count": 0,
   "metadata": {
    "colab": {},
    "colab_type": "code",
    "id": "6cb-gA1Wxlb2"
   },
   "outputs": [],
   "source": []
  },
  {
   "cell_type": "code",
   "execution_count": 0,
   "metadata": {
    "colab": {},
    "colab_type": "code",
    "id": "tyDmeWyexljz"
   },
   "outputs": [],
   "source": []
  },
  {
   "cell_type": "code",
   "execution_count": 0,
   "metadata": {
    "colab": {},
    "colab_type": "code",
    "id": "2Rdu0KsSxlrb"
   },
   "outputs": [],
   "source": []
  },
  {
   "cell_type": "markdown",
   "metadata": {
    "colab_type": "text",
    "id": "K_xMCcCldxsz"
   },
   "source": [
    "# Python  기초\n",
    "\n",
    "이진우 작성. <빠르게 활용하는 파이썬 3.6 프로그래밍(신호철 외 작성, 위키북스)> 참조"
   ]
  },
  {
   "cell_type": "markdown",
   "metadata": {
    "colab_type": "text",
    "id": "aF7krIVsdxs1"
   },
   "source": [
    "## 1. 자료형 및 연산자"
   ]
  },
  {
   "cell_type": "markdown",
   "metadata": {
    "colab_type": "text",
    "id": "5Ovb9Pw_dxs2"
   },
   "source": [
    "### (1) 변수명\n",
    "\n",
    " <규칙>\n",
    " \n",
    "     (1) 영문자(대, 소문자 구분), 숫자, 언더바(\\_) 사용 가능\n",
    " \n",
    "     (2) 첫 자리에는 숫자 사용 불가능\n",
    " \n",
    "     (3) 예약어 사용 불가능\n",
    " \n",
    " <예약어 목록>\n",
    "\n",
    "and as assert break class continue def del elif else except is \n",
    "\n",
    "finally for from global if import in is lambda nonlocal not or \n",
    "\n",
    "pass raise retrun try while with yield 등등...!\n",
    " "
   ]
  },
  {
   "cell_type": "code",
   "execution_count": 0,
   "metadata": {
    "colab": {},
    "colab_type": "code",
    "id": "CH5BZVwMdxs3",
    "outputId": "d2df3c5e-0e09-47a6-db6f-48f4377f277e",
    "scrolled": false
   },
   "outputs": [
    {
     "name": "stdout",
     "output_type": "stream",
     "text": [
      "1\n",
      "10\n",
      "python?\n",
      "python!\n"
     ]
    }
   ],
   "source": [
    "friend = 1 \n",
    "Friend = 10 \n",
    "\n",
    "python_jjang = 'python?'\n",
    "Python_jjang = 'python!'\n",
    "\n",
    "print(friend)\n",
    "print(Friend)\n",
    "print(python_jjang)\n",
    "print(Python_jjang)"
   ]
  },
  {
   "cell_type": "code",
   "execution_count": 0,
   "metadata": {
    "colab": {},
    "colab_type": "code",
    "id": "ww5jdqWDdxs8",
    "outputId": "b35ea359-e602-4c12-c082-95d90d24b81a"
   },
   "outputs": [
    {
     "ename": "SyntaxError",
     "evalue": "invalid syntax (<ipython-input-17-768c54fbe978>, line 2)",
     "output_type": "error",
     "traceback": [
      "\u001b[1;36m  File \u001b[1;32m\"<ipython-input-17-768c54fbe978>\"\u001b[1;36m, line \u001b[1;32m2\u001b[0m\n\u001b[1;33m    1hihi = \"???\"\u001b[0m\n\u001b[1;37m        ^\u001b[0m\n\u001b[1;31mSyntaxError\u001b[0m\u001b[1;31m:\u001b[0m invalid syntax\n"
     ]
    }
   ],
   "source": [
    "# 첫 자리에 숫자를 사용한 경우 SyntaxError 발생\n",
    "1hihi = \"???\""
   ]
  },
  {
   "cell_type": "code",
   "execution_count": 0,
   "metadata": {
    "colab": {},
    "colab_type": "code",
    "id": "lrwWQBPUdxs_",
    "outputId": "ae2491a8-080b-4770-c529-b624fdb4c4a7",
    "scrolled": false
   },
   "outputs": [
    {
     "ename": "SyntaxError",
     "evalue": "invalid syntax (<ipython-input-18-d820c56aa5aa>, line 2)",
     "output_type": "error",
     "traceback": [
      "\u001b[1;36m  File \u001b[1;32m\"<ipython-input-18-d820c56aa5aa>\"\u001b[1;36m, line \u001b[1;32m2\u001b[0m\n\u001b[1;33m    for = 1\u001b[0m\n\u001b[1;37m        ^\u001b[0m\n\u001b[1;31mSyntaxError\u001b[0m\u001b[1;31m:\u001b[0m invalid syntax\n"
     ]
    }
   ],
   "source": [
    "# 예약어를 사용한 경우 SyntaxError 발생\n",
    "for = 1"
   ]
  },
  {
   "cell_type": "markdown",
   "metadata": {
    "colab_type": "text",
    "id": "dixgvcm3dxtC"
   },
   "source": [
    "### (2)수치\n",
    "\n",
    "Python에서 표현할 수 있는 수치형은\n",
    "\n",
    "`int` `long` `float` `complex`\n",
    "\n",
    "3.x 버젼부터 long형은 int로 통합 됨"
   ]
  },
  {
   "cell_type": "markdown",
   "metadata": {
    "colab_type": "text",
    "id": "Ia8vpPxgdxtD"
   },
   "source": [
    "### int와 long\n",
    "\n",
    "정수를 값으로 입력하면 10진수 정수로 인식"
   ]
  },
  {
   "cell_type": "code",
   "execution_count": 0,
   "metadata": {
    "colab": {},
    "colab_type": "code",
    "id": "IcjEaHwkdxtE",
    "outputId": "64fa17e0-00a7-4f8d-9f68-7f72f8b8e968"
   },
   "outputs": [
    {
     "name": "stdout",
     "output_type": "stream",
     "text": [
      "2019 8\n"
     ]
    }
   ],
   "source": [
    "year = 2019\n",
    "month = 8\n",
    "print(year, month)"
   ]
  },
  {
   "cell_type": "markdown",
   "metadata": {
    "colab_type": "text",
    "id": "55eDlfw2dxtG"
   },
   "source": [
    "정수 앞에 'Oo' ==> 8진수로 인식\n",
    "\n",
    "정수 앞에 'Ob' ==> 2진수로 인식\n",
    "\n",
    "정수 앞에 'Ox' ==> 16진수로 인식\n",
    "\n",
    "<출력방법>"
   ]
  },
  {
   "cell_type": "code",
   "execution_count": 0,
   "metadata": {
    "colab": {},
    "colab_type": "code",
    "id": "OsiptD7rdxtH",
    "outputId": "189ef1be-2e35-4731-b012-4257f0666915"
   },
   "outputs": [
    {
     "name": "stdout",
     "output_type": "stream",
     "text": [
      "12\n",
      "1010\n",
      "b\n",
      "10\n"
     ]
    }
   ],
   "source": [
    "print(\"{:o}\".format(10)) # 8진수 출력\n",
    "print(\"{:b}\".format(10)) # 2진수 출력\n",
    "print(\"{:x}\".format(11)) # 16진수 출력\n",
    "print(\"{:d}\".format(10))"
   ]
  },
  {
   "cell_type": "markdown",
   "metadata": {
    "colab_type": "text",
    "id": "gjX0VYANdxtK"
   },
   "source": [
    "### float과 complex\n",
    "\n",
    "실수 & 복수"
   ]
  },
  {
   "cell_type": "code",
   "execution_count": 0,
   "metadata": {
    "colab": {},
    "colab_type": "code",
    "id": "pq7JD2cedxtL",
    "outputId": "70b023f3-b8ac-472c-c71d-1890280a1b0f"
   },
   "outputs": [
    {
     "name": "stdout",
     "output_type": "stream",
     "text": [
      "<class 'float'>\n",
      "<class 'float'>\n",
      "<class 'complex'>\n"
     ]
    }
   ],
   "source": [
    "print(type(3.14))\n",
    "print(type(314e-2))\n",
    "print(type(3-4j))"
   ]
  },
  {
   "cell_type": "markdown",
   "metadata": {
    "colab_type": "text",
    "id": "TTkrx58WdxtO"
   },
   "source": [
    "### (3) 문자열\n",
    "\n",
    "`'` 또는 `\"`로 지정. 시작한 기호로 반드시 끝나야 함!"
   ]
  },
  {
   "cell_type": "code",
   "execution_count": 0,
   "metadata": {
    "colab": {},
    "colab_type": "code",
    "id": "9-Qb-ja6dxtO",
    "outputId": "61839e36-b6db-4190-d9da-5dc6945972f7"
   },
   "outputs": [
    {
     "ename": "SyntaxError",
     "evalue": "EOL while scanning string literal (<ipython-input-23-a71ca5a9b568>, line 3)",
     "output_type": "error",
     "traceback": [
      "\u001b[1;36m  File \u001b[1;32m\"<ipython-input-23-a71ca5a9b568>\"\u001b[1;36m, line \u001b[1;32m3\u001b[0m\n\u001b[1;33m    z = \"python3' # error 발생\u001b[0m\n\u001b[1;37m                            ^\u001b[0m\n\u001b[1;31mSyntaxError\u001b[0m\u001b[1;31m:\u001b[0m EOL while scanning string literal\n"
     ]
    }
   ],
   "source": [
    "x = 'python1'\n",
    "y = \"python2\"\n",
    "z = \"python3' # error 발생"
   ]
  },
  {
   "cell_type": "markdown",
   "metadata": {
    "colab_type": "text",
    "id": "1-g3C82QdxtS"
   },
   "source": [
    "### 다량의 문자열 넣기와 이스케이프 문자를 이용한 출력 설정\n",
    "\n",
    "(1) `\"\"\"` 또는 `'''`로 시작\n",
    "\n",
    "(2) 이스케이프 문자 사용\n",
    "\n",
    "     \\n : 개행\n",
    " \n",
    "     \\t : 탭\n",
    " \n",
    "     \\\\ : \\를 문자로 사용\n",
    " \n",
    "     \\' or \\\" : ' 또는 \"를 문자로 사용"
   ]
  },
  {
   "cell_type": "code",
   "execution_count": 0,
   "metadata": {
    "colab": {},
    "colab_type": "code",
    "id": "Quq5ptL9dxtU",
    "outputId": "de36d1a9-7ac7-4d8d-9201-572536f09b35"
   },
   "outputs": [
    {
     "name": "stdout",
     "output_type": "stream",
     "text": [
      " 집에 가고 싶다. 집에 가고 싶다\n",
      "벌써 새벽 3시. 배고프다. 먹으면 살찐다. 종강은 언제올까. 앞이 보이질 않는다..\n",
      "\n"
     ]
    }
   ],
   "source": [
    "print(\"\"\" 집에 가고 싶다. 집에 가고 싶다\n",
    "벌써 새벽 3시. 배고프다. 먹으면 살찐다. 종강은 언제올까. 앞이 보이질 않는다..\n",
    "\"\"\")"
   ]
  },
  {
   "cell_type": "code",
   "execution_count": 0,
   "metadata": {
    "colab": {},
    "colab_type": "code",
    "id": "4y_hzSVgdxtW",
    "outputId": "d19b309d-6f37-4764-b302-ffd2fd87691a"
   },
   "outputs": [
    {
     "name": "stdout",
     "output_type": "stream",
     "text": [
      "\t집\n",
      "에는 카레가 있는데..\n",
      "\n",
      "'집'에는 \\카레\\가 있을까.. \"\n"
     ]
    }
   ],
   "source": [
    "print(\"\\t집\\n에는 카레가 있는데..\\n\")\n",
    "print(\"\\'집\\'에는 \\\\카레\\\\가 있을까.. \\\"\")"
   ]
  },
  {
   "cell_type": "markdown",
   "metadata": {
    "colab_type": "text",
    "id": "3Ix1QcyAdxtZ"
   },
   "source": [
    "### 문자열 연산자와 인덱싱[슬라이싱]\n",
    "\n",
    "<문자열 연산자>"
   ]
  },
  {
   "cell_type": "code",
   "execution_count": 0,
   "metadata": {
    "colab": {},
    "colab_type": "code",
    "id": "jGXMwrfhdxta",
    "outputId": "e53383bf-f2d2-4184-ef75-90128a71634a"
   },
   "outputs": [
    {
     "name": "stdout",
     "output_type": "stream",
     "text": [
      "Python과 R\n",
      "Python과 R\n",
      "\n",
      "둘 중 무엇을 해야할까, 둘 다 해야할 것 같다.\n",
      "둘 중 무엇을 해야할까, 둘 다 해야할 것 같다.\n",
      "둘 중 무엇을 해야할까, 둘 다 해야할 것 같다.\n",
      "둘 중 무엇을 해야할까, 둘 다 해야할 것 같다.\n",
      "둘 중 무엇을 해야할까, 둘 다 해야할 것 같다.\n",
      "둘 중 무엇을 해야할까, 둘 다 해야할 것 같다.\n",
      "둘 중 무엇을 해야할까, 둘 다 해야할 것 같다.\n",
      "둘 중 무엇을 해야할까, 둘 다 해야할 것 같다.\n",
      "둘 중 무엇을 해야할까, 둘 다 해야할 것 같다.\n",
      "둘 중 무엇을 해야할까, 둘 다 해야할 것 같다.\n",
      "\n"
     ]
    }
   ],
   "source": [
    "print(\"Python\" + \"과 R\") # + 사용\n",
    "print(\"Python\" \"과 R\\n\") \n",
    "print(\"둘 중 무엇을 해야할까, 둘 다 해야할 것 같다.\\n\" * 10) # * 사용"
   ]
  },
  {
   "cell_type": "markdown",
   "metadata": {
    "colab_type": "text",
    "id": "4qK8lzd2dxtc"
   },
   "source": [
    "<문자열 인덱싱 & 슬라이싱> \n",
    "\n",
    "![대체 텍스트](https://python.bakyeono.net/img/img-5-2.png)\n",
    "\n"
   ]
  },
  {
   "cell_type": "code",
   "execution_count": 0,
   "metadata": {
    "colab": {},
    "colab_type": "code",
    "id": "JdhyS34udxtd",
    "outputId": "19c48a34-9a9d-44f0-94b1-d348e01bcf93"
   },
   "outputs": [
    {
     "name": "stdout",
     "output_type": "stream",
     "text": [
      "!!!!문자열 인덱싱!!!\n",
      "H\n",
      "H\n",
      "o\n",
      "o\n",
      "d\n",
      "d\n",
      "!!!!문자열 슬라이싱!!!\n",
      "Hello\n",
      "Hello World\n",
      "Hello World\n",
      "ld\n",
      "rld\n"
     ]
    }
   ],
   "source": [
    "a = \"Hello World\"\n",
    "\n",
    "print(\"!!!!문자열 인덱싱!!!\")\n",
    "print(a[0]) # 첫 번째 위치 문자 출력\n",
    "print(a[-11]) # 첫 번째 위치 문자 출력\n",
    "print(a[4]) # 다섯 번째 위치 문자 출력\n",
    "print(a[-4]) # 다섯 번째 위치 문자 출력\n",
    "print(a[-1]) # 마지막 위치 문자 출력\n",
    "print(a[10]) # 마지막 위치 문자 출력\n",
    "\n",
    "print(\"!!!!문자열 슬라이싱!!!\")\n",
    "print(a[0:5]) # 처음부터 다섯 번째 까지\n",
    "print(a[0:]) # 처음부터 끝까지\n",
    "print(a[:]) # 처음부터 끝까지\n",
    "print(a[-2:]) # 뒤에서 두 번째부터 끝까지\n",
    "print(a[-3:]) # 뒤에서 세 번째부터 끝까지"
   ]
  },
  {
   "cell_type": "markdown",
   "metadata": {
    "colab_type": "text",
    "id": "OHGVN4Svdxtf"
   },
   "source": [
    "### (4) 리스트\n",
    "\n",
    "    여러 종류의 값을 담을 수 있는 자료형. 즉, 값의 나열!\n",
    "\n",
    "    0부터 인덱스 및 슬라이싱 가능\n",
    "    \n",
    "    append, insert, extend, pop, remove, index 등 지원   "
   ]
  },
  {
   "cell_type": "code",
   "execution_count": 0,
   "metadata": {
    "colab": {},
    "colab_type": "code",
    "id": "tW-DkrLhdxtg",
    "outputId": "c377b158-d947-421b-c0cf-3d4ebf066f2c"
   },
   "outputs": [
    {
     "name": "stdout",
     "output_type": "stream",
     "text": [
      "['red', 'blue', '핫핑크']\n"
     ]
    },
    {
     "data": {
      "text/plain": [
       "list"
      ]
     },
     "execution_count": 28,
     "metadata": {
      "tags": []
     },
     "output_type": "execute_result"
    }
   ],
   "source": [
    "colors = ['red', 'blue', \"핫핑크\"]\n",
    "print(colors)\n",
    "type(colors)"
   ]
  },
  {
   "cell_type": "code",
   "execution_count": 0,
   "metadata": {
    "colab": {},
    "colab_type": "code",
    "id": "7LAlmWardxti",
    "outputId": "4b1f830c-7e38-44bc-b90e-a8a506ba22d4"
   },
   "outputs": [
    {
     "name": "stdout",
     "output_type": "stream",
     "text": [
      "['red', 'blue', '핫핑크', '나는 금색이 좋아']\n"
     ]
    }
   ],
   "source": [
    "# append를 이용한 값의 추가(맨 뒤)\n",
    "colors.append('나는 금색이 좋아')\n",
    "print(colors)"
   ]
  },
  {
   "cell_type": "code",
   "execution_count": 0,
   "metadata": {
    "colab": {},
    "colab_type": "code",
    "id": "U5i0k1gQdxtl",
    "outputId": "5a72b68f-79f9-4a39-810d-de53fea4a4d8"
   },
   "outputs": [
    {
     "name": "stdout",
     "output_type": "stream",
     "text": [
      "['red', '나는 은색이 좋다네', 'blue', '핫핑크', '나는 금색이 좋아']\n"
     ]
    }
   ],
   "source": [
    "# insert를 이용한 특정 위치에 값 추가\n",
    "colors.insert(1, \"나는 은색이 좋다네\")\n",
    "print(colors)"
   ]
  },
  {
   "cell_type": "code",
   "execution_count": 0,
   "metadata": {
    "colab": {},
    "colab_type": "code",
    "id": "USVrMws-dxtn",
    "outputId": "bc8a3c46-a1c4-4a5f-b72f-4e90e29b1432"
   },
   "outputs": [
    {
     "name": "stdout",
     "output_type": "stream",
     "text": [
      "['red', '나는 은색이 좋다네', 'blue', '핫핑크', '나는 금색이 좋아', '허연색', '까무잡잡한색']\n"
     ]
    }
   ],
   "source": [
    "# externd를 이용한 다중 값 추가\n",
    "colors.extend([\"허연색\", \"까무잡잡한색\"])\n",
    "print(colors)"
   ]
  },
  {
   "cell_type": "code",
   "execution_count": 0,
   "metadata": {
    "colab": {},
    "colab_type": "code",
    "id": "U2yLzblAdxtq",
    "outputId": "8d4ca55d-8ed4-4a64-c280-911cb4ac5ea3"
   },
   "outputs": [
    {
     "name": "stdout",
     "output_type": "stream",
     "text": [
      "5\n",
      "6\n"
     ]
    }
   ],
   "source": [
    "# index를 이용한 특정 값의 인덱스 반환\n",
    "print(colors.index(\"허연색\"))\n",
    "print(colors.index(\"까무잡잡한색\"))"
   ]
  },
  {
   "cell_type": "code",
   "execution_count": 0,
   "metadata": {
    "colab": {},
    "colab_type": "code",
    "id": "29VGE-AGdxtt",
    "outputId": "2c3b0a67-09bd-42f2-f666-83d920610778"
   },
   "outputs": [
    {
     "name": "stdout",
     "output_type": "stream",
     "text": [
      "1\n",
      "핫핑크\n",
      "['red', '나는 은색이 좋다네', 'blue', '허연색', '까무잡잡한색']\n"
     ]
    }
   ],
   "source": [
    "# count, pop, remove\n",
    "print(colors.count(\"핫핑크\")) # count를 이용한 특정 값의 개수 파악\n",
    "print(colors.pop(3)) # pop을 이용한 특정 위치의 값 추출\n",
    "colors.remove(\"나는 금색이 좋아\") # remove를 이용한 특정 값 삭제\n",
    "print(colors)"
   ]
  },
  {
   "cell_type": "markdown",
   "metadata": {
    "colab_type": "text",
    "id": "AotYOo6Edxtx"
   },
   "source": [
    "### (5) 세트\n",
    "\n",
    "    list와 유사하게 값의 나열. 하지만, 순서는 없다!"
   ]
  },
  {
   "cell_type": "code",
   "execution_count": 0,
   "metadata": {
    "colab": {},
    "colab_type": "code",
    "id": "ZXwd83e8dxty",
    "outputId": "ec89608a-e6ef-48c4-e169-1764a01fe81f"
   },
   "outputs": [
    {
     "name": "stdout",
     "output_type": "stream",
     "text": [
      "<class 'set'>\n",
      "<class 'set'>\n"
     ]
    }
   ],
   "source": [
    "a = {1, 2, 3}\n",
    "b = {3, 4, 5}\n",
    "print(type(a))\n",
    "print(type(b))"
   ]
  },
  {
   "cell_type": "code",
   "execution_count": 0,
   "metadata": {
    "colab": {},
    "colab_type": "code",
    "id": "2U6np8Xxdxt1",
    "outputId": "0cdf5f23-174d-4af2-9341-030182e5c86a"
   },
   "outputs": [
    {
     "name": "stdout",
     "output_type": "stream",
     "text": [
      "{1, 2, 3, 4, 5}\n",
      "{1, 2, 3, 4, 5}\n",
      "{3}\n",
      "{3}\n"
     ]
    }
   ],
   "source": [
    "union_a_b = a.union(b) # 합집합\n",
    "union_a_b_2 = a | b # 합집합\n",
    "inter_a_b = a.intersection(b) # 교집합\n",
    "inter_a_b_2 = a & b # 교집합\n",
    "\n",
    "print(union_a_b)\n",
    "print(union_a_b_2)\n",
    "print(inter_a_b)\n",
    "print(inter_a_b_2)"
   ]
  },
  {
   "cell_type": "markdown",
   "metadata": {
    "colab_type": "text",
    "id": "WPUd4RMbdxt3"
   },
   "source": [
    "### (6) 튜플\n",
    "\n",
    "    list와 유사하게 값의 나열. 하지만, []가 아닌 ()로 표현되며, 수정 붉가능(읽기전용)\n",
    "       \n",
    "    제공되는 method는 count(), index() 뿐\n",
    "    \n",
    "    참고로 여러 값을 다중 할당하는 경우 튜플이 사용 됨.!"
   ]
  },
  {
   "cell_type": "code",
   "execution_count": 0,
   "metadata": {
    "colab": {},
    "colab_type": "code",
    "id": "x_INJaofdxt4",
    "outputId": "7535df28-ca9d-457a-8f4d-dc34ad85e839"
   },
   "outputs": [
    {
     "name": "stdout",
     "output_type": "stream",
     "text": [
      "<class 'tuple'>\n"
     ]
    }
   ],
   "source": [
    "t = (1,2,3)\n",
    "print(type(t))"
   ]
  },
  {
   "cell_type": "code",
   "execution_count": 0,
   "metadata": {
    "colab": {},
    "colab_type": "code",
    "id": "D-TKyaZZdxt7",
    "outputId": "61de5712-98ac-439d-e65c-63251e176e2d"
   },
   "outputs": [
    {
     "name": "stdout",
     "output_type": "stream",
     "text": [
      "1 2\n",
      "1 2\n"
     ]
    }
   ],
   "source": [
    "a, b = 1, 2\n",
    "print(a, b)\n",
    "(a, b) = (1, 2)\n",
    "print(a, b)"
   ]
  },
  {
   "cell_type": "markdown",
   "metadata": {
    "colab_type": "text",
    "id": "nZE52VU6dxt-"
   },
   "source": [
    "### (7) 사전\n",
    "\n",
    "    키(key)와 값(value)의 쌍으로 구성된 자료형. 단, 인덱스는 지원하지 않는다."
   ]
  },
  {
   "cell_type": "code",
   "execution_count": 0,
   "metadata": {
    "colab": {},
    "colab_type": "code",
    "id": "3eRVQ7hcdxt_",
    "outputId": "41d1610c-f434-4711-9b75-1011a628ab1f"
   },
   "outputs": [
    {
     "name": "stdout",
     "output_type": "stream",
     "text": [
      "{'a': 1, 'b': 3, 'c': 5}\n",
      "<class 'dict'>\n"
     ]
    }
   ],
   "source": [
    "d = dict(a = 1, b = 3, c = 5)\n",
    "print(d)\n",
    "print(type(d))"
   ]
  },
  {
   "cell_type": "code",
   "execution_count": 0,
   "metadata": {
    "colab": {},
    "colab_type": "code",
    "id": "NitbG1L5dxuB",
    "outputId": "824a5d66-e083-47c2-f41c-f77919e31824"
   },
   "outputs": [
    {
     "name": "stdout",
     "output_type": "stream",
     "text": [
      "{'apple': '사과는 빨간색인가', 'banana': '바나나는 금색인가요?'}\n"
     ]
    }
   ],
   "source": [
    "color = {\"apple\" : \"사과는 빨간색인가\", \"banana\" : \"바나나는 금색인가요?\"}\n",
    "print(color)\n"
   ]
  },
  {
   "cell_type": "code",
   "execution_count": 0,
   "metadata": {
    "colab": {},
    "colab_type": "code",
    "id": "laUBybFIdxuD",
    "outputId": "8deced7d-b408-4e1a-954f-9d8149d5e942"
   },
   "outputs": [
    {
     "ename": "KeyError",
     "evalue": "0",
     "output_type": "error",
     "traceback": [
      "\u001b[1;31m---------------------------------------------------------------------------\u001b[0m",
      "\u001b[1;31mKeyError\u001b[0m                                  Traceback (most recent call last)",
      "\u001b[1;32m<ipython-input-40-5fc2423725cc>\u001b[0m in \u001b[0;36m<module>\u001b[1;34m\u001b[0m\n\u001b[0;32m      1\u001b[0m \u001b[1;31m# index의 미지원\u001b[0m\u001b[1;33m\u001b[0m\u001b[1;33m\u001b[0m\u001b[1;33m\u001b[0m\u001b[0m\n\u001b[1;32m----> 2\u001b[1;33m \u001b[0mcolor\u001b[0m\u001b[1;33m[\u001b[0m\u001b[1;36m0\u001b[0m\u001b[1;33m]\u001b[0m\u001b[1;33m\u001b[0m\u001b[1;33m\u001b[0m\u001b[0m\n\u001b[0m",
      "\u001b[1;31mKeyError\u001b[0m: 0"
     ]
    }
   ],
   "source": [
    "# index의 미지원\n",
    "color[0]"
   ]
  },
  {
   "cell_type": "code",
   "execution_count": 0,
   "metadata": {
    "colab": {},
    "colab_type": "code",
    "id": "B3CXyW3PdxuF",
    "outputId": "7c3d675a-2f32-4dd6-9ec7-cb46778deb2a"
   },
   "outputs": [
    {
     "data": {
      "text/plain": [
       "'사과는 빨간색인가'"
      ]
     },
     "execution_count": 42,
     "metadata": {
      "tags": []
     },
     "output_type": "execute_result"
    }
   ],
   "source": [
    "color[\"apple\"]"
   ]
  },
  {
   "cell_type": "markdown",
   "metadata": {
    "colab_type": "text",
    "id": "IkrZ5ACrdxuI"
   },
   "source": [
    "#### 새로운 값의 할당과 값의 변경"
   ]
  },
  {
   "cell_type": "code",
   "execution_count": 0,
   "metadata": {
    "colab": {},
    "colab_type": "code",
    "id": "0p3Q7ogOdxuK",
    "outputId": "a0803667-1f36-428c-ddb5-9b7cf8467499"
   },
   "outputs": [
    {
     "data": {
      "text/plain": [
       "{'apple': '사과는 빨간색인가', 'banana': '바나나는 금색인가요?', 'melon': '이거 스펠링 맞나..'}"
      ]
     },
     "execution_count": 43,
     "metadata": {
      "tags": []
     },
     "output_type": "execute_result"
    }
   ],
   "source": [
    "# 변수[\"새로운 키\"] = 값\n",
    "color[\"melon\"] = \"이거 스펠링 맞나..\"\n",
    "color"
   ]
  },
  {
   "cell_type": "code",
   "execution_count": 0,
   "metadata": {
    "colab": {},
    "colab_type": "code",
    "id": "nj93rAw1dxuM",
    "outputId": "934d93eb-2355-4eb3-deed-706eb6afb98b"
   },
   "outputs": [
    {
     "data": {
      "text/plain": [
       "{'apple': '사과는 빨간색인가', 'banana': '바나나는 금색인가요?', 'melon': '맞는 것 같기도 하고..'}"
      ]
     },
     "execution_count": 44,
     "metadata": {
      "tags": []
     },
     "output_type": "execute_result"
    }
   ],
   "source": [
    "color[\"melon\"] = \"맞는 것 같기도 하고..\"\n",
    "color"
   ]
  },
  {
   "cell_type": "markdown",
   "metadata": {
    "colab_type": "text",
    "id": "PNEx8W7vdxuP"
   },
   "source": [
    "#### items()  keys() values()\n",
    "    itemss() : 사전 값 반환\n",
    "    \n",
    "    keys() : 키 반환\n",
    "    \n",
    "    values() : 값 반환"
   ]
  },
  {
   "cell_type": "code",
   "execution_count": 0,
   "metadata": {
    "colab": {},
    "colab_type": "code",
    "id": "BHD2YogmdxuQ",
    "outputId": "0c6a5a05-9c47-49d2-9fe4-3594f68ae9e9"
   },
   "outputs": [
    {
     "name": "stdout",
     "output_type": "stream",
     "text": [
      "('apple', '사과는 빨간색인가')\n",
      "('banana', '바나나는 금색인가요?')\n",
      "('melon', '맞는 것 같기도 하고..')\n"
     ]
    }
   ],
   "source": [
    "for temp in color.items():\n",
    "    print(temp)"
   ]
  },
  {
   "cell_type": "code",
   "execution_count": 0,
   "metadata": {
    "colab": {},
    "colab_type": "code",
    "id": "7EakWwvWdxuT",
    "outputId": "dabadd86-11f5-4768-c3ed-78fb52d948d3"
   },
   "outputs": [
    {
     "name": "stdout",
     "output_type": "stream",
     "text": [
      "apple\n",
      "banana\n",
      "melon\n"
     ]
    }
   ],
   "source": [
    "for temp in color.keys():\n",
    "    print(temp)"
   ]
  },
  {
   "cell_type": "code",
   "execution_count": 0,
   "metadata": {
    "colab": {},
    "colab_type": "code",
    "id": "M-ORQxajdxuW",
    "outputId": "9f3d45ef-45a5-443c-ae5f-c2249a7910a0"
   },
   "outputs": [
    {
     "name": "stdout",
     "output_type": "stream",
     "text": [
      "사과는 빨간색인가\n",
      "바나나는 금색인가요?\n",
      "맞는 것 같기도 하고..\n"
     ]
    }
   ],
   "source": [
    "for temp in color.values():\n",
    "    print(temp)"
   ]
  },
  {
   "cell_type": "markdown",
   "metadata": {
    "colab_type": "text",
    "id": "o8c9Vid6dxuY"
   },
   "source": [
    "## 2. 함수\n",
    "\n",
    "함수 선언 문법\n",
    "   \n",
    "def <함수명>(인자1, 인자2, ...N):\n",
    "\n",
    "    <구문>\n",
    "    \n",
    "    return <반환값>"
   ]
  },
  {
   "cell_type": "code",
   "execution_count": 0,
   "metadata": {
    "colab": {},
    "colab_type": "code",
    "id": "crsRRlIWdxuY",
    "outputId": "4d4a4ed1-e51b-469d-b2ed-3d1369dce6b3"
   },
   "outputs": [
    {
     "name": "stdout",
     "output_type": "stream",
     "text": [
      "<function Times at 0x000001E058EF3488>\n",
      "20\n"
     ]
    }
   ],
   "source": [
    "def Times(a, b):\n",
    "    return a + b\n",
    "\n",
    "print(Times)\n",
    "print(Times(10,10))"
   ]
  },
  {
   "cell_type": "markdown",
   "metadata": {
    "colab_type": "text",
    "id": "G73MtV3Pdxua"
   },
   "source": [
    "#### return\n",
    "\n",
    "함수를 종료하고 해당 함수를 호출한 곳으로 되돌아 감.\n",
    "\n",
    "어떤 종류의 객체도 반환 가능 & 여러 값을 튜플로 묶어서 처리할 수 있음"
   ]
  },
  {
   "cell_type": "code",
   "execution_count": 0,
   "metadata": {
    "colab": {},
    "colab_type": "code",
    "id": "ZIjrJcMhdxub",
    "outputId": "fbad4167-1f14-4f7c-f4b4-37df8f1f7877"
   },
   "outputs": [
    {
     "name": "stdout",
     "output_type": "stream",
     "text": [
      "None\n"
     ]
    }
   ],
   "source": [
    "# 반환 값(return)이 없는 경우\n",
    "def setValue(newValue):\n",
    "    x = newValue\n",
    "    \n",
    "retval = setValue(10)\n",
    "print(retval)"
   ]
  },
  {
   "cell_type": "code",
   "execution_count": 0,
   "metadata": {
    "colab": {},
    "colab_type": "code",
    "id": "cANgCbYgdxud",
    "outputId": "0021f13c-1fdc-4e2a-d3f5-928b858bd825"
   },
   "outputs": [
    {
     "name": "stdout",
     "output_type": "stream",
     "text": [
      "10\n"
     ]
    }
   ],
   "source": [
    "def setValue(newValue):\n",
    "    x = newValue\n",
    "    return x\n",
    "retval = setValue(10)\n",
    "print(retval)"
   ]
  },
  {
   "cell_type": "code",
   "execution_count": 0,
   "metadata": {
    "colab": {},
    "colab_type": "code",
    "id": "R5qjpZYndxuf",
    "outputId": "da9fdd60-26ca-498c-8934-e15ae6cda98b"
   },
   "outputs": [
    {
     "name": "stdout",
     "output_type": "stream",
     "text": [
      "(2, 1)\n",
      "2   1\n"
     ]
    }
   ],
   "source": [
    "# 튜플을 이용한 여러 값 return\n",
    "\n",
    "def swap(x, y):\n",
    "    return y, x\n",
    "\n",
    "print(swap(1,2))\n",
    "\n",
    "a, b = swap(1, 2) # 튜플을 이용한 여러 값 반환\n",
    "print(a, \" \", b)"
   ]
  },
  {
   "cell_type": "code",
   "execution_count": 0,
   "metadata": {
    "colab": {},
    "colab_type": "code",
    "id": "a3ePgpHFdxui",
    "outputId": "b68c915f-a9aa-42cc-8d62-598df7abf444"
   },
   "outputs": [
    {
     "data": {
      "text/plain": [
       "['토나오는맛']"
      ]
     },
     "execution_count": 52,
     "metadata": {
      "tags": []
     },
     "output_type": "execute_result"
    }
   ],
   "source": [
    "# 입력받은 두 개의 리스트에서 교집합을 구한 후 리스트로 return\n",
    "def intersect(prelist, postlist):\n",
    "    result_list = []\n",
    "    for x in prelist:\n",
    "        if x in postlist and x not in result_list:\n",
    "            result_list.append(x)\n",
    "    return result_list\n",
    "\n",
    "list1 = [\"빨간맛\", \"이상한맛\", \"토나오는맛\"]\n",
    "list2 = [\"파랑맛\", \"토나오는맛\",\"노랑맛\"]\n",
    "intersect(list1,list2)"
   ]
  },
  {
   "cell_type": "markdown",
   "metadata": {
    "colab_type": "text",
    "id": "AxzC1X0Hdxup"
   },
   "source": [
    "### (1) 스코핑 룰\n",
    "\n",
    "함수는 별도의 namespace를 가짐. \n",
    "\n",
    "\n",
    "<LGB 규칙> ---> `L > G > B`\n",
    "\n",
    "함수 내부의 `지역 영역(Local scopre)`\n",
    "\n",
    "함수 외부의 `전역 영역(Global scopre)`\n",
    "\n",
    "파이썬 자체의 정의내용에 대한 `내장 영역(Built-in scope)`."
   ]
  },
  {
   "cell_type": "code",
   "execution_count": 0,
   "metadata": {
    "colab": {},
    "colab_type": "code",
    "id": "vAf-zHLEdxuq",
    "outputId": "b2f22f96-c3cd-4f57-ec12-7c2154d242c3"
   },
   "outputs": [
    {
     "name": "stdout",
     "output_type": "stream",
     "text": [
      "2\n"
     ]
    }
   ],
   "source": [
    "# 함수 내 지역 영역에 해당 이름이 없기 때문에 전역 영역에서 찾아옴\n",
    "x = 1\n",
    "def func(a):\n",
    "    return a + x\n",
    "print(func(1))"
   ]
  },
  {
   "cell_type": "code",
   "execution_count": 0,
   "metadata": {
    "colab": {},
    "colab_type": "code",
    "id": "BFg7IPNydxut",
    "outputId": "ef7cd216-bbe9-4aaa-a88f-a6298c3c91dc"
   },
   "outputs": [
    {
     "name": "stdout",
     "output_type": "stream",
     "text": [
      "102\n",
      "1\n"
     ]
    }
   ],
   "source": [
    "# 함수 내 지역 영역에 x라는 이름이 있는 경우, 지역 영역의 변수 사용\n",
    "def func2(a):\n",
    "    x = 100\n",
    "    return a + x\n",
    "print(func2(2))\n",
    "print(x)"
   ]
  },
  {
   "cell_type": "code",
   "execution_count": 0,
   "metadata": {
    "colab": {},
    "colab_type": "code",
    "id": "Da-2p7nBdxuv",
    "outputId": "054a57d2-202a-4d82-86ee-51df9fa541f8"
   },
   "outputs": [
    {
     "name": "stdout",
     "output_type": "stream",
     "text": [
      "3\n",
      "2\n"
     ]
    }
   ],
   "source": [
    "# 만약 지역 영역에서 전역 영역의 변수를 사용할 경우 \n",
    "g = 1\n",
    "def testScope(a):\n",
    "    global g\n",
    "    g = 2\n",
    "    return g + a\n",
    "\n",
    "print(testScope(1))\n",
    "print(g)"
   ]
  },
  {
   "cell_type": "markdown",
   "metadata": {
    "colab_type": "text",
    "id": "CS5iV28pdxu1"
   },
   "source": [
    "### (2) 함수 인자"
   ]
  },
  {
   "cell_type": "markdown",
   "metadata": {
    "colab_type": "text",
    "id": "AH1szaVXdxu2"
   },
   "source": [
    "#### 기본 인자 값"
   ]
  },
  {
   "cell_type": "code",
   "execution_count": 0,
   "metadata": {
    "colab": {},
    "colab_type": "code",
    "id": "Ax7AVHupdxu3",
    "outputId": "fc316f3e-b652-48e0-d2eb-8bf362ad48a4"
   },
   "outputs": [
    {
     "name": "stdout",
     "output_type": "stream",
     "text": [
      "200\n",
      "2\n",
      "100\n"
     ]
    }
   ],
   "source": [
    "# 기본 값 설정\n",
    "def Times(a = 10, b = 20):\n",
    "    return a * b\n",
    "print(Times())\n",
    "print(Times(a = 1, b = 2))\n",
    "print(Times(5)) # a에만 할당"
   ]
  },
  {
   "cell_type": "markdown",
   "metadata": {
    "colab_type": "text",
    "id": "AVFsZrB_dxu6"
   },
   "source": [
    "#### 가변 인자 리스트\n",
    "\n",
    "가변 인자 리스트는 튜플로 처리 됨"
   ]
  },
  {
   "cell_type": "code",
   "execution_count": 0,
   "metadata": {
    "colab": {},
    "colab_type": "code",
    "id": "E5lO8aEZdxu7",
    "outputId": "b2ae0fe5-b08e-4021-9b11-0dd2731a6ba0"
   },
   "outputs": [
    {
     "name": "stdout",
     "output_type": "stream",
     "text": [
      "<class 'tuple'>\n"
     ]
    }
   ],
   "source": [
    "def test(*args):\n",
    "    print(type(args))\n",
    "test(1,2,3,4,5)"
   ]
  },
  {
   "cell_type": "code",
   "execution_count": 0,
   "metadata": {
    "colab": {},
    "colab_type": "code",
    "id": "6Ut7n5EWdxu-",
    "outputId": "23e66f8a-3fc5-492d-a10b-d87eb681a291"
   },
   "outputs": [
    {
     "data": {
      "text/plain": [
       "['H', 'A', 'M', 'E', 'G', 'S', 'P']"
      ]
     },
     "execution_count": 58,
     "metadata": {
      "tags": []
     },
     "output_type": "execute_result"
    }
   ],
   "source": [
    "def union2(*hehe):\n",
    "    res = []\n",
    "    for item in hehe:\n",
    "        for x in item:\n",
    "            if not x in res:\n",
    "                res.append(x)\n",
    "    return res\n",
    "\n",
    "union2(\"HAM\", \"EGG\", \"SPAM\")"
   ]
  },
  {
   "cell_type": "markdown",
   "metadata": {
    "colab_type": "text",
    "id": "SucwKGd7dxvE"
   },
   "source": [
    "### (3) 람다 함수\n",
    "\n",
    "이름 없는 함수... 메모리 공간에 적재되지 않고 사용 후 즉시 삭제 됨\n",
    "\n",
    "기본 형태 : lambda 인자 : <구문>\n",
    "\n",
    "인자1, 인자2, 인자x,... : 출력식1 조건문 else 출력식2\n",
    "\n",
    "**if 조건식을 사용할 경우 반드시 else 문 작성해야 함**"
   ]
  },
  {
   "cell_type": "code",
   "execution_count": 0,
   "metadata": {
    "colab": {},
    "colab_type": "code",
    "id": "rkfaY3KddxvG",
    "outputId": "f929c0b4-0de9-4118-867c-12bc01027615"
   },
   "outputs": [
    {
     "name": "stdout",
     "output_type": "stream",
     "text": [
      "6\n",
      "9\n"
     ]
    }
   ],
   "source": [
    "g = lambda x, y : x * y\n",
    "print(g(2, 3))\n",
    "print((lambda x : x* x)(3))"
   ]
  },
  {
   "cell_type": "markdown",
   "metadata": {
    "colab_type": "text",
    "id": "FmVoYAVJdxvI"
   },
   "source": [
    "#### map\n",
    "\n",
    "인수로 입력 받은 리스트의 원소를 하나씩 입력받은 함수에 적용시키고 결과를 새로운 리스트로 넘김"
   ]
  },
  {
   "cell_type": "code",
   "execution_count": 0,
   "metadata": {
    "colab": {},
    "colab_type": "code",
    "id": "UzFH1icvdxvJ",
    "outputId": "214ad34e-fb79-466c-e2ba-508a021c5bae"
   },
   "outputs": [
    {
     "name": "stdout",
     "output_type": "stream",
     "text": [
      "[1, 4, 9, 16, 25]\n",
      "[1, 4, 9, 16, 25]\n"
     ]
    }
   ],
   "source": [
    "def sqrt(x):\n",
    "    x = x*x    \n",
    "    return x\n",
    "\n",
    "print(list(map(sqrt, [1,2,3,4,5])))\n",
    "print(list(map(lambda x: x ** 2, [1,2,3,4,5])))"
   ]
  },
  {
   "cell_type": "code",
   "execution_count": 0,
   "metadata": {
    "colab": {},
    "colab_type": "code",
    "id": "CcNIjzTCdxvM",
    "outputId": "65d1f3a2-4c21-4b53-afac-e6c615cdc1d7"
   },
   "outputs": [
    {
     "name": "stdout",
     "output_type": "stream",
     "text": [
      "example 1 :  [1, 'OK', 3, 'OK', 5, 'OK', 7, 'OK', 9, 'OK']\n",
      "example 2 :  ['First', 'Second', 9, 16, 25, 36, 49, 64, 81, 100]\n",
      "example 3 :  [3, 6, 9, 11, 15, 18, 21, 24, 29]\n"
     ]
    }
   ],
   "source": [
    "testArr1 = [1,2,3,4,5,6,7,8,9,10]\n",
    "testArr2 = [2,4,6,7,10,12,14,16,20]\n",
    "\n",
    "outArr1 = list(map(lambda x : \"OK\" if x % 2 == 0 else x, testArr1))\n",
    "\n",
    "outArr2 = list(map(lambda x : \"First\" if x == 1 else \"Second\" if x == 2 else x * x, testArr1))\n",
    "\n",
    "outArr3 = list(map(lambda x, y : x + y, testArr1, testArr2))\n",
    "\n",
    "print(\"example 1 : \", outArr1)\n",
    "print(\"example 2 : \", outArr2)\n",
    "print(\"example 3 : \", outArr3)"
   ]
  },
  {
   "cell_type": "markdown",
   "metadata": {
    "colab_type": "text",
    "id": "dyu0Eoq0IWw1"
   },
   "source": [
    "## 3. 클래스"
   ]
  },
  {
   "cell_type": "markdown",
   "metadata": {
    "colab_type": "text",
    "id": "5YbgTJ18IdvU"
   },
   "source": [
    "### 클래스 선언\n"
   ]
  },
  {
   "cell_type": "code",
   "execution_count": 0,
   "metadata": {
    "colab": {
     "base_uri": "https://localhost:8080/",
     "height": 35
    },
    "colab_type": "code",
    "executionInfo": {
     "elapsed": 716,
     "status": "ok",
     "timestamp": 1567329823428,
     "user": {
      "displayName": "Jinwoo lee",
      "photoUrl": "",
      "userId": "12621998573709487664"
     },
     "user_tz": -540
    },
    "id": "hnnPACRq1fOx",
    "outputId": "14e67362-5c08-48f8-d821-21e4903f660c"
   },
   "outputs": [
    {
     "name": "stdout",
     "output_type": "stream",
     "text": [
      "My Name is Default Name\n"
     ]
    }
   ],
   "source": [
    "class Person: # 클래스 정의\n",
    "    name = \"Default Name\"  # 멤버 변수\n",
    "    def Person_print(self):      # 멤버 메서드\n",
    "        print(\"My Name is {0}\".format(self.name))\n",
    "\n",
    "p1 = Person() # 인스턴스 생성\n",
    "p1.Person_print() # 멤버 변수값 출력"
   ]
  },
  {
   "cell_type": "markdown",
   "metadata": {
    "colab_type": "text",
    "id": "bl-Tei-fI1wT"
   },
   "source": [
    "### 생성자 소멸자"
   ]
  },
  {
   "cell_type": "code",
   "execution_count": 0,
   "metadata": {
    "colab": {
     "base_uri": "https://localhost:8080/",
     "height": 53
    },
    "colab_type": "code",
    "executionInfo": {
     "elapsed": 611,
     "status": "ok",
     "timestamp": 1567329854997,
     "user": {
      "displayName": "Jinwoo lee",
      "photoUrl": "",
      "userId": "12621998573709487664"
     },
     "user_tz": -540
    },
    "id": "aqXcmvowIp_V",
    "outputId": "e8ebc360-eed9-445a-e71f-cc9aa152393a"
   },
   "outputs": [
    {
     "name": "stdout",
     "output_type": "stream",
     "text": [
      "Class is created! Value  =  10\n",
      "Class is deleted\n"
     ]
    }
   ],
   "source": [
    "class MyClass:        \n",
    "    def __init__(self, value): # 생성자 메서드\n",
    "        self.value = value\n",
    "        print(\"Class is created! Value  = \", value)\n",
    "    \n",
    "    def __del__(self): # 소멸자 메서드\n",
    "        print(\"Class is deleted\")\n",
    "\n",
    "        \n",
    "def foo():\n",
    "    d = MyClass(10)\n",
    "    \n",
    "foo()"
   ]
  },
  {
   "cell_type": "markdown",
   "metadata": {
    "colab_type": "text",
    "id": "o5l7zv4-J5vW"
   },
   "source": [
    "## 4. Numpy"
   ]
  },
  {
   "cell_type": "markdown",
   "metadata": {
    "colab_type": "text",
    "id": "LK8Mo5bLKUgo"
   },
   "source": [
    "### Numpy 배열의 기초\n",
    "\n",
    "무작위 수를 이용한 1차원, 2차원, 3차원 배열 생성"
   ]
  },
  {
   "cell_type": "code",
   "execution_count": 0,
   "metadata": {
    "colab": {
     "base_uri": "https://localhost:8080/",
     "height": 395
    },
    "colab_type": "code",
    "executionInfo": {
     "elapsed": 623,
     "status": "ok",
     "timestamp": 1567330690188,
     "user": {
      "displayName": "Jinwoo lee",
      "photoUrl": "",
      "userId": "12621998573709487664"
     },
     "user_tz": -540
    },
    "id": "KsF11DOdKDCf",
    "outputId": "2d3c551d-ce4b-458e-d4ea-f73e67439986"
   },
   "outputs": [
    {
     "name": "stdout",
     "output_type": "stream",
     "text": [
      "[5 0 3 3 7 9] # 1차원 배열 \n",
      "\n",
      "[[3 5 2 4]\n",
      " [7 6 8 8]\n",
      " [1 6 7 7]] # 2차원 배열 \n",
      "\n",
      "[[[8 1 5 9 8]\n",
      "  [9 4 3 0 3]\n",
      "  [5 0 2 3 8]\n",
      "  [1 3 3 3 7]]\n",
      "\n",
      " [[0 1 9 9 0]\n",
      "  [4 7 3 2 7]\n",
      "  [2 0 0 4 5]\n",
      "  [5 6 8 4 1]]\n",
      "\n",
      " [[4 9 8 1 1]\n",
      "  [7 9 9 3 6]\n",
      "  [7 2 0 3 5]\n",
      "  [9 4 4 6 4]]] # 3차원 배열 \n",
      "\n"
     ]
    }
   ],
   "source": [
    "import numpy as np\n",
    "\n",
    "np.random.seed(0)\n",
    "\n",
    "x1 = np.random.randint(10, size = 6) # 1차원 배열\n",
    "x2 = np.random.randint(10, size = (3, 4)) # 2차원 배열\n",
    "x3 = np.random.randint(10, size = (3, 4, 5)) # 3차원 배열\n",
    "\n",
    "print(x1, \"# 1차원 배열 \\n\")\n",
    "print(x2, \"# 2차원 배열 \\n\")\n",
    "print(x3, \"# 3차원 배열 \\n\")"
   ]
  },
  {
   "cell_type": "markdown",
   "metadata": {
    "colab_type": "text",
    "id": "NvPALHgSM5me"
   },
   "source": [
    "### 배열 슬라이싱\n",
    "\n",
    "파이썬 리스트의 구문을 따른다.\n",
    "\n",
    "```\n",
    "x[start:stop:step]\n",
    "```\n"
   ]
  },
  {
   "cell_type": "code",
   "execution_count": 0,
   "metadata": {
    "colab": {
     "base_uri": "https://localhost:8080/",
     "height": 197
    },
    "colab_type": "code",
    "executionInfo": {
     "elapsed": 801,
     "status": "ok",
     "timestamp": 1567331220023,
     "user": {
      "displayName": "Jinwoo lee",
      "photoUrl": "",
      "userId": "12621998573709487664"
     },
     "user_tz": -540
    },
    "id": "MGEYSOUbNNd4",
    "outputId": "8fa76ab6-90b5-4af9-a5e6-42ac37093988"
   },
   "outputs": [
    {
     "name": "stdout",
     "output_type": "stream",
     "text": [
      "[0 1 2 3 4 5 6 7 8 9] \n",
      "\n",
      "[0 1 2 3 4]  ----> x[:5]  첫 다섯 개 요소\n",
      "\n",
      "[5 6 7 8 9]  ----> x[5:]  인덱스 5 다음 요소\n",
      "\n",
      "[0 2 4 6 8]  ----> x[::2]  하나 걸러 하나씩의 요소\n",
      "\n",
      "[1 3 5 7 9]  ----> x[1::2]  인덱스 1에서 시작해 하나 걸러 하나씩\n",
      "\n"
     ]
    }
   ],
   "source": [
    "x = np.arange(10) # 배열 생성(0부터 9까지)\n",
    "print(x, \"\\n\")\n",
    "\n",
    "print(x[:5], \" ----> x[:5]  첫 다섯 개 요소\\n\")\n",
    "\n",
    "print(x[5:], \" ----> x[5:]  인덱스 5 다음 요소\\n\")\n",
    "\n",
    "print(x[::2], \" ----> x[::2]  하나 걸러 하나씩의 요소\\n\")\n",
    "\n",
    "print(x[1::2], \" ----> x[1::2]  인덱스 1에서 시작해 하나 걸러 하나씩\\n\")\n"
   ]
  },
  {
   "cell_type": "markdown",
   "metadata": {
    "colab_type": "text",
    "id": "EGw70AhdONx6"
   },
   "source": [
    "### 배열 재구조화\n",
    "\n",
    "**reshape**를 활용. (newaxis를 통한 방법도 있지만.. 필요하다면 찾아볼 것)"
   ]
  },
  {
   "cell_type": "code",
   "execution_count": 0,
   "metadata": {
    "colab": {
     "base_uri": "https://localhost:8080/",
     "height": 107
    },
    "colab_type": "code",
    "executionInfo": {
     "elapsed": 800,
     "status": "ok",
     "timestamp": 1567332147830,
     "user": {
      "displayName": "Jinwoo lee",
      "photoUrl": "",
      "userId": "12621998573709487664"
     },
     "user_tz": -540
    },
    "id": "eaoLSpJoOPRx",
    "outputId": "6635fd08-f82f-41ec-a742-43c40b3f8d55"
   },
   "outputs": [
    {
     "name": "stdout",
     "output_type": "stream",
     "text": [
      "[1 2 3 4 5 6 7 8 9] 1차원 배열(9,)을 \n",
      "\n",
      "[[1 2 3]\n",
      " [4 5 6]\n",
      " [7 8 9]] 2차원 배열(3, 3)로 재구조화\n"
     ]
    }
   ],
   "source": [
    "grid = np.arange(1, 10)\n",
    "\n",
    "print(grid, \"1차원 배열(9,)을 \\n\")\n",
    "\n",
    "grid2 = grid.reshape((3, 3))\n",
    "\n",
    "print(grid2, \"2차원 배열(3, 3)로 재구조화\")"
   ]
  },
  {
   "cell_type": "markdown",
   "metadata": {
    "colab_type": "text",
    "id": "9hzCsSBcRRan"
   },
   "source": [
    "### 배열 연결 및 분할\n",
    "\n",
    "#### concatenate"
   ]
  },
  {
   "cell_type": "code",
   "execution_count": 0,
   "metadata": {
    "colab": {
     "base_uri": "https://localhost:8080/",
     "height": 71
    },
    "colab_type": "code",
    "executionInfo": {
     "elapsed": 609,
     "status": "ok",
     "timestamp": 1567332341773,
     "user": {
      "displayName": "Jinwoo lee",
      "photoUrl": "",
      "userId": "12621998573709487664"
     },
     "user_tz": -540
    },
    "id": "AymojEW7RWoZ",
    "outputId": "9603cfdd-d0bf-4dc2-8c34-0a8054887696"
   },
   "outputs": [
    {
     "name": "stdout",
     "output_type": "stream",
     "text": [
      "[1 2 3 3 2 1] \n",
      "\n",
      "[ 1  2  3  3  2  1 99 99 99]\n"
     ]
    }
   ],
   "source": [
    "x = np.array([1, 2, 3])\n",
    "y = np.array([3, 2, 1])\n",
    "\n",
    "print(np.concatenate([x, y]), \"\\n\") \n",
    "\n",
    "# 2개 이상의 배열 연결 가능\n",
    "z = [99, 99, 99]\n",
    "print(np.concatenate([x, y, z]))"
   ]
  },
  {
   "cell_type": "code",
   "execution_count": 0,
   "metadata": {
    "colab": {
     "base_uri": "https://localhost:8080/",
     "height": 143
    },
    "colab_type": "code",
    "executionInfo": {
     "elapsed": 622,
     "status": "ok",
     "timestamp": 1567333631334,
     "user": {
      "displayName": "Jinwoo lee",
      "photoUrl": "",
      "userId": "12621998573709487664"
     },
     "user_tz": -540
    },
    "id": "nC7FMevzSv1o",
    "outputId": "b73e6edc-88dd-41df-8546-6f11fea05267"
   },
   "outputs": [
    {
     "name": "stdout",
     "output_type": "stream",
     "text": [
      "[[1 2 3]\n",
      " [4 5 6]\n",
      " [1 2 3]\n",
      " [4 5 6]] \n",
      "\n",
      "[[1 2 3 1 2 3]\n",
      " [4 5 6 4 5 6]]\n"
     ]
    }
   ],
   "source": [
    "# 2차원 배열\n",
    "\n",
    "grid = np.array([[1, 2, 3], \n",
    "                [4, 5, 6]])\n",
    "\n",
    "# 첫 번째 축을 따라 연결(행)\n",
    "print(np.concatenate([grid, grid], axis=0), \"\\n\")\n",
    "\n",
    "# 두 번째 축을 따라 연결(열)\n",
    "print(np.concatenate([grid, grid], axis=1))"
   ]
  },
  {
   "cell_type": "markdown",
   "metadata": {
    "colab_type": "text",
    "id": "Mn7KxgJdXomY"
   },
   "source": [
    "### 배열 연산:브로드캐스팅\n"
   ]
  },
  {
   "cell_type": "code",
   "execution_count": 0,
   "metadata": {
    "colab": {
     "base_uri": "https://localhost:8080/",
     "height": 35
    },
    "colab_type": "code",
    "executionInfo": {
     "elapsed": 611,
     "status": "ok",
     "timestamp": 1567334148723,
     "user": {
      "displayName": "Jinwoo lee",
      "photoUrl": "",
      "userId": "12621998573709487664"
     },
     "user_tz": -540
    },
    "id": "HqW3fAHmZNGR",
    "outputId": "26ad09f5-407b-42cc-a4b5-6c709b34fb91"
   },
   "outputs": [
    {
     "data": {
      "text/plain": [
       "array([5, 6, 7])"
      ]
     },
     "execution_count": 29,
     "metadata": {
      "tags": []
     },
     "output_type": "execute_result"
    }
   ],
   "source": [
    "a = np.array([0, 1, 2])\n",
    "b = np.array([5, 5, 5])\n",
    "\n",
    "a + b"
   ]
  },
  {
   "cell_type": "markdown",
   "metadata": {
    "colab_type": "text",
    "id": "ph5GLjozZZa2"
   },
   "source": [
    "**브로드캐스팅을 사용하면 서로 다른 크기의 배열에서 계산을 수행할 수 있다.**"
   ]
  },
  {
   "cell_type": "code",
   "execution_count": 0,
   "metadata": {
    "colab": {
     "base_uri": "https://localhost:8080/",
     "height": 35
    },
    "colab_type": "code",
    "executionInfo": {
     "elapsed": 616,
     "status": "ok",
     "timestamp": 1567334214415,
     "user": {
      "displayName": "Jinwoo lee",
      "photoUrl": "",
      "userId": "12621998573709487664"
     },
     "user_tz": -540
    },
    "id": "IGBcZjZkZfvH",
    "outputId": "a00297ad-03ef-4a5b-ffda-93ec7693178f"
   },
   "outputs": [
    {
     "data": {
      "text/plain": [
       "array([5, 6, 7])"
      ]
     },
     "execution_count": 30,
     "metadata": {
      "tags": []
     },
     "output_type": "execute_result"
    }
   ],
   "source": [
    "a + 5"
   ]
  },
  {
   "cell_type": "markdown",
   "metadata": {
    "colab_type": "text",
    "id": "v9zHB_4BZ1hv"
   },
   "source": [
    "![대체 텍스트](https://jakevdp.github.io/PythonDataScienceHandbook/figures/02.05-broadcasting.png)\n",
    "\n",
    "\n",
    "**브로드캐스팅 규칙**\n",
    "\n",
    "\n",
    "\n",
    "1.   두 배열의 차원 수가 다르면 더 작은 수의 차원을 가진 배열 형상의 앞쪽(왼쪽)을 1로 채운다\n",
    "2.   두 배열의 형상이 어떤 차원에서도 일치하지 않는다면 해당 차원의 형상이 1인 배열이 다른 형상과 일치하도록 늘어난다.\n",
    "3.   임의의 차원에서 크기가 일치하지도 않고 1도 아니라면 오류 발생\n",
    "\n",
    "**자세한 예제는 [여기](https://sacko.tistory.com/16?category=630829)를 참고할 것 **"
   ]
  },
  {
   "cell_type": "markdown",
   "metadata": {
    "colab_type": "text",
    "id": "RAupMIsQdxvO"
   },
   "source": [
    "# 간단한 Python 기초 과제\n",
    "\n",
    "\n",
    "## 모든 과제는 반드시 **주석을 작성할 것** \n",
    "\n",
    "## 없을 시 0점 처리"
   ]
  },
  {
   "cell_type": "markdown",
   "metadata": {
    "colab_type": "text",
    "id": "2QI9BrondxvP"
   },
   "source": [
    "## 과제 1\n",
    "\n",
    "We add a **Leap Day(윤년)** on February 29, almost *every four years*. The leap day is an extra, or intercalary day and we add it to the shortest month of the year, February.\n",
    "In the Gregorian calendar three criteria must be taken into account to identify leap years:\n",
    "\n",
    "\n",
    "\n",
    "*   The year can be evenly divided by 4, is a leap year, unless:\n",
    "  *   The year can be evenly divided by 100, it is NOT a leap year, unless:\n",
    "      *   The year is also evenly divisible by 400. Then it is a leap year.\n",
    "\n",
    "This means that in the Gregorian calendar, the years **2000 and 2400 are leap years**, while **1800, 1900, 2100, 2200, 2300 and 2500 are NOT leap years**\n",
    "\n",
    "### **윤년 계산하는 프로그램입니다.**\n",
    "\n",
    "---\n",
    "\n",
    "**입력 값**\n",
    "\n",
    "\n",
    "```\n",
    "year = [2000, 2100, 2400, 3455, 1990, 1992, 1800, 1900, 2200, 2300, 2500]\n",
    "```\n",
    "\n",
    "---\n",
    "\n",
    "**출력 예시**\n",
    "\n",
    "```\n",
    "[2000, 2100, 2400, 3455, 1990, 1992, 1800, 1900, 2200, 2300, 2500]\n",
    "\n",
    "True\n",
    "False\n",
    "True\n",
    "False\n",
    "False\n",
    "True\n",
    "False\n",
    "False\n",
    "False\n",
    "False\n",
    "False\n",
    "```"
   ]
  },
  {
   "cell_type": "code",
   "execution_count": 18,
   "metadata": {
    "colab": {},
    "colab_type": "code",
    "id": "T9Mt_IFS2eb4"
   },
   "outputs": [
    {
     "name": "stdout",
     "output_type": "stream",
     "text": [
      "[2000, 2100, 2400, 3455, 1990, 1992, 1800, 1900, 2200, 2300, 2500]\n",
      "True\n",
      "False\n",
      "True\n",
      "False\n",
      "False\n",
      "True\n",
      "False\n",
      "False\n",
      "False\n",
      "False\n",
      "False\n"
     ]
    }
   ],
   "source": [
    "year = [2000, 2100, 2400, 3455, 1990, 1992, 1800, 1900, 2200, 2300, 2500]\n",
    "\n",
    "def is_leap(year):\n",
    "    if year % 4 == 0: #4로 나누어지면 윤년\n",
    "        if year % 100 == 0: #4로 나누어 떨어지더라도 100으로 나누어 떨어지면 평년\n",
    "            if year % 400 == 0: #100으로 나누어 떨어지더라도 400으로 나누어 떨어지면 윤년\n",
    "                return True     #400으로 나누어 떨어지면 윤년\n",
    "            return False  #100으로 나누어 떨어지면 평년\n",
    "        return True  #4로 나누어 떨어지면 윤년\n",
    "    else:\n",
    "        return False #4로 나누어 떨어지지 않으면  평년    \n",
    "\n",
    "print(year) #해를 출력하는 출력문\n",
    "for y in year:\n",
    "    print(is_leap(y)) #함수 출력으로 year리스트 안에 있는 인자들을 전부 확인하고 True값과 False값을 나타냄"
   ]
  },
  {
   "cell_type": "code",
   "execution_count": null,
   "metadata": {},
   "outputs": [],
   "source": []
  },
  {
   "cell_type": "code",
   "execution_count": null,
   "metadata": {},
   "outputs": [],
   "source": []
  },
  {
   "cell_type": "code",
   "execution_count": null,
   "metadata": {},
   "outputs": [],
   "source": []
  },
  {
   "cell_type": "code",
   "execution_count": null,
   "metadata": {},
   "outputs": [],
   "source": []
  },
  {
   "cell_type": "code",
   "execution_count": null,
   "metadata": {},
   "outputs": [],
   "source": []
  },
  {
   "cell_type": "code",
   "execution_count": null,
   "metadata": {},
   "outputs": [],
   "source": []
  },
  {
   "cell_type": "code",
   "execution_count": null,
   "metadata": {},
   "outputs": [],
   "source": []
  },
  {
   "cell_type": "code",
   "execution_count": null,
   "metadata": {},
   "outputs": [],
   "source": []
  },
  {
   "cell_type": "code",
   "execution_count": null,
   "metadata": {},
   "outputs": [],
   "source": []
  },
  {
   "cell_type": "code",
   "execution_count": null,
   "metadata": {},
   "outputs": [],
   "source": []
  },
  {
   "cell_type": "markdown",
   "metadata": {
    "colab_type": "text",
    "id": "_FgYoH_8d5ci"
   },
   "source": [
    "## 과제 2"
   ]
  },
  {
   "cell_type": "markdown",
   "metadata": {
    "colab_type": "text",
    "id": "XGrrGuoreB3I"
   },
   "source": [
    "Given **twenty** **positive integers(value)**, ***find the minimum and maximum values*** that can be calculated by summing exactly **nineteen of the** **twenty integers**. Then print the respective minimum and maximum values as a single line of two space-separated long integers.\n",
    "\n",
    "#### 20 개 중 19개의 정수 선택하여 진행할 것.\n",
    "\n",
    "---\n",
    "\n",
    "\n",
    "For example, `arr = [46,960,19,182,365,929,568,627,510,355,313,82,742,656,385,181,827,197,809,413]`. \\\n",
    "Our **minimum sum** is 19+46+82+181+182+197+313+355+365+385+413+510+568+627+656+742+809+827+929 = **8206**.  \n",
    "Our **maximum sum** is 46+82+181+182+197+313+355+365+385+413+510+568+627+656+742+809+827+929+960 = **9147**.\n",
    "\n",
    "\n",
    "\n",
    "---\n",
    "\n",
    "**입력 값**\n",
    "\n",
    "\n",
    "\n",
    "``` \n",
    "value = [46,960,19,182,365,929,568,627,510,355,313,82,742,656,385,181,827,197,809,413]\n",
    "```\n",
    "\n",
    "\n",
    "\n",
    "---\n",
    "**출력 예시**\n",
    "\n",
    "```\n",
    "minimum sum = 8206, maximum sum = 9147 \n",
    "```\n"
   ]
  },
  {
   "cell_type": "code",
   "execution_count": 16,
   "metadata": {
    "colab": {},
    "colab_type": "code",
    "id": "LTIX6hJ8d_eR"
   },
   "outputs": [
    {
     "name": "stdout",
     "output_type": "stream",
     "text": [
      "minimum sum= 8206 maximum sum= 9147\n"
     ]
    }
   ],
   "source": [
    "value = [46,960,19,182,365,929,568,627,510,355,313,82,742,656,385,181,827,197,809,413]\n",
    "\n",
    "def miniMaxSum(arr):\n",
    "    min=arr[0] #최솟값 선정 배열\n",
    "    max=arr[0] #최댓값 선정 배열\n",
    "    minsum=0 #최소 합을 더해줄 변수\n",
    "    maxsum=0 #최대 합을 더해줄 변수\n",
    "    for num in arr: #배열을 반복문을 통해 돌림\n",
    "        if min >num: #최솟값을 비교해주는 조건문\n",
    "            min=num\n",
    "        if max <num:#최댓값을 비교해주는 조건문\n",
    "            max=num\n",
    "    minsum=sum(arr)-max #총 배열합에서 최댓값을 뺴서 최솟값의 합을 구함\n",
    "    maxsum=sum(arr)-min #총 배열합에서 최솟값을 뺴서 최댓값의 합을 구함\n",
    "    print(\"minimum sum=\",minsum,\"maximum sum=\",maxsum) #출력문으로 결과값과 같게 출력함\n",
    "            \n",
    "        \n",
    "  \n",
    "     # Write your logic here\n",
    "    \n",
    "miniMaxSum(value) #함수 출력"
   ]
  },
  {
   "cell_type": "code",
   "execution_count": null,
   "metadata": {},
   "outputs": [],
   "source": []
  },
  {
   "cell_type": "code",
   "execution_count": null,
   "metadata": {},
   "outputs": [],
   "source": []
  },
  {
   "cell_type": "code",
   "execution_count": null,
   "metadata": {},
   "outputs": [],
   "source": []
  },
  {
   "cell_type": "code",
   "execution_count": null,
   "metadata": {},
   "outputs": [],
   "source": []
  },
  {
   "cell_type": "markdown",
   "metadata": {
    "colab_type": "text",
    "id": "F_W-7_VWaLch"
   },
   "source": [
    "## 과제 3\n",
    "\n",
    "Fibonacci 수 구하기\n",
    "\n",
    "입력된 N 리스트 값에 해당하는 위치의 Fibonacci의 수를 찾자.\n",
    "\n",
    "\n",
    "---\n",
    "\n",
    "**입력**\n",
    "\n",
    "```\n",
    "N = [2, 15, 20, 30, 35, 40, 150, 200, 1000]\n",
    "```\n",
    "\n",
    "\n",
    "\n",
    "---\n",
    "\n",
    "**출력 예시**\n",
    "\n",
    "\n",
    "```\n",
    "input Fibonacci Number\n",
    "fibo(2) = 1\n",
    "fibo(15) = 610\n",
    "fibo(20) = 6765\n",
    "fibo(30) = 832040\n",
    "fibo(35) = 9227465\n",
    "fibo(40) = 102334155\n",
    "fibo(150) = 9969216677189303386214405760200\n",
    "fibo(200) = 280571172992510140037611932413038677189525\n",
    "fibo(1000) = 43466557686937456435688527675040625802564660517371780402481729089536555417949051890403879840079255169295922593080322634775209689623239873322471161642996440906533187938298969649928516003704476137795166849228875\n",
    "\n",
    "\n",
    "```\n",
    "\n",
    "\n"
   ]
  },
  {
   "cell_type": "code",
   "execution_count": 4,
   "metadata": {
    "colab": {},
    "colab_type": "code",
    "id": "2dSsflwZa4Ft"
   },
   "outputs": [
    {
     "name": "stdout",
     "output_type": "stream",
     "text": [
      "input Fibonacci Number\n",
      "fibo(2) = 1\n",
      "fibo(15) = 610\n",
      "fibo(20) = 6765\n",
      "fibo(30) = 832040\n",
      "fibo(35) = 9227465\n",
      "fibo(40) = 102334155\n",
      "fibo(150) = 9969216677189303386214405760200\n",
      "fibo(200) = 280571172992510140037611932413038677189525\n",
      "fibo(1000) = 43466557686937456435688527675040625802564660517371780402481729089536555417949051890403879840079255169295922593080322634775209689623239873322471161642996440906533187938298969649928516003704476137795166849228875\n"
     ]
    }
   ],
   "source": [
    "\n",
    "def fibo(n): #피보나치를 계산하는 함수 선언 \n",
    "    a, b = 1, 0 #피보나치 계산을 위한 변수 a,b 선언\n",
    "    for i in range(n): #반복문 \n",
    "        a, b = b, a + b \n",
    "    return b #결과값 반환\n",
    "\n",
    "print(\"input Fibonacci Number\") #input Fibonacci Number라는 문구를 뽑아냄\n",
    "N = [2, 15, 20, 30, 35, 40, 150, 200, 1000] #피보나치로 계산할 리스트를 만듬\n",
    "\n",
    "for index in N: #반복문을 통해서 N에 있는 리스트를 계산해줌\n",
    "    print(\"fibo(%d) = %d\" % (index, fibo(index))) \n",
    "\n"
   ]
  },
  {
   "cell_type": "code",
   "execution_count": null,
   "metadata": {},
   "outputs": [],
   "source": []
  },
  {
   "cell_type": "code",
   "execution_count": null,
   "metadata": {},
   "outputs": [],
   "source": []
  },
  {
   "cell_type": "code",
   "execution_count": null,
   "metadata": {},
   "outputs": [],
   "source": []
  },
  {
   "cell_type": "code",
   "execution_count": null,
   "metadata": {},
   "outputs": [],
   "source": []
  },
  {
   "cell_type": "markdown",
   "metadata": {
    "colab_type": "text",
    "id": "4YExQF7ssk3N"
   },
   "source": [
    "## 과제 4(참조 : https://www.acmicpc.net/problem/2941)\n",
    "\n",
    "예전에는 운영체제에서 크로아티아 알파벳을 입력할 수가 없었다. 따라서, 다음과 같이 크로아티아 알파벳을 변경해서 입력했다.\n",
    "\n",
    "\n",
    "![대체 텍스트](https://t1.daumcdn.net/cfile/tistory/999D8B365B3D04151E)\n",
    "\n",
    "예를 들어, ljes=njak은 크로아티아 알파벳 6개(lj, e, š, nj, a, k)로 이루어져 있다. 단어가 주어졌을 때, 몇 개의 크로아티아 알파벳으로 이루어져 있는지 출력한다.\n",
    "\n",
    "dž는 무조건 하나의 알파벳으로 쓰이고, d와 ž가 분리된 것으로 보지 않는다. lj와 nj도 마찬가지이다. 위 목록에 없는 알파벳은 한 글자씩 센다.\n",
    "\n",
    "\n",
    "\n",
    "---\n",
    "\n",
    "**입력**\n",
    "\n",
    "첫째 줄에 최대 100글자의 단어가 주어진다. 알파벳 소문자와 '-', '='로만 이루어져 있다.\n",
    "\n",
    "단어는 크로아티아 알파벳으로 이루어져 있다. 문제 설명의 표에 나와있는 알파벳은 변경된 형태로 입력된다.\n",
    "\n",
    "\n",
    "\n",
    "---\n",
    "**출력**\n",
    "\n",
    "입력으로 주어진 단어가 몇 개의 크로아티아 알파벳으로 이루어져 있는지 출력한다.\n",
    "\n",
    "\n",
    "\n",
    "---\n",
    "\n",
    "예제 입력 / 출력 예시\n",
    "\n",
    "입력 : ljes=njak  출력 : 6\n",
    "\n",
    "입력 : ddz=z=  출력 : 3\n",
    "\n",
    "입력 : nljj  출력 : 3\n",
    "\n",
    "입력 : c=c=  출력 : 2\n"
   ]
  },
  {
   "cell_type": "code",
   "execution_count": 14,
   "metadata": {
    "colab": {},
    "colab_type": "code",
    "id": "4LmXmgN4zxTi"
   },
   "outputs": [
    {
     "name": "stdout",
     "output_type": "stream",
     "text": [
      "c=c=\n",
      "2\n"
     ]
    }
   ],
   "source": [
    "\n",
    "def cro():#메소드 선언 부분\n",
    "    strs =input() #입력할 문자를 작성하게 만드는 선언문\n",
    "    cro_voca =['c=','c-','dz=','d-','lj','nj','s=','z='] #크로아티아 알파벳 선언\n",
    "    for i in range(len(cro_voca)): #배열의 길이만큼 반복문 실행\n",
    "        strs = strs.replace(cro_voca[i],str(i)) #voca의 문자를 인식하고 그것을 한개의 문자로 만들어줌\n",
    "    print(len(strs))#크로아티아 알파벳 개수를 출력함\n",
    "cro()#함수호출   \n",
    "  \n"
   ]
  },
  {
   "cell_type": "code",
   "execution_count": null,
   "metadata": {},
   "outputs": [],
   "source": []
  },
  {
   "cell_type": "code",
   "execution_count": null,
   "metadata": {},
   "outputs": [],
   "source": []
  },
  {
   "cell_type": "code",
   "execution_count": null,
   "metadata": {},
   "outputs": [],
   "source": []
  },
  {
   "cell_type": "code",
   "execution_count": null,
   "metadata": {},
   "outputs": [],
   "source": []
  },
  {
   "cell_type": "code",
   "execution_count": null,
   "metadata": {},
   "outputs": [],
   "source": []
  },
  {
   "cell_type": "code",
   "execution_count": null,
   "metadata": {},
   "outputs": [],
   "source": []
  },
  {
   "cell_type": "code",
   "execution_count": null,
   "metadata": {},
   "outputs": [],
   "source": []
  },
  {
   "cell_type": "code",
   "execution_count": null,
   "metadata": {},
   "outputs": [],
   "source": []
  },
  {
   "cell_type": "code",
   "execution_count": null,
   "metadata": {},
   "outputs": [],
   "source": []
  },
  {
   "cell_type": "code",
   "execution_count": null,
   "metadata": {},
   "outputs": [],
   "source": []
  },
  {
   "cell_type": "code",
   "execution_count": null,
   "metadata": {},
   "outputs": [],
   "source": []
  },
  {
   "cell_type": "code",
   "execution_count": null,
   "metadata": {},
   "outputs": [],
   "source": []
  },
  {
   "cell_type": "code",
   "execution_count": null,
   "metadata": {},
   "outputs": [],
   "source": []
  },
  {
   "cell_type": "code",
   "execution_count": null,
   "metadata": {},
   "outputs": [],
   "source": []
  },
  {
   "cell_type": "code",
   "execution_count": null,
   "metadata": {},
   "outputs": [],
   "source": []
  },
  {
   "cell_type": "code",
   "execution_count": null,
   "metadata": {},
   "outputs": [],
   "source": []
  },
  {
   "cell_type": "code",
   "execution_count": null,
   "metadata": {},
   "outputs": [],
   "source": []
  },
  {
   "cell_type": "code",
   "execution_count": null,
   "metadata": {},
   "outputs": [],
   "source": []
  },
  {
   "cell_type": "code",
   "execution_count": null,
   "metadata": {},
   "outputs": [],
   "source": []
  },
  {
   "cell_type": "code",
   "execution_count": null,
   "metadata": {},
   "outputs": [],
   "source": []
  },
  {
   "cell_type": "code",
   "execution_count": null,
   "metadata": {},
   "outputs": [],
   "source": []
  },
  {
   "cell_type": "code",
   "execution_count": null,
   "metadata": {},
   "outputs": [],
   "source": []
  },
  {
   "cell_type": "code",
   "execution_count": null,
   "metadata": {},
   "outputs": [],
   "source": []
  },
  {
   "cell_type": "code",
   "execution_count": null,
   "metadata": {},
   "outputs": [],
   "source": []
  },
  {
   "cell_type": "code",
   "execution_count": null,
   "metadata": {},
   "outputs": [],
   "source": []
  },
  {
   "cell_type": "code",
   "execution_count": null,
   "metadata": {},
   "outputs": [],
   "source": []
  }
 ],
 "metadata": {
  "colab": {
   "collapsed_sections": [
    "K_xMCcCldxsz",
    "aF7krIVsdxs1",
    "5Ovb9Pw_dxs2"
   ],
   "name": "HW1_template.ipynb",
   "provenance": [],
   "version": "0.3.2"
  },
  "kernelspec": {
   "display_name": "Python 3",
   "language": "python",
   "name": "python3"
  },
  "language_info": {
   "codemirror_mode": {
    "name": "ipython",
    "version": 3
   },
   "file_extension": ".py",
   "mimetype": "text/x-python",
   "name": "python",
   "nbconvert_exporter": "python",
   "pygments_lexer": "ipython3",
   "version": "3.7.3"
  }
 },
 "nbformat": 4,
 "nbformat_minor": 1
}
