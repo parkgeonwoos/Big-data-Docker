{
 "cells": [
  {
   "cell_type": "markdown",
   "metadata": {
    "colab_type": "text",
    "id": "D2VUCcpqmv7Y"
   },
   "source": [
    "# Covariance Matrix(2)\n",
    "- - -\n",
    "\n",
    "#### 1. Covariance Matrix\n",
    "\n",
    "* Calculating the mean of Sample Vectors - HW7 참고할 것\n",
    "\n",
    "* Outer product of sample vectors\n",
    "\n",
    "* Covariance Matrix\n",
    "- - -"
   ]
  },
  {
   "cell_type": "markdown",
   "metadata": {
    "colab_type": "text",
    "id": "dMUkFBYmmv7b"
   },
   "source": [
    "#### pyspark import & SparkContext 생성"
   ]
  },
  {
   "cell_type": "code",
   "execution_count": 1,
   "metadata": {
    "colab": {},
    "colab_type": "code",
    "id": "8rey9WZEmv7b",
    "outputId": "d4d5f2c3-872c-4efe-f617-128c557c75f2"
   },
   "outputs": [
    {
     "name": "stdout",
     "output_type": "stream",
     "text": [
      "<SparkContext master=local[*] appName=pyspark-shell>\n",
      "<pyspark.sql.context.SQLContext object at 0x7f57dbeeda90>\n"
     ]
    }
   ],
   "source": [
    "from pyspark import SparkContext\n",
    "from pyspark.sql import SQLContext\n",
    "from pyspark.sql.types import Row, StructField, StructType, StringType, IntegerType\n",
    "\n",
    "sc = SparkContext(master=\"local[*]\")\n",
    "print(sc)\n",
    "\n",
    "# Just like using Spark requires having a SparkContext, using SQL requires an SQLContext\n",
    "sqlContext = SQLContext(sc)\n",
    "print(sqlContext)"
   ]
  },
  {
   "cell_type": "code",
   "execution_count": 2,
   "metadata": {
    "colab": {},
    "colab_type": "code",
    "id": "aI2e3ctxmv7e",
    "scrolled": false
   },
   "outputs": [
    {
     "name": "stdout",
     "output_type": "stream",
     "text": [
      "Downloading 1hAHV6vC6FvVgrYnoN-lR-IfH488-H121 into ./NY.tgz... Done.\n",
      "NY.parquet/\n",
      "NY.parquet/_SUCCESS\n",
      "NY.parquet/part-00022-89caf7c0-9733-40ec-a650-7f368529dd01-c000.snappy.parquet\n",
      "NY.parquet/part-00000-89caf7c0-9733-40ec-a650-7f368529dd01-c000.snappy.parquet\n",
      "NY.parquet/part-00021-89caf7c0-9733-40ec-a650-7f368529dd01-c000.snappy.parquet\n",
      "NY.parquet/part-00001-89caf7c0-9733-40ec-a650-7f368529dd01-c000.snappy.parquet\n",
      "NY.parquet/part-00023-89caf7c0-9733-40ec-a650-7f368529dd01-c000.snappy.parquet\n",
      "NY.parquet/part-00002-89caf7c0-9733-40ec-a650-7f368529dd01-c000.snappy.parquet\n",
      "NY.parquet/part-00024-89caf7c0-9733-40ec-a650-7f368529dd01-c000.snappy.parquet\n",
      "NY.parquet/part-00003-89caf7c0-9733-40ec-a650-7f368529dd01-c000.snappy.parquet\n",
      "NY.parquet/part-00025-89caf7c0-9733-40ec-a650-7f368529dd01-c000.snappy.parquet\n",
      "NY.parquet/part-00004-89caf7c0-9733-40ec-a650-7f368529dd01-c000.snappy.parquet\n",
      "NY.parquet/part-00027-89caf7c0-9733-40ec-a650-7f368529dd01-c000.snappy.parquet\n",
      "NY.parquet/part-00005-89caf7c0-9733-40ec-a650-7f368529dd01-c000.snappy.parquet\n",
      "NY.parquet/part-00006-89caf7c0-9733-40ec-a650-7f368529dd01-c000.snappy.parquet\n",
      "NY.parquet/part-00007-89caf7c0-9733-40ec-a650-7f368529dd01-c000.snappy.parquet\n",
      "NY.parquet/part-00008-89caf7c0-9733-40ec-a650-7f368529dd01-c000.snappy.parquet\n",
      "NY.parquet/part-00009-89caf7c0-9733-40ec-a650-7f368529dd01-c000.snappy.parquet\n",
      "NY.parquet/part-00010-89caf7c0-9733-40ec-a650-7f368529dd01-c000.snappy.parquet\n",
      "NY.parquet/part-00011-89caf7c0-9733-40ec-a650-7f368529dd01-c000.snappy.parquet\n",
      "NY.parquet/part-00012-89caf7c0-9733-40ec-a650-7f368529dd01-c000.snappy.parquet\n",
      "NY.parquet/part-00013-89caf7c0-9733-40ec-a650-7f368529dd01-c000.snappy.parquet\n",
      "NY.parquet/part-00014-89caf7c0-9733-40ec-a650-7f368529dd01-c000.snappy.parquet\n",
      "NY.parquet/part-00015-89caf7c0-9733-40ec-a650-7f368529dd01-c000.snappy.parquet\n",
      "NY.parquet/part-00016-89caf7c0-9733-40ec-a650-7f368529dd01-c000.snappy.parquet\n",
      "NY.parquet/part-00017-89caf7c0-9733-40ec-a650-7f368529dd01-c000.snappy.parquet\n",
      "NY.parquet/part-00018-89caf7c0-9733-40ec-a650-7f368529dd01-c000.snappy.parquet\n",
      "NY.parquet/part-00019-89caf7c0-9733-40ec-a650-7f368529dd01-c000.snappy.parquet\n",
      "NY.parquet/part-00020-89caf7c0-9733-40ec-a650-7f368529dd01-c000.snappy.parquet\n",
      "NY.parquet/part-00026-89caf7c0-9733-40ec-a650-7f368529dd01-c000.snappy.parquet\n"
     ]
    }
   ],
   "source": [
    "#### 예제 파일 다운로드\n",
    "from os.path import exists\n",
    "from google_drive_downloader import GoogleDriveDownloader as gdd\n",
    "import tarfile\n",
    "\n",
    "if exists(\"./NY.tgz\"):\n",
    "    !rm -rf ./NY.tgz\n",
    "if exists(\"./NY.parquet\"):\n",
    "    !rm -rf ./NY.parquet\n",
    "    \n",
    "gdd.download_file_from_google_drive(file_id='1hAHV6vC6FvVgrYnoN-lR-IfH488-H121',\n",
    "                                   dest_path = './NY.tgz')\n",
    "!tar -xzvf NY.tgz\n",
    "df = sqlContext.read.load(\"NY.parquet\")"
   ]
  },
  {
   "cell_type": "code",
   "execution_count": 3,
   "metadata": {
    "colab": {},
    "colab_type": "code",
    "id": "UUNu1g5Tmv7f",
    "scrolled": true
   },
   "outputs": [
    {
     "name": "stdout",
     "output_type": "stream",
     "text": [
      "root\n",
      " |-- Station: string (nullable = true)\n",
      " |-- Measurement: string (nullable = true)\n",
      " |-- Year: long (nullable = true)\n",
      " |-- Values: binary (nullable = true)\n",
      " |-- dist_coast: double (nullable = true)\n",
      " |-- latitude: double (nullable = true)\n",
      " |-- longitude: double (nullable = true)\n",
      " |-- elevation: double (nullable = true)\n",
      " |-- state: string (nullable = true)\n",
      " |-- name: string (nullable = true)\n",
      "\n",
      "+-----------+-----------+----+--------------------+-----------------+-----------------+------------------+------------------+-----+-----------+\n",
      "|    Station|Measurement|Year|              Values|       dist_coast|         latitude|         longitude|         elevation|state|       name|\n",
      "+-----------+-----------+----+--------------------+-----------------+-----------------+------------------+------------------+-----+-----------+\n",
      "|USC00306957|   SNWD_s20|1986|[8B 5E 8F 5E 92 5...|303.5669860839844|44.29610061645508|-74.10279846191406|493.79998779296875|   NY|  RAY BROOK|\n",
      "|USC00308625|   TOBS_s20|1990|[6E D4 54 D4 38 D...|281.6239929199219|42.83330154418945| -76.0333023071289|396.20001220703125|   NY| TULLY 4 NE|\n",
      "|USW00014743|   TMIN_s20|1956|[02 D8 02 D8 01 D...|388.9079895019531|44.57720184326172|-75.10970306396484|136.60000610351562|   NY|CANTON 4 SE|\n",
      "+-----------+-----------+----+--------------------+-----------------+-----------------+------------------+------------------+-----+-----------+\n",
      "only showing top 3 rows\n",
      "\n"
     ]
    }
   ],
   "source": [
    "# printSchema()와 sample를 이용한 데이터 확인\n",
    "df.printSchema()\n",
    "# sample 사용법 참조\n",
    "# https://spark.apache.org/docs/latest/api/python/pyspark.sql.html#pyspark.sql.DataFrame.sample\n",
    "df.sample(False, 0.01).show(3)"
   ]
  },
  {
   "cell_type": "code",
   "execution_count": 0,
   "metadata": {
    "colab": {},
    "colab_type": "code",
    "id": "qOnlktEsZ9oy"
   },
   "outputs": [],
   "source": []
  },
  {
   "cell_type": "markdown",
   "metadata": {
    "colab_type": "text",
    "id": "EG4X1X9lZ9o1"
   },
   "source": [
    "### 1. Spark와 Numpy를 사용하여 Covariance Matrix 구해보자!"
   ]
  },
  {
   "cell_type": "markdown",
   "metadata": {
    "colab_type": "text",
    "id": "Yt_7LRtgBY_a"
   },
   "source": [
    "#### (1) numpy 기초 \n",
    "아래 참고자료를 활용하여 numpy 기초 학습\n",
    "\n",
    "* 참고자료 \n",
    "  * [참고자료 1](http://taewan.kim/post/numpy_cheat_sheet/)\n",
    "  * [참고자료 2](https://docs.scipy.org/doc/numpy/user/quickstart.html)\n",
    "  * [참고자료 3](https://scipy-lectures.org/intro/numpy/array_object.html#what-are-numpy-and-numpy-arrays)\n",
    "  * [참고자료 4](https://doorbw.tistory.com/171)\n",
    "  * [참고자료 5](https://datascienceschool.net/view-notebook/17608f897087478bbeac096438c716f6/)\n",
    "\n",
    "* 위 자료에서중에서도 \n",
    "  * ndarray 생성법\n",
    "  * vector, matrix 연산\n",
    "  * 인덱싱 (slicing)\n",
    "  * 행렬 합치기 (vstack, dstack, hstack)\n",
    "  * sum, mean\n",
    "  * np.nan 자료형\n",
    "  * reshape\n",
    "  * matmul\n"
   ]
  },
  {
   "cell_type": "markdown",
   "metadata": {
    "colab_type": "text",
    "id": "MYufrOGYlJev"
   },
   "source": [
    "* ```numpy``` 명령어 검색\n",
    "* 예를 들어서 numpy function 중에서 conjugate을 찾는데 정확히 모르겠는 경우 \n",
    "* ```np.con*?``` "
   ]
  },
  {
   "cell_type": "code",
   "execution_count": 9,
   "metadata": {
    "colab": {},
    "colab_type": "code",
    "id": "l8Af-8i1ldPR"
   },
   "outputs": [],
   "source": [
    "# np.con* 과 같은 형태의 function 종류를 표시\n",
    "import numpy as np\n",
    "np.con*?"
   ]
  },
  {
   "cell_type": "code",
   "execution_count": 8,
   "metadata": {
    "colab": {},
    "colab_type": "code",
    "id": "DWp8nl9ElmOE"
   },
   "outputs": [],
   "source": [
    "# np.* 과 같은 형태의 function 종류를 표시\n",
    "np.*?"
   ]
  },
  {
   "cell_type": "code",
   "execution_count": 8,
   "metadata": {
    "colab": {
     "base_uri": "https://localhost:8080/",
     "height": 1000
    },
    "colab_type": "code",
    "executionInfo": {
     "elapsed": 657,
     "status": "ok",
     "timestamp": 1573176819600,
     "user": {
      "displayName": "Sung Hoon Lim",
      "photoUrl": "",
      "userId": "11994082970032634657"
     },
     "user_tz": -540
    },
    "id": "irJQuKoipSey",
    "outputId": "5f992110-cf3f-40c3-8a87-91e4b5cbf1d0"
   },
   "outputs": [
    {
     "ename": "NameError",
     "evalue": "name 'np' is not defined",
     "output_type": "error",
     "traceback": [
      "\u001b[0;31m\u001b[0m",
      "\u001b[0;31mNameError\u001b[0mTraceback (most recent call last)",
      "\u001b[0;32m<ipython-input-8-f422e919ac00>\u001b[0m in \u001b[0;36m<module>\u001b[0;34m\u001b[0m\n\u001b[1;32m      1\u001b[0m \u001b[0;31m# function 사용하는 방법\u001b[0m\u001b[0;34m\u001b[0m\u001b[0;34m\u001b[0m\u001b[0;34m\u001b[0m\u001b[0m\n\u001b[0;32m----> 2\u001b[0;31m \u001b[0mhelp\u001b[0m\u001b[0;34m(\u001b[0m\u001b[0mnp\u001b[0m\u001b[0;34m.\u001b[0m\u001b[0msum\u001b[0m\u001b[0;34m)\u001b[0m\u001b[0;34m\u001b[0m\u001b[0;34m\u001b[0m\u001b[0m\n\u001b[0m",
      "\u001b[0;31mNameError\u001b[0m: name 'np' is not defined"
     ]
    }
   ],
   "source": [
    "# function 사용하는 방법\n",
    "help(np.sum)"
   ]
  },
  {
   "cell_type": "markdown",
   "metadata": {
    "colab_type": "text",
    "id": "p1c09_uZZ9o3"
   },
   "source": [
    "##### A. Numpy를 사용한 배열 생성\n",
    "\n",
    "    파라미터로 list 객체와 데이터 타입(dtype)을 입력하여 NumPy 배열을 생성합니다. dtype을 생략할 경우, 입력된 list 객체의 요소 타입이 설정됩니다.\n"
   ]
  },
  {
   "cell_type": "code",
   "execution_count": 6,
   "metadata": {
    "colab": {},
    "colab_type": "code",
    "id": "YZ4AP7XvZ9o4",
    "outputId": "11a0f5b1-c470-4eb9-cb6a-4a61c5e124c4",
    "scrolled": true
   },
   "outputs": [
    {
     "name": "stdout",
     "output_type": "stream",
     "text": [
      "<class 'numpy.ndarray'>\n",
      "1차원 입니다 v \n",
      " [1. 2. 3.]\n",
      "\n",
      "2차원 입니다 v \n",
      " [[1 2 3]\n",
      " [4 5 6]]\n",
      "\n",
      "3차원 입니다 v \n",
      " [[[1. 2. 3.]\n",
      "  [4. 5. 6.]]\n",
      "\n",
      " [[3. 2. 1.]\n",
      "  [6. 5. 4.]]]\n"
     ]
    }
   ],
   "source": [
    "import numpy as np\n",
    "a = np.array([1,2,3], dtype = 'float64')\n",
    "print(type(a)) # type 출력\n",
    "print(\"1차원 입니다 v \\n\", a) \n",
    "\n",
    "b = np.array([[1,2,3], [4,5,6]], dtype = 'int16')\n",
    "print(\"\\n2차원 입니다 v \\n\", b) \n",
    "\n",
    "c = np.array([[[1,2,3], [4,5,6]], [[3,2,1], [6,5,4]]], dtype = 'float')\n",
    "print(\"\\n3차원 입니다 v \\n\", c) "
   ]
  },
  {
   "cell_type": "markdown",
   "metadata": {
    "colab_type": "text",
    "id": "XE01dMnSnPdx"
   },
   "source": [
    "```import matplotlib.pyplot as plt``` 라는 명령어로 그래프 그리는 package를 불러옵니다"
   ]
  },
  {
   "cell_type": "code",
   "execution_count": 5,
   "metadata": {
    "colab": {
     "base_uri": "https://localhost:8080/",
     "height": 283
    },
    "colab_type": "code",
    "executionInfo": {
     "elapsed": 652,
     "status": "ok",
     "timestamp": 1573176439128,
     "user": {
      "displayName": "Sung Hoon Lim",
      "photoUrl": "",
      "userId": "11994082970032634657"
     },
     "user_tz": -540
    },
    "id": "Ki9FVEs1neai",
    "outputId": "1b155892-a33d-4819-e74a-e0492eb0cf28"
   },
   "outputs": [
    {
     "data": {
      "text/plain": [
       "[<matplotlib.lines.Line2D at 0x7f68467e9828>]"
      ]
     },
     "execution_count": 5,
     "metadata": {},
     "output_type": "execute_result"
    }
   ],
   "source": [
    "import matplotlib.pyplot as plt  # plt 이름은 많이 사용하는 관습임\n",
    "\n",
    "x = np.linspace(0, 3, 20)\n",
    "y = np.linspace(0, 9, 20)\n",
    "#plt.plot(x, y)       # line plot\n",
    "plt.plot(x, y, 'o') #위 명령어 대신 실행해보세요"
   ]
  },
  {
   "cell_type": "code",
   "execution_count": 6,
   "metadata": {
    "colab": {},
    "colab_type": "code",
    "id": "flDoqUDHZ9o7",
    "outputId": "98c244ae-9b2e-4dc0-a97e-19a88dce9621",
    "scrolled": true
   },
   "outputs": [
    {
     "name": "stdout",
     "output_type": "stream",
     "text": [
      "★ element의 type 확인 :  <class 'numpy.ndarray'>\n",
      "\n",
      "★ sample의 수 :  100000\n",
      "\n",
      "★10만 개의 ndarray 중 무작위 5개 추출 v \n",
      " [array([0.70252496, 0.4022068 , 0.35872456]), array([0.31798082, 0.85304622, 0.26705958]), array([0.18405346, 0.83202548, 0.68154442]), array([0.11114904, 0.14656309, 0.15327474]), array([0.56958918, 0.71664876, 0.73134317])]\n"
     ]
    }
   ],
   "source": [
    "# numpy를 python에 적용하기!\n",
    "np.random.seed(777) # 고정된 random 값을 위한 seed 설정\n",
    "\n",
    "# np.random.rand : 3개의 피쳐를 가지고 있는 1D 생성, 10만 개의 ndarray 생성\n",
    "vector_1d = sc.parallelize([np.random.rand(3) for x in range(100000)])\n",
    "print(\"★ element의 type 확인 : \", type(vector_1d.takeSample(False, 1)[0]))\n",
    "print(\"\\n★ sample의 수 : \", vector_1d.count())\n",
    "print(\"\\n★10만 개의 ndarray 중 무작위 5개 추출 v \\n\", vector_1d.takeSample(False, 5))\n"
   ]
  },
  {
   "cell_type": "markdown",
   "metadata": {
    "colab_type": "text",
    "id": "NkcmfqH2mLsl"
   },
   "source": [
    "* ```arange()```를 통한 ndarray 생성"
   ]
  },
  {
   "cell_type": "code",
   "execution_count": 19,
   "metadata": {
    "colab": {
     "base_uri": "https://localhost:8080/",
     "height": 35
    },
    "colab_type": "code",
    "executionInfo": {
     "elapsed": 572,
     "status": "ok",
     "timestamp": 1573176017625,
     "user": {
      "displayName": "Sung Hoon Lim",
      "photoUrl": "",
      "userId": "11994082970032634657"
     },
     "user_tz": -540
    },
    "id": "ac2W2LP3mPhQ",
    "outputId": "5d3d79a5-4d2f-4b79-ceda-2043676d449e"
   },
   "outputs": [
    {
     "name": "stdout",
     "output_type": "stream",
     "text": [
      "C: [1 2 3 4]\n"
     ]
    }
   ],
   "source": [
    "C = np.arange(1,5)\n",
    "print(\"C:\", C)"
   ]
  },
  {
   "cell_type": "code",
   "execution_count": 20,
   "metadata": {
    "colab": {
     "base_uri": "https://localhost:8080/",
     "height": 35
    },
    "colab_type": "code",
    "executionInfo": {
     "elapsed": 602,
     "status": "ok",
     "timestamp": 1573176063305,
     "user": {
      "displayName": "Sung Hoon Lim",
      "photoUrl": "",
      "userId": "11994082970032634657"
     },
     "user_tz": -540
    },
    "id": "rc3fYXrwmXH_",
    "outputId": "cc2db22a-300f-4e5e-d352-c88acb37f9f0"
   },
   "outputs": [
    {
     "data": {
      "text/plain": [
       "array([0. , 0.2, 0.4, 0.6, 0.8, 1. ])"
      ]
     },
     "execution_count": 20,
     "metadata": {},
     "output_type": "execute_result"
    }
   ],
   "source": [
    "# 유용한 생성방법\n",
    "c = np.linspace(0, 1, 6)   # 시작, 끝, 총 길이 즉 0과 1사이에 6개 균일한 포인트 만들기\n",
    "c"
   ]
  },
  {
   "cell_type": "code",
   "execution_count": 23,
   "metadata": {
    "colab": {
     "base_uri": "https://localhost:8080/",
     "height": 70
    },
    "colab_type": "code",
    "executionInfo": {
     "elapsed": 575,
     "status": "ok",
     "timestamp": 1573176127566,
     "user": {
      "displayName": "Sung Hoon Lim",
      "photoUrl": "",
      "userId": "11994082970032634657"
     },
     "user_tz": -540
    },
    "id": "C4Dtb7llmo9s",
    "outputId": "d1288a5e-719f-446d-9a2a-451164c2bfc2"
   },
   "outputs": [
    {
     "data": {
      "text/plain": [
       "array([[1., 1., 1.],\n",
       "       [1., 1., 1.],\n",
       "       [1., 1., 1.]])"
      ]
     },
     "execution_count": 23,
     "metadata": {},
     "output_type": "execute_result"
    }
   ],
   "source": [
    "a = np.ones((3, 3))  # reminder: (3, 3) is a tuple\n",
    "a"
   ]
  },
  {
   "cell_type": "code",
   "execution_count": 24,
   "metadata": {
    "colab": {
     "base_uri": "https://localhost:8080/",
     "height": 52
    },
    "colab_type": "code",
    "executionInfo": {
     "elapsed": 564,
     "status": "ok",
     "timestamp": 1573176137887,
     "user": {
      "displayName": "Sung Hoon Lim",
      "photoUrl": "",
      "userId": "11994082970032634657"
     },
     "user_tz": -540
    },
    "id": "A52mOtmlmsRl",
    "outputId": "ba6992e7-25c0-4be8-ced4-7eeb47af2874"
   },
   "outputs": [
    {
     "data": {
      "text/plain": [
       "array([[0., 0.],\n",
       "       [0., 0.]])"
      ]
     },
     "execution_count": 24,
     "metadata": {},
     "output_type": "execute_result"
    }
   ],
   "source": [
    "b = np.zeros((2, 2))\n",
    "b"
   ]
  },
  {
   "cell_type": "code",
   "execution_count": 30,
   "metadata": {
    "colab": {
     "base_uri": "https://localhost:8080/",
     "height": 70
    },
    "colab_type": "code",
    "executionInfo": {
     "elapsed": 588,
     "status": "ok",
     "timestamp": 1573176151778,
     "user": {
      "displayName": "Sung Hoon Lim",
      "photoUrl": "",
      "userId": "11994082970032634657"
     },
     "user_tz": -540
    },
    "id": "LLinxTw-mu5i",
    "outputId": "a1a59cb6-357a-42d9-c557-b4281658df5a"
   },
   "outputs": [
    {
     "data": {
      "text/plain": [
       "array([[1., 0., 0.],\n",
       "       [0., 1., 0.],\n",
       "       [0., 0., 1.]])"
      ]
     },
     "execution_count": 30,
     "metadata": {},
     "output_type": "execute_result"
    }
   ],
   "source": [
    "# 단위행렬 만들기\n",
    "c = np.eye(3)\n",
    "c"
   ]
  },
  {
   "cell_type": "code",
   "execution_count": 32,
   "metadata": {
    "colab": {
     "base_uri": "https://localhost:8080/",
     "height": 88
    },
    "colab_type": "code",
    "executionInfo": {
     "elapsed": 597,
     "status": "ok",
     "timestamp": 1573176235731,
     "user": {
      "displayName": "Sung Hoon Lim",
      "photoUrl": "",
      "userId": "11994082970032634657"
     },
     "user_tz": -540
    },
    "id": "X7EDPssym7xP",
    "outputId": "14579657-e2d6-4d1b-8790-6ec763722b5e"
   },
   "outputs": [
    {
     "data": {
      "text/plain": [
       "array([[1, 0, 0, 0],\n",
       "       [0, 2, 0, 0],\n",
       "       [0, 0, 3, 0],\n",
       "       [0, 0, 0, 4]])"
      ]
     },
     "execution_count": 32,
     "metadata": {},
     "output_type": "execute_result"
    }
   ],
   "source": [
    "# 입력 array를 대각 element로 하는 행렬 만들기 (대각 이외 element는 모두 '0')\n",
    "d = np.diag(np.array([1, 2, 3,4]))\n",
    "d"
   ]
  },
  {
   "cell_type": "markdown",
   "metadata": {
    "colab_type": "text",
    "id": "Zgd03wM8Z9o-"
   },
   "source": [
    "##### B. 전치\n",
    "\n",
    "* 벡터의 transpose [(전치행렬)](https://ko.wikipedia.org/wiki/%EC%A0%84%EC%B9%98%ED%96%89%EB%A0%AC) : \n",
    "본 강의에서 전치행렬 연산은 $\\mathbf{x}^T$ 로 표기합니다. "
   ]
  },
  {
   "cell_type": "code",
   "execution_count": 7,
   "metadata": {
    "colab": {
     "base_uri": "https://localhost:8080/",
     "height": 52
    },
    "colab_type": "code",
    "executionInfo": {
     "elapsed": 1965,
     "status": "ok",
     "timestamp": 1573175102684,
     "user": {
      "displayName": "Sung Hoon Lim",
      "photoUrl": "",
      "userId": "11994082970032634657"
     },
     "user_tz": -540
    },
    "id": "8m8gMYAtZ9o_",
    "outputId": "a6073492-2871-4067-e9b1-fb51b83397b8"
   },
   "outputs": [
    {
     "name": "stdout",
     "output_type": "stream",
     "text": [
      "sample1의 shape :  (3,)\n",
      "sample2의 shape :  (2, 3)\n"
     ]
    }
   ],
   "source": [
    "# in python\n",
    "import numpy as np\n",
    "\n",
    "sample1 = np.array([1,2,3]) # 1차원\n",
    "sample2 = np.array([[1,2,3],[4,5,6]]) # 2차원\n",
    "print(\"sample1의 shape : \", sample1.shape)\n",
    "print(\"sample2의 shape : \", sample2.shape)"
   ]
  },
  {
   "cell_type": "code",
   "execution_count": 8,
   "metadata": {
    "colab": {
     "base_uri": "https://localhost:8080/",
     "height": 389
    },
    "colab_type": "code",
    "executionInfo": {
     "elapsed": 707,
     "status": "ok",
     "timestamp": 1573177503525,
     "user": {
      "displayName": "Sung Hoon Lim",
      "photoUrl": "",
      "userId": "11994082970032634657"
     },
     "user_tz": -540
    },
    "id": "qKzs6tSwZ9pC",
    "outputId": "814d59ce-b6c7-4e8f-b094-4d01011bbba6",
    "scrolled": true
   },
   "outputs": [
    {
     "name": "stdout",
     "output_type": "stream",
     "text": [
      "sample1의 reshape 전치 : \n",
      " [[1]\n",
      " [2]\n",
      " [3]]\n",
      "sample1의 T 전치(★1차원 array일 경우 T가 적용되지 않는다★) : \n",
      " [1 2 3]\n",
      "\n",
      "sample2의 reshape 전치 : \n",
      " [[1 2]\n",
      " [3 4]\n",
      " [5 6]]\n",
      "sample2의 T 전치 : \n",
      " [[1 4]\n",
      " [2 5]\n",
      " [3 6]]\n",
      "x: \n",
      " [[0 1]\n",
      " [2 3]]\n",
      "np.transpose(x): \n",
      " [[0 2]\n",
      " [1 3]]\n"
     ]
    }
   ],
   "source": [
    "# T와 resahpe를 이용한 전치(행렬에서는 전치를 위해서 reshape 사용하지 말것)\n",
    "sample1_T = sample1.T\n",
    "sample1_reshape = sample1.reshape((3,1))\n",
    "\n",
    "sample2_T = sample2.T\n",
    "sample2_reshape = sample2.reshape((3,2))\n",
    "\n",
    "print(\"sample1의 reshape 전치 : \\n\", sample1_reshape)\n",
    "print(\"sample1의 T 전치(★1차원 array일 경우 T가 적용되지 않는다★) : \\n\", sample1_T)\n",
    "\n",
    "print(\"\\nsample2의 reshape 전치 : \\n\", sample2_reshape)\n",
    "print(\"sample2의 T 전치 : \\n\", sample2_T)\n",
    "\n",
    "\n",
    "# np.transpose(sample1) \n",
    "x = np.arange(4).reshape((2,2))\n",
    "print('x: \\n', x)\n",
    "print('np.transpose(x): \\n', np.transpose(x))"
   ]
  },
  {
   "cell_type": "code",
   "execution_count": 9,
   "metadata": {
    "colab": {},
    "colab_type": "code",
    "id": "0Ylked4-Z9pF",
    "outputId": "c75b49a9-1b73-4715-dae6-7151cb1208e6"
   },
   "outputs": [
    {
     "name": "stdout",
     "output_type": "stream",
     "text": [
      "sample1의 reshape(trick) 전치 : \n",
      " [[1]\n",
      " [2]\n",
      " [3]]\n",
      "\n",
      "sample2의 reshape(trick) 전치 : \n",
      " [[1 2]\n",
      " [3 4]\n",
      " [5 6]]\n"
     ]
    }
   ],
   "source": [
    "# reshape trick!!!!!\n",
    "# 피쳐의 개수를 가늠하기 어려울 때, -1를 넣어주면 자동으로 피쳐의 수에 맞춰 전치가 실행된다.\n",
    "sample1_reshape_trick = sample1.reshape((-1, 1))\n",
    "sample2_reshape_trick = sample2.reshape((-1, 2))\n",
    "\n",
    "print(\"sample1의 reshape(trick) 전치 : \\n\", sample1_reshape_trick)\n",
    "print(\"\\nsample2의 reshape(trick) 전치 : \\n\", sample2_reshape_trick)"
   ]
  },
  {
   "cell_type": "markdown",
   "metadata": {
    "colab_type": "text",
    "id": "3wIoTSgmqMfN"
   },
   "source": [
    "* ndarray 차원 추가하기"
   ]
  },
  {
   "cell_type": "code",
   "execution_count": 10,
   "metadata": {
    "colab": {
     "base_uri": "https://localhost:8080/",
     "height": 141
    },
    "colab_type": "code",
    "executionInfo": {
     "elapsed": 635,
     "status": "ok",
     "timestamp": 1573177166542,
     "user": {
      "displayName": "Sung Hoon Lim",
      "photoUrl": "",
      "userId": "11994082970032634657"
     },
     "user_tz": -540
    },
    "id": "pQMtGsLYqWrC",
    "outputId": "ae3feb57-daf7-4b05-9501-ee728780a65a"
   },
   "outputs": [
    {
     "name": "stdout",
     "output_type": "stream",
     "text": [
      "z: [1 2 3]\n",
      "z[:, np.newaxis]: \n",
      " [[1]\n",
      " [2]\n",
      " [3]]\n",
      "z[np.newaxis, :]: \n",
      " [[1 2 3]]\n"
     ]
    }
   ],
   "source": [
    "z = np.array([1, 2, 3])\n",
    "print(\"z:\", z)\n",
    "\n",
    "print(\"z[:, np.newaxis]: \\n\" , z[:, np.newaxis])\n",
    "print(\"z[np.newaxis, :]: \\n\" , z[np.newaxis, :])"
   ]
  },
  {
   "cell_type": "markdown",
   "metadata": {
    "colab_type": "text",
    "id": "PwKFDp4V2x8S"
   },
   "source": [
    "##### C. 행렬의 합 구하기 \n",
    "\n",
    "1. $(n\\times d)$ 길이를 갖는 행렬 $A$ 와 행렬 $B$의 합을 구한다\n",
    "\n",
    "  * ```>> A+B```\n",
    "2. ```dstack```을 활용하여 더하는 방법\n",
    "  * ``` \n",
    "    >>> C = np.dstack([A, B]) \n",
    "    >>> print(C)\n",
    "    ```  \n",
    "  * ```np.sum(C, axis=2)```\n",
    "  \n",
    "3. **1, 2의 방법의 return 값을 확인할 것!!!**\n"
   ]
  },
  {
   "cell_type": "markdown",
   "metadata": {
    "colab_type": "text",
    "id": "WjjIhBX-Z9pJ"
   },
   "source": [
    "* `+` 를 이용한 행렬의 합 구하기"
   ]
  },
  {
   "cell_type": "code",
   "execution_count": 11,
   "metadata": {
    "colab": {},
    "colab_type": "code",
    "id": "bwju0RxdZ9pK",
    "outputId": "1390667c-6aaa-4ced-fb44-8d37ecb2909b"
   },
   "outputs": [
    {
     "name": "stdout",
     "output_type": "stream",
     "text": [
      "A :  [1 2 3 4 5]\n",
      "B :  [10 20 30 40 50]\n",
      "A + B :  [11 22 33 44 55]\n"
     ]
    }
   ],
   "source": [
    "A = np.array([1,2,3,4,5])\n",
    "B = np.array([10,20,30,40,50])\n",
    "\n",
    "print(\"A : \", A)\n",
    "print(\"B : \", B)\n",
    "print(\"A + B : \", A + B)"
   ]
  },
  {
   "cell_type": "markdown",
   "metadata": {
    "colab_type": "text",
    "id": "EPwtq2nQi8sa"
   },
   "source": [
    "* `sum` 를 이용한 행렬의 합 구하기\n",
    "* ```np.sum(array, axis= sum하고자하는 차원입력)```"
   ]
  },
  {
   "cell_type": "code",
   "execution_count": 12,
   "metadata": {
    "colab": {
     "base_uri": "https://localhost:8080/",
     "height": 106
    },
    "colab_type": "code",
    "executionInfo": {
     "elapsed": 610,
     "status": "ok",
     "timestamp": 1573175603751,
     "user": {
      "displayName": "Sung Hoon Lim",
      "photoUrl": "",
      "userId": "11994082970032634657"
     },
     "user_tz": -540
    },
    "id": "gxmpiJkDjQvx",
    "outputId": "b8b0d7a0-ecb7-45eb-f6d0-94c0058dea2d"
   },
   "outputs": [
    {
     "ename": "NameError",
     "evalue": "name 'C' is not defined",
     "output_type": "error",
     "traceback": [
      "\u001b[0;31m\u001b[0m",
      "\u001b[0;31mNameError\u001b[0mTraceback (most recent call last)",
      "\u001b[0;32m<ipython-input-12-0c349296e480>\u001b[0m in \u001b[0;36m<module>\u001b[0;34m\u001b[0m\n\u001b[0;32m----> 1\u001b[0;31m \u001b[0mD\u001b[0m\u001b[0;34m=\u001b[0m\u001b[0mC\u001b[0m\u001b[0;34m.\u001b[0m\u001b[0mreshape\u001b[0m\u001b[0;34m(\u001b[0m\u001b[0;36m2\u001b[0m\u001b[0;34m,\u001b[0m\u001b[0;36m2\u001b[0m\u001b[0;34m)\u001b[0m\u001b[0;34m\u001b[0m\u001b[0;34m\u001b[0m\u001b[0m\n\u001b[0m\u001b[1;32m      2\u001b[0m \u001b[0mprint\u001b[0m\u001b[0;34m(\u001b[0m\u001b[0;34m\"D:\"\u001b[0m\u001b[0;34m,\u001b[0m \u001b[0mD\u001b[0m\u001b[0;34m)\u001b[0m\u001b[0;34m\u001b[0m\u001b[0;34m\u001b[0m\u001b[0m\n\u001b[1;32m      3\u001b[0m \u001b[0mE\u001b[0m\u001b[0;34m=\u001b[0m\u001b[0mnp\u001b[0m\u001b[0;34m.\u001b[0m\u001b[0msum\u001b[0m\u001b[0;34m(\u001b[0m\u001b[0mD\u001b[0m\u001b[0;34m,\u001b[0m\u001b[0maxis\u001b[0m\u001b[0;34m=\u001b[0m\u001b[0;36m0\u001b[0m\u001b[0;34m)\u001b[0m\u001b[0;34m\u001b[0m\u001b[0;34m\u001b[0m\u001b[0m\n\u001b[1;32m      4\u001b[0m \u001b[0mF\u001b[0m\u001b[0;34m=\u001b[0m\u001b[0mnp\u001b[0m\u001b[0;34m.\u001b[0m\u001b[0msum\u001b[0m\u001b[0;34m(\u001b[0m\u001b[0mD\u001b[0m\u001b[0;34m,\u001b[0m\u001b[0maxis\u001b[0m\u001b[0;34m=\u001b[0m\u001b[0;36m1\u001b[0m\u001b[0;34m)\u001b[0m\u001b[0;34m\u001b[0m\u001b[0;34m\u001b[0m\u001b[0m\n\u001b[1;32m      5\u001b[0m \u001b[0mprint\u001b[0m\u001b[0;34m(\u001b[0m\u001b[0;34m\"axis=0 sum:\"\u001b[0m\u001b[0;34m,\u001b[0m \u001b[0mE\u001b[0m\u001b[0;34m)\u001b[0m\u001b[0;34m\u001b[0m\u001b[0;34m\u001b[0m\u001b[0m\n",
      "\u001b[0;31mNameError\u001b[0m: name 'C' is not defined"
     ]
    }
   ],
   "source": [
    "D=C.reshape(2,2)\n",
    "print(\"D:\", D)\n",
    "E=np.sum(D,axis=0)\n",
    "F=np.sum(D,axis=1)\n",
    "print(\"axis=0 sum:\", E)\n",
    "\n",
    "print(\"axis=1 sum:\", F)\n",
    "F"
   ]
  },
  {
   "cell_type": "markdown",
   "metadata": {
    "colab_type": "text",
    "id": "KqEYj7SNZ9pN"
   },
   "source": [
    "* ``np.dstack``과 ``np.sum``을 이용한 행렬의 합 구하기"
   ]
  },
  {
   "cell_type": "code",
   "execution_count": 13,
   "metadata": {
    "colab": {},
    "colab_type": "code",
    "id": "ozP5LtMCZ9pO",
    "outputId": "0306eb46-bf7b-4b7a-85a1-6e5025771d72"
   },
   "outputs": [
    {
     "name": "stdout",
     "output_type": "stream",
     "text": [
      "np.dstack([A,B]): \n",
      "[[[ 1 10]\n",
      "  [ 2 20]\n",
      "  [ 3 30]\n",
      "  [ 4 40]\n",
      "  [ 5 50]]]\n",
      "\n",
      "np.dstack, np.sum :  [[11 22 33 44 55]]\n"
     ]
    }
   ],
   "source": [
    "C = np.dstack([A, B])\n",
    "\n",
    "print(\"np.dstack([A,B]): \")\n",
    "print(C)\n",
    "print(\"\\nnp.dstack, np.sum : \", np.sum(C, axis=2))"
   ]
  },
  {
   "cell_type": "markdown",
   "metadata": {
    "colab_type": "text",
    "id": "dwXi5J6RoyTR"
   },
   "source": [
    "#### (2)  Outer product of sample vectors \n",
    "우선 행렬의 기본적 [설명](https://ko.wikipedia.org/wiki/%ED%96%89%EB%A0%AC)을 참고바랍니다. \n",
    "\n",
    "다음은 벡터의 [외적](https://ko.wikipedia.org/wiki/%EC%99%B8%EC%A0%81)을 정의합니다. 벡터 $\\mathbf{v}$의 외적은\n",
    "$$\n",
    "\\text{Outer product} = \\mathbf{v}^T \\mathbf{v}\n",
    "$$\n",
    "* 본 강의에서는 기본 벡터 표기를 (특별히 언급하지 않는한) row vector로 사용합니다.\n",
    "  * 즉 $\\mathbf{v}$는 row vector (행벡터), $\\mathbf{v}^T$는 column vector (열벡터)\n",
    "* 위에서 외적을 설명하는 위키 링크 문서의 경우 $\\mathbf{v}$의 기본 표기는 column vector로 가정합니다. 이처럼, 자료를 참고할때, 기본적으로 벡터의 모양이 어떤 형태로 되어 있는지 확인하고 공부를 하셔야 합니다.  \n",
    "\n",
    "<br>\n",
    "\n",
    "* **아래의 numpy.outer의 Parameter와 return을 확인해볼 것**\n",
    "\n",
    "<p><img alt=\"\" src=\"https://drive.google.com/uc?id=1dzT9jia2x3pnsXoi4Ig-q3RAeoxptvnv\" style=\"height:324px; width:400px\" /></p>"
   ]
  },
  {
   "cell_type": "code",
   "execution_count": 7,
   "metadata": {
    "colab": {},
    "colab_type": "code",
    "id": "S--5yXKmZ9pS",
    "outputId": "9f42138e-23de-4445-8262-341efe4d4873",
    "scrolled": true
   },
   "outputs": [
    {
     "ename": "NameError",
     "evalue": "name 'sample1' is not defined",
     "output_type": "error",
     "traceback": [
      "\u001b[0;31m\u001b[0m",
      "\u001b[0;31mNameError\u001b[0mTraceback (most recent call last)",
      "\u001b[0;32m<ipython-input-7-05ac865dd87c>\u001b[0m in \u001b[0;36m<module>\u001b[0;34m\u001b[0m\n\u001b[1;32m      1\u001b[0m print(\"numpy의 np.outer을 사용한 sample1 outer product : \\n\", \n\u001b[0;32m----> 2\u001b[0;31m       np.outer(sample1, sample1))\n\u001b[0m\u001b[1;32m      3\u001b[0m print(\"numpy의 np.outer을 사용한 sample1 outer product : \\n\", \n\u001b[1;32m      4\u001b[0m       np.outer(sample1_reshape_trick, sample1))\n\u001b[1;32m      5\u001b[0m \u001b[0;34m\u001b[0m\u001b[0m\n",
      "\u001b[0;31mNameError\u001b[0m: name 'sample1' is not defined"
     ]
    }
   ],
   "source": [
    "print(\"numpy의 np.outer을 사용한 sample1 outer product : \\n\", \n",
    "      np.outer(sample1, sample1))\n",
    "print(\"numpy의 np.outer을 사용한 sample1 outer product : \\n\", \n",
    "      np.outer(sample1_reshape_trick, sample1))\n",
    "\n",
    "\n",
    "print(\"\\nnumpy의 np.outer을 사용한 sample2 outer product : \\n\", \n",
    "      np.outer(sample2, sample2))\n",
    "print(\"\\nnumpy의 np.outer을 사용한 sample2 outer product : \\n\", \n",
    "      np.outer(sample2_reshape_trick, sample2))"
   ]
  },
  {
   "cell_type": "markdown",
   "metadata": {
    "colab_type": "text",
    "id": "rfBOSur4Z9pW"
   },
   "source": [
    "### Excercise 1 - Outer product of sample vectors (20 point)\n",
    "\n",
    "- - -\n",
    "\n",
    "다음 데이터에 대하여 다음 과제를 수행하세요.\n",
    "\n",
    "- regular.csv : KBO에서 활약한 타자들의 역대 정규시즌 성적을 포함하여 몸무게, 키 ,생년월일 등의 기본정보\n",
    "\n",
    "**위의 두 데이터는 모두 `,`로 구분되어 있습니다.**\n",
    "\n",
    " - **데이터의 자세한 설명은 다음의 링크를 참조해주세요.([여기를 눌러서 데이터 설명 참고](https://dacon.io/cpt6/62885))**\n",
    " - 또한 regular.csv를 직접 열어서 데이터가 어떻게 저장되어 있는지 확인해주세요.\n",
    "\n",
    "**task**\n",
    "\n",
    "* 1 : 주어지는 code는 ``regular.csv``에 특정 기준을 적용하여 생성되는 RDD입니다. ``생성되는 RDD가 어떤 RDD인지 자세하게 2 ~ 3줄 이내로 설명``하세요. (5 point)\n",
    "\n",
    "<br>\n",
    "\n",
    "* 2 : \n",
    "\n",
    "    ``RDD_to_outer`` 함수는 ``ndarray``를 ``parameter``를 받아 ``outer product를 return`` 합니다.(10 point)\n",
    "\n",
    "<br>\n",
    "\n",
    "* 3 : ``task1에서 주어진 RDD``에 ``map``을 이용하여 ``RDD_to_outer``를 적용합니다. (10 point)"
   ]
  },
  {
   "cell_type": "markdown",
   "metadata": {
    "colab_type": "text",
    "id": "Ch7u6nuNZ9pX"
   },
   "source": [
    "**task**\n",
    "\n",
    "* 1 : 주어지는 code는 ``regular.csv``에 특정 기준을 적용하여 생성되는 RDD입니다. ``생성되는 RDD가 어떤 RDD인지 자세하게 2 ~ 3줄 이내로 설명``하세요. (5 point)"
   ]
  },
  {
   "cell_type": "code",
   "execution_count": 10,
   "metadata": {
    "colab": {},
    "colab_type": "code",
    "id": "s9sSYjDoZ9pY"
   },
   "outputs": [],
   "source": [
    "import urllib.request\n",
    "import re\n",
    "\n",
    "f = urllib.request.urlretrieve (\"https://docs.google.com/uc?export=download&id=1b_L-rJYJC9Oqga0fQ2zh2M763CTM8jzR\", \"regular.csv\")\n",
    "regular = sc.textFile(\"./regular.csv\").map(lambda x : x.split(\",\"))\n",
    "\n",
    "def stringToFloat(element): # G R H RBI BB\n",
    "    float_list = []\n",
    "    for index in [5,7,8,13,16]:\n",
    "        float_list.append(float(element[index]) if element[index] != '' else float(0))\n",
    "    return (int(element[0]), np.array(float_list, dtype = 'float64'))\n",
    "\n",
    "RDD_step1 = regular.filter(lambda x : x[3] == \"두산\").map(stringToFloat).cache()\n",
    "RDD_step2 = RDD_step1.reduceByKey(lambda x, y : x + y).sortByKey().map(lambda x : x[1]).cache()"
   ]
  },
  {
   "cell_type": "markdown",
   "metadata": {
    "colab_type": "text",
    "id": "zEAb0piDZ9pb"
   },
   "source": [
    "#### task 1 답안 작성:먼저 G,R,H,RBI,BB가 있는 행만 전부 뽑아내고 데이터 타입은 float64로 변경을 해주고 0일경우는 인덱스에 추가하지 않으며 3번째에 있는 값이 두산인 경우만 문자에서 float형태로 바꿔주고 reduceByKey를 통해 같은 key의 value값들을 더해주고 정렬후 모든 값들을 x[1]번째에 넣어줌.\n",
    "여기에 입력하시오!!!"
   ]
  },
  {
   "cell_type": "markdown",
   "metadata": {
    "colab_type": "text",
    "id": "mSHUTYKfZ9pc"
   },
   "source": [
    "**task**\n",
    "\n",
    "* 2 : \n",
    "\n",
    "    ``RDD_to_outer`` 함수는 ``ndarray``를 ``parameter``를 받아 ``outer product를 return`` 합니다.(10 point)\n",
    "\n",
    "<br>\n",
    "\n",
    "* 3 : ``task1에서 주어진 RDD``에 ``map``을 이용하여 ``RDD_to_outer``를 적용합니다. (10 point)\n",
    "\n",
    "```\n",
    "# task 1-3 output\n",
    "[array([[63504., 18900., 26460., 13608., 13104.],\n",
    "        [18900.,  5625.,  7875.,  4050.,  3900.],\n",
    "        [26460.,  7875., 11025.,  5670.,  5460.],\n",
    "        [13608.,  4050.,  5670.,  2916.,  2808.],\n",
    "        [13104.,  3900.,  5460.,  2808.,  2704.]]),\n",
    " array([[772641., 375333., 510699., 256668., 244362.],\n",
    "        [375333., 182329., 248087., 124684., 118706.],\n",
    "        [510699., 248087., 337561., 169652., 161518.],\n",
    "        [256668., 124684., 169652.,  85264.,  81176.],\n",
    "        [244362., 118706., 161518.,  81176.,  77284.]])]\n",
    "```"
   ]
  },
  {
   "cell_type": "code",
   "execution_count": 11,
   "metadata": {},
   "outputs": [
    {
     "name": "stdout",
     "output_type": "stream",
     "text": [
      "[array([252.,  75., 105.,  54.,  52.]), array([879., 427., 581., 292., 278.]), array([143.,  53.,  72.,  47.,  31.]), array([1500.,  782., 1589., 1008.,  785.]), array([36., 12., 10.,  4.,  2.]), array([38., 12.,  6.,  2.,  5.]), array([15.,  1.,  3.,  5.,  0.]), array([91., 21., 36., 17., 14.]), array([1204.,  461.,  818.,  428.,  363.]), array([574., 368., 601., 416., 249.]), array([1131.,  660., 1294.,  771.,  597.]), array([373.,  76., 134.,  61.,  43.]), array([76., 30., 67., 50., 29.]), array([359., 149., 174.,  64.,  60.]), array([1096.,  578.,  933.,  444.,  284.]), array([544., 316., 577., 281., 124.]), array([297., 109., 149.,  74.,  60.]), array([3., 0., 1., 0., 0.]), array([23.,  7.,  6.,  4.,  5.]), array([953., 354., 781., 345., 286.]), array([50., 10., 15.,  9.,  4.]), array([1066.,  474.,  980.,  547.,  348.]), array([58., 11.,  6.,  3.,  3.]), array([1325.,  615., 1070.,  467.,  414.]), array([639., 275., 520., 368., 247.]), array([304.,  50., 112.,  33.,  29.]), array([15.,  5., 10.,  6.,  5.]), array([271.,  60., 162.,  78.,  43.]), array([237.,  60., 154.,  66.,  48.]), array([28.,  5.,  6.,  2.,  1.]), array([8., 2., 3., 0., 0.]), array([327., 130., 230., 148.,  89.]), array([4., 0., 1., 0., 0.]), array([617., 229., 481., 250., 163.]), array([913., 570., 970., 314., 343.]), array([7., 0., 0., 0., 0.]), array([648., 234., 422., 157., 199.]), array([98., 31., 24., 12., 10.]), array([20.,  2.,  5.,  1.,  1.]), array([12.,  2.,  3.,  3.,  0.]), array([911., 478., 740., 286., 228.]), array([409., 163., 203.,  97.,  66.]), array([265.,  68.,  72.,  22.,  13.]), array([218.,  65., 142.,  74.,  26.]), array([5., 1., 1., 1., 0.]), array([271.,  37.,  88.,  37.,  20.]), array([694., 289., 546., 288., 167.]), array([853., 290., 692., 462., 327.]), array([111.,  56., 116.,  72.,  34.]), array([796., 391., 702., 290., 196.]), array([1., 0., 0., 0., 0.]), array([1482.,  595., 1478.,  799.,  442.])]\n"
     ]
    }
   ],
   "source": [
    "print(RDD_step2.collect())"
   ]
  },
  {
   "cell_type": "code",
   "execution_count": 12,
   "metadata": {
    "colab": {},
    "colab_type": "code",
    "id": "R6ItM_kRZ9pd",
    "scrolled": false
   },
   "outputs": [
    {
     "data": {
      "text/plain": [
       "[array([[63504., 18900., 26460., 13608., 13104.],\n",
       "        [18900.,  5625.,  7875.,  4050.,  3900.],\n",
       "        [26460.,  7875., 11025.,  5670.,  5460.],\n",
       "        [13608.,  4050.,  5670.,  2916.,  2808.],\n",
       "        [13104.,  3900.,  5460.,  2808.,  2704.]]),\n",
       " array([[772641., 375333., 510699., 256668., 244362.],\n",
       "        [375333., 182329., 248087., 124684., 118706.],\n",
       "        [510699., 248087., 337561., 169652., 161518.],\n",
       "        [256668., 124684., 169652.,  85264.,  81176.],\n",
       "        [244362., 118706., 161518.,  81176.,  77284.]])]"
      ]
     },
     "execution_count": 12,
     "metadata": {},
     "output_type": "execute_result"
    }
   ],
   "source": [
    "# 1 - 2 답안 작성\n",
    "def RDD_to_outer(ndarray):#RDD_to_outer 함수에 ndarray라는 RDD를 직접 받음\n",
    "    outerproduct=np.outer(ndarray,ndarray) #outerproduct라는 이름에 np.outer함수를 사용하고 받은 함수 인자를 넣어줘서 외적값을 저장함\n",
    "    return outerproduct#결과값을 반환함\n",
    "    # 여기에 작성\n",
    "\n",
    "# 1 - 3 답안 작성\n",
    "task3_result=RDD_step2.map(lambda x:RDD_to_outer(x))#task3_result는 RDD_step2의 map을 이용하여 RDD_to_outer함수를 사용하고 값을 저장함\n",
    "# output\n",
    "task3_result.take(2)#결과값 2개만 출력"
   ]
  },
  {
   "cell_type": "markdown",
   "metadata": {
    "colab_type": "text",
    "id": "ObHHrpduzT3M"
   },
   "source": [
    "### 1. 공분산 구하기 첫번째 방법\n",
    "1. Sample vector $\\mathbf{x}_i$, $i=1,\\ldots, n$와 평균 벡터 $\\bar{\\mathbf{x}}$ 에 대해서 다음 연산을 수행합니다. \n",
    "2. $\\tilde{\\mathbf{x}}_i = \\mathbf{x}_i-\\bar{\\mathbf{x}}$\n",
    "3. 각 벡터 $\\tilde{\\mathbf{x}}_i$의 outer product (외적)을 구합니다\n",
    "\\begin{align*}\n",
    "\\tilde{\\mathbf{O}}_i = \\tilde{\\mathbf{x}}_i^T \\tilde{\\mathbf{x}}_i\n",
    "\\end{align*}\n",
    "4. Sample covariance matrix는 다음과 같이 정의됩니다!\n",
    "\\begin{align*}\n",
    "\\text{Cov}_1(\\mathbf{x}) = \\frac{1}{n} \\sum_{i=1}^n \\tilde{\\mathbf{O}}_i\n",
    "\\end{align*}"
   ]
  },
  {
   "cell_type": "code",
   "execution_count": 11,
   "metadata": {},
   "outputs": [
    {
     "name": "stdout",
     "output_type": "stream",
     "text": [
      "[[[1 3 5]\n",
      "  [2 4 6]]]\n",
      "[[3 7]]\n"
     ]
    }
   ],
   "source": [
    "sample1 = np.array([1,2])\n",
    "sample2 = np.array([3,4])\n",
    "sample3 =np.array([5,6])\n",
    "sample_sum=np.dstack([sample1,sample2,sample3])\n",
    "sample_max=np.sum(np.dstack([sample1,sample2]),axis=1)\n",
    "print(sample_sum)\n",
    "print(sample_max)"
   ]
  },
  {
   "cell_type": "code",
   "execution_count": 258,
   "metadata": {},
   "outputs": [
    {
     "name": "stdout",
     "output_type": "stream",
     "text": [
      "[[1 4]\n",
      " [2 5]\n",
      " [3 6]]\n"
     ]
    }
   ],
   "source": [
    "a=[1,2,3]\n",
    "b=[4,5,6]\n",
    "sample_easy=np.sum(np.dstack([a,b]),axis=0)\n",
    "print(sample_easy)"
   ]
  },
  {
   "cell_type": "code",
   "execution_count": 13,
   "metadata": {
    "colab": {},
    "colab_type": "code",
    "id": "dnfK1PTl5fYZ",
    "outputId": "3d75852c-1357-4963-8cac-b1a6029ba37a",
    "scrolled": false
   },
   "outputs": [
    {
     "name": "stdout",
     "output_type": "stream",
     "text": [
      "각 sample의 값 :  [1 2 3] [4 5 6] [7 8 9]\n",
      "[[[1 4 7]\n",
      "  [2 5 8]\n",
      "  [3 6 9]]]\n"
     ]
    },
    {
     "ename": "NameError",
     "evalue": "name 'samole_sum' is not defined",
     "output_type": "error",
     "traceback": [
      "\u001b[0;31m\u001b[0m",
      "\u001b[0;31mNameError\u001b[0mTraceback (most recent call last)",
      "\u001b[0;32m<ipython-input-13-8cd463cd1b0e>\u001b[0m in \u001b[0;36m<module>\u001b[0;34m\u001b[0m\n\u001b[1;32m     12\u001b[0m \u001b[0msample_sum\u001b[0m \u001b[0;34m=\u001b[0m \u001b[0mnp\u001b[0m\u001b[0;34m.\u001b[0m\u001b[0mdstack\u001b[0m\u001b[0;34m(\u001b[0m\u001b[0;34m[\u001b[0m\u001b[0msample1\u001b[0m\u001b[0;34m,\u001b[0m \u001b[0msample2\u001b[0m\u001b[0;34m,\u001b[0m\u001b[0msample3\u001b[0m\u001b[0;34m]\u001b[0m\u001b[0;34m)\u001b[0m\u001b[0;34m\u001b[0m\u001b[0;34m\u001b[0m\u001b[0m\n\u001b[1;32m     13\u001b[0m \u001b[0mprint\u001b[0m\u001b[0;34m(\u001b[0m\u001b[0msample_sum\u001b[0m\u001b[0;34m)\u001b[0m\u001b[0;34m\u001b[0m\u001b[0;34m\u001b[0m\u001b[0m\n\u001b[0;32m---> 14\u001b[0;31m \u001b[0msamole_sum\u001b[0m\u001b[0;34m.\u001b[0m\u001b[0mshape\u001b[0m\u001b[0;34m\u001b[0m\u001b[0;34m\u001b[0m\u001b[0m\n\u001b[0m\u001b[1;32m     15\u001b[0m \u001b[0msample_sum\u001b[0m \u001b[0;34m=\u001b[0m \u001b[0mnp\u001b[0m\u001b[0;34m.\u001b[0m\u001b[0msum\u001b[0m\u001b[0;34m(\u001b[0m\u001b[0mnp\u001b[0m\u001b[0;34m.\u001b[0m\u001b[0mdstack\u001b[0m\u001b[0;34m(\u001b[0m\u001b[0;34m[\u001b[0m\u001b[0msample_sum\u001b[0m\u001b[0;34m,\u001b[0m \u001b[0msample3\u001b[0m\u001b[0;34m]\u001b[0m\u001b[0;34m)\u001b[0m\u001b[0;34m,\u001b[0m \u001b[0maxis\u001b[0m \u001b[0;34m=\u001b[0m \u001b[0;36m2\u001b[0m\u001b[0;34m)\u001b[0m\u001b[0;34m\u001b[0m\u001b[0;34m\u001b[0m\u001b[0m\n\u001b[1;32m     16\u001b[0m \u001b[0mprint\u001b[0m\u001b[0;34m(\u001b[0m\u001b[0msample_sum\u001b[0m\u001b[0;34m)\u001b[0m\u001b[0;34m\u001b[0m\u001b[0;34m\u001b[0m\u001b[0m\n",
      "\u001b[0;31mNameError\u001b[0m: name 'samole_sum' is not defined"
     ]
    }
   ],
   "source": [
    "# 위 절차에 맞추어서 공분산 1 번째 방법으로 구하기 \n",
    "# in python\n",
    "import numpy as np\n",
    "\n",
    "sample1 = np.array([1,2,3])\n",
    "sample2 = np.array([4,5,6])\n",
    "sample3 = np.array([7,8,9])\n",
    "\n",
    "print(\"각 sample의 값 : \", sample1, sample2, sample3)\n",
    "\n",
    "# 평균 벡터 구하기\n",
    "sample_sum = np.dstack([sample1, sample2,sample3])\n",
    "print(sample_sum)\n",
    "sample_sum = np.sum(np.dstack([sample_sum, sample3]), axis = 2)\n",
    "print(sample_sum)\n",
    "sample_mean = sample_sum / 3\n",
    "\n",
    "# 평균이 빼진 각 sample의 outer product 구하기\n",
    "# sample에서 평균 벡터 빼기\n",
    "sample1_del_mean = sample1 - sample_mean\n",
    "sample2_del_mean = sample2 - sample_mean\n",
    "sample3_del_mean = sample3 - sample_mean\n",
    "\n",
    "# outerproduct 구하기\n",
    "sample1_outer = np.outer(sample1_del_mean,sample1_del_mean)\n",
    "sample2_outer = np.outer(sample2_del_mean,sample2_del_mean)\n",
    "sample3_outer = np.outer(sample3_del_mean,sample3_del_mean)\n",
    "\n",
    "# Sample covariance matrix 구하기\n",
    "sample_cov = np.dstack([sample1_outer, sample2_outer])\n",
    "sample_cov = np.sum(np.dstack([sample_cov, sample3_outer]), axis = 2)/3\n",
    "\n",
    "print(\"\\nSample covariance matrix : \")\n",
    "print(sample_cov)"
   ]
  },
  {
   "cell_type": "code",
   "execution_count": 0,
   "metadata": {
    "colab": {},
    "colab_type": "code",
    "id": "K1mkauTzZ9pl",
    "outputId": "4100a06d-bc2c-4654-9fdf-56a11c98519e",
    "scrolled": true
   },
   "outputs": [
    {
     "name": "stdout",
     "output_type": "stream",
     "text": [
      "각 sample의 값 :  [array([1, 2, 3]), array([4, 5, 6]), array([7, 8, 9])]\n",
      "\n",
      "Sample covariance matrix : \n",
      "[[6. 6. 6.]\n",
      " [6. 6. 6.]\n",
      " [6. 6. 6.]]\n"
     ]
    }
   ],
   "source": [
    "# in spark\n",
    "vector_list = sc.parallelize([np.array([1,2,3]),np.array([4,5,6]),np.array([7,8,9])])\n",
    "print(\"각 sample의 값 : \", vector_list.collect())\n",
    "\n",
    "# 평균 벡터 구하기\n",
    "sample_sum = vector_list\\\n",
    "    .reduce(lambda ndarr1, ndarr2 : np.sum(np.dstack([ndarr1, ndarr2]), axis=2))\n",
    "sample_mean = sample_sum / vector_list.count()\n",
    "\n",
    "# 평균이 빼진 각 sample의 outer  구하기\n",
    "# sample에서 평균 벡터 빼기 및 outerproproductduct\n",
    "vector_outer = vector_list.map(lambda x : x - sample_mean)\\\n",
    "                          .map(lambda x : np.outer(x, x)).cache()\n",
    "\n",
    "# Sample covariance matrix\n",
    "sample_cov = vector_outer.reduce(lambda x, y : np.sum(np.dstack([x, y]), axis=2))\n",
    "print(\"\\nSample covariance matrix : \")\n",
    "print(sample_cov / vector_list.count())\n"
   ]
  },
  {
   "cell_type": "markdown",
   "metadata": {
    "colab_type": "text",
    "id": "dOJ1FWUJZ9ps"
   },
   "source": [
    "\n",
    "### Excercise 2 - \n",
    "#### 공분산 구하기 첫 번째 방법을 적용해 보자! (25 point)\n",
    "\n",
    "- - -\n",
    "\n",
    "``Excercise1 에서 주어진 RDD_step2를 이용하여 진행``합니다.\n",
    "\n",
    "- - -\n",
    "\n",
    "**task**\n",
    "1. $\\bar{\\mathbf{x}} = \\frac{1}{n}\\sum_{i=1}^n \\mathbf{x}_i$ (평균 벡터 구하기) (5 point)\n",
    "    - `평균 벡터 구하는 방법은 HW7를 참조합시다.!`\n",
    "2. $\\tilde{\\mathbf{x}}_i = \\mathbf{x}_i-\\bar{\\mathbf{x}}$ (sample에서 평균 벡터 빼기) (5 point)\n",
    "3. 각 벡터 $\\tilde{\\mathbf{x}}_i$의 outer product (외적)을 구하기 (5 point)\n",
    "\\begin{align*}\n",
    "\\tilde{\\mathbf{O}}_i = \\tilde{\\mathbf{x}}_i^T \\tilde{\\mathbf{x}}_i\n",
    "\\end{align*}\n",
    "4. Sample covariance matrix (10 point)\n",
    "\\begin{align*}\n",
    "\\text{Cov}_1(\\mathbf{x}) = \\frac{1}{n} \\sum_{i=1}^n \\tilde{\\mathbf{O}}_i\n",
    "\\end{align*}"
   ]
  },
  {
   "cell_type": "code",
   "execution_count": 25,
   "metadata": {},
   "outputs": [
    {
     "data": {
      "text/plain": [
       "[array([252.,  75., 105.,  54.,  52.]),\n",
       " array([879., 427., 581., 292., 278.]),\n",
       " array([143.,  53.,  72.,  47.,  31.]),\n",
       " array([1500.,  782., 1589., 1008.,  785.]),\n",
       " array([36., 12., 10.,  4.,  2.]),\n",
       " array([38., 12.,  6.,  2.,  5.]),\n",
       " array([15.,  1.,  3.,  5.,  0.]),\n",
       " array([91., 21., 36., 17., 14.]),\n",
       " array([1204.,  461.,  818.,  428.,  363.]),\n",
       " array([574., 368., 601., 416., 249.]),\n",
       " array([1131.,  660., 1294.,  771.,  597.]),\n",
       " array([373.,  76., 134.,  61.,  43.]),\n",
       " array([76., 30., 67., 50., 29.]),\n",
       " array([359., 149., 174.,  64.,  60.]),\n",
       " array([1096.,  578.,  933.,  444.,  284.]),\n",
       " array([544., 316., 577., 281., 124.]),\n",
       " array([297., 109., 149.,  74.,  60.]),\n",
       " array([3., 0., 1., 0., 0.]),\n",
       " array([23.,  7.,  6.,  4.,  5.]),\n",
       " array([953., 354., 781., 345., 286.]),\n",
       " array([50., 10., 15.,  9.,  4.]),\n",
       " array([1066.,  474.,  980.,  547.,  348.]),\n",
       " array([58., 11.,  6.,  3.,  3.]),\n",
       " array([1325.,  615., 1070.,  467.,  414.]),\n",
       " array([639., 275., 520., 368., 247.]),\n",
       " array([304.,  50., 112.,  33.,  29.]),\n",
       " array([15.,  5., 10.,  6.,  5.]),\n",
       " array([271.,  60., 162.,  78.,  43.]),\n",
       " array([237.,  60., 154.,  66.,  48.]),\n",
       " array([28.,  5.,  6.,  2.,  1.]),\n",
       " array([8., 2., 3., 0., 0.]),\n",
       " array([327., 130., 230., 148.,  89.]),\n",
       " array([4., 0., 1., 0., 0.]),\n",
       " array([617., 229., 481., 250., 163.]),\n",
       " array([913., 570., 970., 314., 343.]),\n",
       " array([7., 0., 0., 0., 0.]),\n",
       " array([648., 234., 422., 157., 199.]),\n",
       " array([98., 31., 24., 12., 10.]),\n",
       " array([20.,  2.,  5.,  1.,  1.]),\n",
       " array([12.,  2.,  3.,  3.,  0.]),\n",
       " array([911., 478., 740., 286., 228.]),\n",
       " array([409., 163., 203.,  97.,  66.]),\n",
       " array([265.,  68.,  72.,  22.,  13.]),\n",
       " array([218.,  65., 142.,  74.,  26.]),\n",
       " array([5., 1., 1., 1., 0.]),\n",
       " array([271.,  37.,  88.,  37.,  20.]),\n",
       " array([694., 289., 546., 288., 167.]),\n",
       " array([853., 290., 692., 462., 327.]),\n",
       " array([111.,  56., 116.,  72.,  34.]),\n",
       " array([796., 391., 702., 290., 196.]),\n",
       " array([1., 0., 0., 0., 0.]),\n",
       " array([1482.,  595., 1478.,  799.,  442.])]"
      ]
     },
     "execution_count": 25,
     "metadata": {},
     "output_type": "execute_result"
    }
   ],
   "source": [
    "RDD_step2"
   ]
  },
  {
   "cell_type": "markdown",
   "metadata": {
    "colab_type": "text",
    "id": "eVTftJRlZ9pu"
   },
   "source": [
    "**task**\n",
    "1. $\\bar{\\mathbf{x}} = \\frac{1}{n}\\sum_{i=1}^n \\mathbf{x}_i$ (평균 벡터 구하기) (5 point)\n",
    "\n",
    "```\n",
    "Exercise 1에서 생성한 RDD_step2 를 이용합니다.\n",
    " PythonRDD[86] at RDD at PythonRDD.scala:53 \n",
    " \n",
    "# task 2-1 output\n",
    "sample sum :  [[22250.  9689. 17891.  9259.  6733.]]\n",
    "sample count :  52\n",
    "sample mean :  [[427.88461538 186.32692308 344.05769231 178.05769231 129.48076923]]\n",
    "```"
   ]
  },
  {
   "cell_type": "code",
   "execution_count": 132,
   "metadata": {
    "colab": {},
    "colab_type": "code",
    "id": "p0cHgX_-Z9pv",
    "scrolled": true
   },
   "outputs": [
    {
     "name": "stdout",
     "output_type": "stream",
     "text": [
      "Exercise 1에서 생성한 RDD_step2 를 이용합니다.\n",
      " PythonRDD[35] at RDD at PythonRDD.scala:53 \n",
      "\n",
      "sample sum :  [[22250.  9689. 17891.  9259.  6733.]]\n",
      "sample count :  52\n",
      "sample mean :  [[427.88461538 186.32692308 344.05769231 178.05769231 129.48076923]]\n"
     ]
    }
   ],
   "source": [
    "print(\"Exercise 1에서 생성한 RDD_step2 를 이용합니다.\\n\",RDD_step2,\"\\n\")\n",
    "sample_sum=RDD_step2.reduce(lambda x,y: np.sum(np.dstack([x+y]),axis=2))#sample_sum에 RDD_step2를 reduce하여 열끼리 더하여 저장\n",
    "sample_mean=sample_sum/RDD_step2.count()#평균값mean은 다 더한 것을 count갯수로 나눔\n",
    "\n",
    "# 2 - 1 답안 작성\n",
    "\n",
    "\n",
    "\n",
    "\n",
    "\n",
    "# output\n",
    "print(\"sample sum : \", sample_sum)#sum출력\n",
    "print(\"sample count : \", RDD_step2.count())#count출력\n",
    "print(\"sample mean : \", sample_mean)#mean출력"
   ]
  },
  {
   "cell_type": "markdown",
   "metadata": {
    "colab_type": "text",
    "id": "cakm9PDpZ9py"
   },
   "source": [
    "**task**\n",
    "2. $\\tilde{\\mathbf{x}}_i = \\mathbf{x}_i-\\bar{\\mathbf{x}}$ (sample에서 평균 벡터 빼기) (5 point)\n",
    "\n",
    "<br>\n",
    "\n",
    "3. 각 벡터 $\\tilde{\\mathbf{x}}_i$의 outer product (외적)을 구하기 (5 point)\n",
    "\\begin{align*}\n",
    "\\tilde{\\mathbf{O}}_i = \\tilde{\\mathbf{x}}_i^T \\tilde{\\mathbf{x}}_i\n",
    "\\end{align*}\n",
    "\n",
    "```\n",
    "# task 2-3 output 예시(출력 결과는 다를 수 있습니다)\n",
    "[[30935.39792899 19580.69304734 42046.57026627 21819.83949704\n",
    "  13627.67529586]\n",
    " [19580.69304734 12393.68380178 26613.55732249 13810.96116864\n",
    "   8625.69563609]\n",
    " [42046.57026627 26613.55732249 57148.58025148 29656.94563609\n",
    "  18522.37389053]\n",
    " [21819.83949704 13810.96116864 29656.94563609 15390.31102071\n",
    "   9612.08542899]\n",
    " [13627.67529586  8625.69563609 18522.37389053  9612.08542899\n",
    "   6003.26960059]]\n",
    " ```"
   ]
  },
  {
   "cell_type": "code",
   "execution_count": null,
   "metadata": {},
   "outputs": [],
   "source": []
  },
  {
   "cell_type": "code",
   "execution_count": 62,
   "metadata": {
    "colab": {},
    "colab_type": "code",
    "id": "XRdvXTi3Z9pz",
    "scrolled": true
   },
   "outputs": [
    {
     "name": "stdout",
     "output_type": "stream",
     "text": [
      "# task 3 output 예시(출력 결과는 다를 수 있습니다)\n",
      "[[9944047.30769231 4797399.96153846 9322086.34615385 4921052.34615385\n",
      "  3665524.88461538]\n",
      " [4797399.96153846 2462705.44230769 4680484.01923077 2466252.01923077\n",
      "  1854649.82692308]\n",
      " [9322086.34615385 4680484.01923077 9249786.82692308 4968547.82692308\n",
      "  3653480.55769231]\n",
      " [4921052.34615385 2466252.01923077 4968547.82692308 2814554.82692308\n",
      "  2030642.55769231]\n",
      " [3665524.88461538 1854649.82692308 3653480.55769231 2030642.55769231\n",
      "  1541260.98076923]]\n"
     ]
    }
   ],
   "source": [
    "# task 2-2와 2-3 답안 작성\n",
    "\n",
    "\n",
    "# output\n",
    "print(\"# task 3 output 예시(출력 결과는 다를 수 있습니다)\")\n",
    "a=RDD_step2.map(lambda x:(x-sample_mean)).map(lambda x:np.outer(x,x)).reduce(lambda x,y:(x+y))#a에 RDD_step2의 map을 하여 x-sample_mean의 값들로 리스트를 만들고 map을 한 번 더하여 나온 값들에 외적을 하고 reduce하여 전부 더해줌\n",
    "print(a)#a값을 출력\n"
   ]
  },
  {
   "cell_type": "code",
   "execution_count": null,
   "metadata": {},
   "outputs": [],
   "source": []
  },
  {
   "cell_type": "markdown",
   "metadata": {
    "colab_type": "text",
    "id": "CLG-_XQuZ9p2"
   },
   "source": [
    "**task**\n",
    "4. Sample covariance matrix\n",
    "\\begin{align*}\n",
    "\\text{Cov}_1(\\mathbf{x}) = \\frac{1}{n} \\sum_{i=1}^n \\tilde{\\mathbf{O}}_i\n",
    "\\end{align*}\n",
    "\n",
    "```\n",
    "# task 2-4 output\n",
    "Sample covariance matrix 방법1 결과(동일한 결과가 출력되어야 합니다): \n",
    "[[191231.67899408  92257.69156805 179270.89127219  94635.62204142\n",
    "   70490.86316568]\n",
    " [ 92257.69156805  47359.72004438  90009.30806213  47427.92344675\n",
    "   35666.34282544]\n",
    " [179270.89127219  90009.30806213 177880.51590237  95548.9966716\n",
    "   70259.24149408]\n",
    " [ 94635.62204142  47427.92344675  95548.9966716   54126.05436391\n",
    "   39050.81841716]\n",
    " [ 70490.86316568  35666.34282544  70259.24149408  39050.81841716\n",
    "   29639.63424556]]\n",
    "   ```"
   ]
  },
  {
   "cell_type": "code",
   "execution_count": 65,
   "metadata": {
    "colab": {},
    "colab_type": "code",
    "id": "5PjxLjzvZ9p3"
   },
   "outputs": [
    {
     "name": "stdout",
     "output_type": "stream",
     "text": [
      "Sample covariance matrix 방법1 결과(동일한 결과가 출력되어야 합니다): \n",
      "[[191231.67899408  92257.69156805 179270.89127219  94635.62204142\n",
      "   70490.86316568]\n",
      " [ 92257.69156805  47359.72004438  90009.30806213  47427.92344675\n",
      "   35666.34282544]\n",
      " [179270.89127219  90009.30806213 177880.51590237  95548.9966716\n",
      "   70259.24149408]\n",
      " [ 94635.62204142  47427.92344675  95548.9966716   54126.05436391\n",
      "   39050.81841716]\n",
      " [ 70490.86316568  35666.34282544  70259.24149408  39050.81841716\n",
      "   29639.63424556]]\n"
     ]
    }
   ],
   "source": [
    "# 2-4 답안 작성\n",
    "cov1 = a/RDD_step2.count()#나온 값에 count를 나눠주고 cov1에 넣어줌\n",
    "# output\n",
    "print(\"Sample covariance matrix 방법1 결과(동일한 결과가 출력되어야 합니다): \")\n",
    "print(cov1)#cov1을 출력"
   ]
  },
  {
   "cell_type": "markdown",
   "metadata": {
    "colab_type": "text",
    "id": "jUlvOp9hvVNQ"
   },
   "source": [
    "### Excercise 3 - \n",
    "#### 공분산 구하기 두 번째 방법을 적용해 보자! (25 point)\n",
    "\n",
    "- - -\n",
    "\n",
    "``Excercise1 에서 주어진 RDD_step2를 이용하여 진행``합니다.\n",
    "\n",
    "- - -\n",
    "#### 공분산 구하기 두번째 방법\n",
    "\n",
    "1. Sample vector $\\mathbf{x}_i$, $i=1,\\ldots, n$와 평균 벡터 $\\bar{\\mathbf{x}}$ 에 대해서 다음 연산을 수행합니다. \n",
    "2. $\\tilde{\\mathbf{x}}_i = \\mathbf{x}_i-\\bar{\\mathbf{x}}$\n",
    "3. 다음과 같이 행렬을 만듭니다 (10 point)\n",
    "\\begin{align*}\n",
    "\\mathbf{X} = \n",
    "\\left[\n",
    "\\begin{array}{c}\n",
    "\\tilde{\\mathbf{x}}_1 \\\\\n",
    "\\tilde{\\mathbf{x}}_2 \\\\\n",
    "\\vdots \\\\\n",
    "\\tilde{\\mathbf{x}}_{n-1} \\\\\n",
    "\\tilde{\\mathbf{x}}_{n} \n",
    "\\end{array}\n",
    "\\right] = \n",
    "\\left[\n",
    "\\begin{array}{cccc}\n",
    "x_{11} - \\bar{x}_{11} & x_{12} - \\bar{x}_{12} & \\cdots & x_{1d} - \\bar{x}_{1d} \\\\\n",
    "x_{21} - \\bar{x}_{21} & x_{22} - \\bar{x}_{22} & \\cdots & x_{2d} - \\bar{x}_{2d} \\\\\n",
    "\\vdots & &\\ddots & \\vdots \\\\\n",
    "x_{n1} - \\bar{x}_{n1} & x_{n2} - \\bar{x}_{n2} & \\cdots & x_{nd} - \\bar{x}_{nd} \\\\\n",
    "\\end{array}\n",
    "\\right]\n",
    "\\end{align*}\n",
    "\n",
    "<br>\n",
    "\n",
    "4. Sample covariance matrix는 다음과 같이 정의됩니다(15 point)\n",
    "    - 행렬곱을 진행할 때, ``.T`` 또는 ``reshape``와 ``np.matmul``을 사용할 것!\n",
    "\\begin{align*}\n",
    "\\text{Cov}_2(\\mathbf{x}) &= \\frac{1}{n}\\mathbf{X}^T \\mathbf{X} \\\\\n",
    "&= \\left[\n",
    "\\begin{array}{cccc}\n",
    "x_{11} - \\bar{x}_{11} & x_{21} - \\bar{x}_{21} & \\cdots & x_{n1} - \\bar{x}_{n1} \\\\\n",
    "x_{12} - \\bar{x}_{12} & x_{22} - \\bar{x}_{22} & \\cdots & x_{n2} - \\bar{x}_{n2} \\\\\n",
    "\\vdots & &\\ddots & \\vdots \\\\\n",
    "x_{1d} - \\bar{x}_{1d} & x_{2d} - \\bar{x}_{2d} & \\cdots & x_{nd} - \\bar{x}_{nd} \\\\\n",
    "\\end{array}\n",
    "\\right]\\left[\n",
    "\\begin{array}{cccc}\n",
    "x_{11} - \\bar{x}_{11} & x_{12} - \\bar{x}_{12} & \\cdots & x_{1d} - \\bar{x}_{1d} \\\\\n",
    "x_{21} - \\bar{x}_{21} & x_{22} - \\bar{x}_{22} & \\cdots & x_{2d} - \\bar{x}_{2d} \\\\\n",
    "\\vdots & &\\ddots & \\vdots \\\\\n",
    "x_{n1} - \\bar{x}_{n1} & x_{n2} - \\bar{x}_{n2} & \\cdots & x_{nd} - \\bar{x}_{nd} \\\\\n",
    "\\end{array}\n",
    "\\right]\n",
    "\\end{align*}"
   ]
  },
  {
   "cell_type": "markdown",
   "metadata": {
    "colab_type": "text",
    "id": "7jtTT1b_Z9p7"
   },
   "source": [
    "**task**\n",
    "1. Sample vector $\\mathbf{x}_i$, $i=1,\\ldots, n$와 평균 벡터 $\\bar{\\mathbf{x}}$ 에 대해서 다음 연산을 수행합니다. \n",
    "2. $\\tilde{\\mathbf{x}}_i = \\mathbf{x}_i-\\bar{\\mathbf{x}}$\n",
    "3. 다음과 같이 행렬을 만듭니다( **np.vstack 이용할 것** ) (10 point)\n",
    "\\begin{align*}\n",
    "\\mathbf{X} = \n",
    "\\left[\n",
    "\\begin{array}{c}\n",
    "\\tilde{\\mathbf{x}}_1 \\\\\n",
    "\\tilde{\\mathbf{x}}_2 \\\\\n",
    "\\vdots \\\\\n",
    "\\tilde{\\mathbf{x}}_{n-1} \\\\\n",
    "\\tilde{\\mathbf{x}}_{n} \n",
    "\\end{array}\n",
    "\\right] = \n",
    "\\left[\n",
    "\\begin{array}{cccc}\n",
    "x_{11} - \\bar{x}_{11} & x_{12} - \\bar{x}_{12} & \\cdots & x_{1d} - \\bar{x}_{1d} \\\\\n",
    "x_{21} - \\bar{x}_{21} & x_{22} - \\bar{x}_{22} & \\cdots & x_{2d} - \\bar{x}_{2d} \\\\\n",
    "\\vdots & &\\ddots & \\vdots \\\\\n",
    "x_{n1} - \\bar{x}_{n1} & x_{n2} - \\bar{x}_{n2} & \\cdots & x_{nd} - \\bar{x}_{nd} \\\\\n",
    "\\end{array}\n",
    "\\right]\n",
    "\\end{align*}\n",
    "\n",
    "```\n",
    "Exercise 1에서 생성한 RDD_step2 를 이용합니다.\n",
    " -> PythonRDD[86] at RDD at PythonRDD.scala:53 \n",
    "\n",
    "Exercise 2에서 생성한 sample mean 을 이용합니다.\n",
    " -> [[427.88461538 186.32692308 344.05769231 178.05769231 129.48076923]]\n",
    "\n",
    "#task 3-3 output\n",
    " -> [[-175.88461538 -111.32692308 -239.05769231 -124.05769231  -77.48076923]\n",
    " [ 451.11538462  240.67307692  236.94230769  113.94230769  148.51923077]\n",
    " [-284.88461538 -133.32692308 -272.05769231 -131.05769231  -98.48076923]\n",
    " [1072.11538462  595.67307692 1244.94230769  829.94230769  655.51923077]\n",
    " [-391.88461538 -174.32692308 -334.05769231 -174.05769231 -127.48076923]\n",
    " [-389.88461538 -174.32692308 -338.05769231 -176.05769231 -124.48076923], \n",
    "                                .\n",
    "                                .\n",
    "                                .\n",
    "```"
   ]
  },
  {
   "cell_type": "code",
   "execution_count": 136,
   "metadata": {},
   "outputs": [
    {
     "name": "stdout",
     "output_type": "stream",
     "text": [
      "PythonRDD[141] at RDD at PythonRDD.scala:53\n"
     ]
    }
   ],
   "source": [
    "task3_3=RDD_step2.map(lambda x :(x-sample_mean))\n",
    "print(task3_3)"
   ]
  },
  {
   "cell_type": "code",
   "execution_count": 41,
   "metadata": {
    "colab": {},
    "colab_type": "code",
    "id": "AUXS6y565pGm",
    "scrolled": true
   },
   "outputs": [
    {
     "name": "stdout",
     "output_type": "stream",
     "text": [
      "Exercise 1에서 생성한 RDD_step2 를 이용합니다.\n",
      " -> PythonRDD[35] at RDD at PythonRDD.scala:53 \n",
      "\n",
      "Exercise 2에서 생성한 sample mean 을 이용합니다.\n",
      " -> [427.88461538 186.32692308 344.05769231 178.05769231 129.48076923]\n",
      "\n",
      "task 3-3 output\n",
      " -> [[-175.88461538 -111.32692308 -239.05769231 -124.05769231  -77.48076923]\n",
      " [ 451.11538462  240.67307692  236.94230769  113.94230769  148.51923077]\n",
      " [-284.88461538 -133.32692308 -272.05769231 -131.05769231  -98.48076923]\n",
      " [1072.11538462  595.67307692 1244.94230769  829.94230769  655.51923077]\n",
      " [-391.88461538 -174.32692308 -334.05769231 -174.05769231 -127.48076923]\n",
      " [-389.88461538 -174.32692308 -338.05769231 -176.05769231 -124.48076923]\n",
      " [-412.88461538 -185.32692308 -341.05769231 -173.05769231 -129.48076923]\n",
      " [-336.88461538 -165.32692308 -308.05769231 -161.05769231 -115.48076923]\n",
      " [ 776.11538462  274.67307692  473.94230769  249.94230769  233.51923077]\n",
      " [ 146.11538462  181.67307692  256.94230769  237.94230769  119.51923077]\n",
      " [ 703.11538462  473.67307692  949.94230769  592.94230769  467.51923077]\n",
      " [ -54.88461538 -110.32692308 -210.05769231 -117.05769231  -86.48076923]\n",
      " [-351.88461538 -156.32692308 -277.05769231 -128.05769231 -100.48076923]\n",
      " [ -68.88461538  -37.32692308 -170.05769231 -114.05769231  -69.48076923]\n",
      " [ 668.11538462  391.67307692  588.94230769  265.94230769  154.51923077]\n",
      " [ 116.11538462  129.67307692  232.94230769  102.94230769   -5.48076923]\n",
      " [-130.88461538  -77.32692308 -195.05769231 -104.05769231  -69.48076923]\n",
      " [-424.88461538 -186.32692308 -343.05769231 -178.05769231 -129.48076923]\n",
      " [-404.88461538 -179.32692308 -338.05769231 -174.05769231 -124.48076923]\n",
      " [ 525.11538462  167.67307692  436.94230769  166.94230769  156.51923077]\n",
      " [-377.88461538 -176.32692308 -329.05769231 -169.05769231 -125.48076923]\n",
      " [ 638.11538462  287.67307692  635.94230769  368.94230769  218.51923077]\n",
      " [-369.88461538 -175.32692308 -338.05769231 -175.05769231 -126.48076923]\n",
      " [ 897.11538462  428.67307692  725.94230769  288.94230769  284.51923077]\n",
      " [ 211.11538462   88.67307692  175.94230769  189.94230769  117.51923077]\n",
      " [-123.88461538 -136.32692308 -232.05769231 -145.05769231 -100.48076923]\n",
      " [-412.88461538 -181.32692308 -334.05769231 -172.05769231 -124.48076923]\n",
      " [-156.88461538 -126.32692308 -182.05769231 -100.05769231  -86.48076923]\n",
      " [-190.88461538 -126.32692308 -190.05769231 -112.05769231  -81.48076923]\n",
      " [-399.88461538 -181.32692308 -338.05769231 -176.05769231 -128.48076923]\n",
      " [-419.88461538 -184.32692308 -341.05769231 -178.05769231 -129.48076923]\n",
      " [-100.88461538  -56.32692308 -114.05769231  -30.05769231  -40.48076923]\n",
      " [-423.88461538 -186.32692308 -343.05769231 -178.05769231 -129.48076923]\n",
      " [ 189.11538462   42.67307692  136.94230769   71.94230769   33.51923077]\n",
      " [ 485.11538462  383.67307692  625.94230769  135.94230769  213.51923077]\n",
      " [-420.88461538 -186.32692308 -344.05769231 -178.05769231 -129.48076923]\n",
      " [ 220.11538462   47.67307692   77.94230769  -21.05769231   69.51923077]\n",
      " [-329.88461538 -155.32692308 -320.05769231 -166.05769231 -119.48076923]\n",
      " [-407.88461538 -184.32692308 -339.05769231 -177.05769231 -128.48076923]\n",
      " [-415.88461538 -184.32692308 -341.05769231 -175.05769231 -129.48076923]\n",
      " [ 483.11538462  291.67307692  395.94230769  107.94230769   98.51923077]\n",
      " [ -18.88461538  -23.32692308 -141.05769231  -81.05769231  -63.48076923]\n",
      " [-162.88461538 -118.32692308 -272.05769231 -156.05769231 -116.48076923]\n",
      " [-209.88461538 -121.32692308 -202.05769231 -104.05769231 -103.48076923]\n",
      " [-422.88461538 -185.32692308 -343.05769231 -177.05769231 -129.48076923]\n",
      " [-156.88461538 -149.32692308 -256.05769231 -141.05769231 -109.48076923]\n",
      " [ 266.11538462  102.67307692  201.94230769  109.94230769   37.51923077]\n",
      " [ 425.11538462  103.67307692  347.94230769  283.94230769  197.51923077]\n",
      " [-316.88461538 -130.32692308 -228.05769231 -106.05769231  -95.48076923]\n",
      " [ 368.11538462  204.67307692  357.94230769  111.94230769   66.51923077]\n",
      " [-426.88461538 -186.32692308 -344.05769231 -178.05769231 -129.48076923]\n",
      " [1054.11538462  408.67307692 1133.94230769  620.94230769  312.51923077]]\n"
     ]
    }
   ],
   "source": [
    "print(\"Exercise 1에서 생성한 RDD_step2 를 이용합니다.\\n ->\",RDD_step2,\"\\n\")\n",
    "print(\"Exercise 2에서 생성한 sample mean 을 이용합니다.\\n ->\", sample_mean)\n",
    "\n",
    "# 3 - 3 답안 작성\n",
    "task3_3=RDD_step2.map(lambda x :(x-sample_mean)).reduce(lambda x,y:np.vstack((x,y)))#task3_3에 RDD_step2를map하고 x-sample_mean을 뺀 리스트를 받고 vstack을 통해 x,y로 행렬을 만들어줌\n",
    "# output\n",
    "print(\"\\ntask 3-3 output\\n ->\", task3_3)"
   ]
  },
  {
   "cell_type": "markdown",
   "metadata": {
    "colab_type": "text",
    "id": "jkiNH12MZ9p_"
   },
   "source": [
    "**task**\n",
    "4. Sample covariance matrix는 다음과 같이 정의됩니다 (15 point)\n",
    "    - 행렬곱을 진행할 때, ``.T`` 또는 ``reshape``와 ``np.matmul``을 사용할 것!\n",
    "\\begin{align*}\n",
    "\\text{Cov}_2(\\mathbf{x}) &= \\frac{1}{n}\\mathbf{X}^T \\mathbf{X} \\\\\n",
    "&= \\left[\n",
    "\\begin{array}{cccc}\n",
    "x_{11} - \\bar{x}_{11} & x_{21} - \\bar{x}_{21} & \\cdots & x_{n1} - \\bar{x}_{n1} \\\\\n",
    "x_{12} - \\bar{x}_{12} & x_{22} - \\bar{x}_{22} & \\cdots & x_{n2} - \\bar{x}_{n2} \\\\\n",
    "\\vdots & &\\ddots & \\vdots \\\\\n",
    "x_{1d} - \\bar{x}_{1d} & x_{2d} - \\bar{x}_{2d} & \\cdots & x_{nd} - \\bar{x}_{nd} \\\\\n",
    "\\end{array}\n",
    "\\right]\\left[\n",
    "\\begin{array}{cccc}\n",
    "x_{11} - \\bar{x}_{11} & x_{12} - \\bar{x}_{12} & \\cdots & x_{1d} - \\bar{x}_{1d} \\\\\n",
    "x_{21} - \\bar{x}_{21} & x_{22} - \\bar{x}_{22} & \\cdots & x_{2d} - \\bar{x}_{2d} \\\\\n",
    "\\vdots & &\\ddots & \\vdots \\\\\n",
    "x_{n1} - \\bar{x}_{n1} & x_{n2} - \\bar{x}_{n2} & \\cdots & x_{nd} - \\bar{x}_{nd} \\\\\n",
    "\\end{array}\n",
    "\\right]\n",
    "\\end{align*}\n",
    "\n",
    "```\n",
    "# task 3-4 output\n",
    "Sample covariance matrix 방법2 결과(동일한 결과가 출력되어야 합니다)\n",
    " -> [[191231.67899408  92257.69156805 179270.89127219  94635.62204142\n",
    "   70490.86316568]\n",
    " [ 92257.69156805  47359.72004438  90009.30806213  47427.92344675\n",
    "   35666.34282544]\n",
    " [179270.89127219  90009.30806213 177880.51590237  95548.9966716\n",
    "   70259.24149408]\n",
    " [ 94635.62204142  47427.92344675  95548.9966716   54126.05436391\n",
    "   39050.81841716]\n",
    " [ 70490.86316568  35666.34282544  70259.24149408  39050.81841716\n",
    "   29639.63424556]]\n",
    "\n",
    "cov1과 cov2의 비교(오차)\n",
    " ->  0.0\n",
    " ```"
   ]
  },
  {
   "cell_type": "code",
   "execution_count": 51,
   "metadata": {},
   "outputs": [
    {
     "data": {
      "text/plain": [
       "8"
      ]
     },
     "execution_count": 51,
     "metadata": {},
     "output_type": "execute_result"
    }
   ],
   "source": [
    "a=[1,2]\n",
    "b=[2,3]\n",
    "np.matmul(a,b)"
   ]
  },
  {
   "cell_type": "code",
   "execution_count": 66,
   "metadata": {
    "colab": {},
    "colab_type": "code",
    "id": "BaS_1R15Z9qA",
    "scrolled": true
   },
   "outputs": [
    {
     "name": "stdout",
     "output_type": "stream",
     "text": [
      "Sample covariance matrix 방법2 결과(동일한 결과가 출력되어야 합니다)\n",
      " -> [[191231.67899408  92257.69156805 179270.89127219  94635.62204142\n",
      "   70490.86316568]\n",
      " [ 92257.69156805  47359.72004438  90009.30806213  47427.92344675\n",
      "   35666.34282544]\n",
      " [179270.89127219  90009.30806213 177880.51590237  95548.9966716\n",
      "   70259.24149408]\n",
      " [ 94635.62204142  47427.92344675  95548.9966716   54126.05436391\n",
      "   39050.81841716]\n",
      " [ 70490.86316568  35666.34282544  70259.24149408  39050.81841716\n",
      "   29639.63424556]]\n",
      "\n",
      "cov1과 cov2의 비교(오차)\n",
      " ->  0.0\n"
     ]
    }
   ],
   "source": [
    "# 3-4 답안 작성\n",
    "cov2=np.matmul(task3_3.T,task3_3)/RDD_step2.count()#cov2에 np.matmul(task3_3.t와 task3_3을 전치행렬로 만들고)/갯수를 나눠줌\n",
    "\n",
    "# output\n",
    "print(\"Sample covariance matrix 방법2 결과(동일한 결과가 출력되어야 합니다)\\n ->\", cov2)#cov2출력\n",
    "print(\"\\ncov1과 cov2의 비교(오차)\\n -> \", sum((np.round(np.ravel(cov1), 2) - np.round(np.ravel(cov2), 2)) **2))"
   ]
  },
  {
   "cell_type": "markdown",
   "metadata": {
    "colab_type": "text",
    "id": "HBcQVvNezQ9u"
   },
   "source": [
    "### Excercise 4 - \n",
    "#### 공분산 구하기 세 번째 방법을 적용해 보자! (25 point)\n",
    "\n",
    "- - -\n",
    "\n",
    "``Excercise1 에서 주어진 RDD_step2를 이용하여 진행``합니다.\n",
    "\n",
    "- - -\n",
    "\n",
    "#### 공분산 구하기 세번째 방법\n",
    "\n",
    "1. Sample vector $\\mathbf{x}_i$, $i=1,\\ldots, n$와 평균 벡터 $\\bar{\\mathbf{x}}$ 에 대해서 다음 연산을 수행합니다. \n",
    "2. 각 벡터 $\\mathbf{x}_i$의 outer product (외적)을 구합니다. (10 point)\n",
    "\\begin{align*}\n",
    "\\mathbf{O}_i = \\mathbf{x}_i^T \\mathbf{x}_i\n",
    "\\end{align*}\n",
    "**(★주의★) 위에서와 같이 평균을 뺀 벡터가 아닙니다!**\n",
    "\n",
    "<br>\n",
    "\n",
    "3. 평균 벡터의 외적을 구합니다\n",
    "\\begin{align*}\n",
    "\\bar{\\mathbf{O}} = \\bar{\\mathbf{x}}^T \\bar{\\mathbf{x}}\n",
    "\\end{align*}\n",
    "\n",
    "<br>\n",
    "\n",
    "4. Sample covariance matrix는 다음과 같이 구합니다\n",
    "\\begin{align*}\n",
    "\\text{Cov}_3(\\mathbf{x}) &= \\left(\\frac{1}{n}\\sum_{i=1}^n \\mathbf{O}_i\\right) - \\bar{\\mathbf{O}}\n",
    "\\end{align*}"
   ]
  },
  {
   "cell_type": "markdown",
   "metadata": {
    "colab_type": "text",
    "id": "F1fV9whPZ9qD"
   },
   "source": [
    "**task**\n",
    "\n",
    "1. Sample vector $\\mathbf{x}_i$, $i=1,\\ldots, n$와 평균 벡터 $\\bar{\\mathbf{x}}$ 에 대해서 다음 연산을 수행합니다. \n",
    "2. 각 벡터 $\\mathbf{x}_i$의 outer product (외적)을 구합니다. (10 point)\n",
    "\\begin{align*}\n",
    "\\mathbf{O}_i = \\mathbf{x}_i^T \\mathbf{x}_i\n",
    "\\end{align*}\n",
    "**(★주의★) 위에서와 같이 평균을 뺀 벡터가 아닙니다!**\n",
    "\n",
    "<br>\n",
    "\n",
    "3. 평균 벡터의 외적을 구합니다. (5 point)\n",
    "\\begin{align*}\n",
    "\\bar{\\mathbf{O}} = \\bar{\\mathbf{x}}^T \\bar{\\mathbf{x}}\n",
    "\\end{align*}\n",
    "\n",
    "```\n",
    "Exercise 1에서 생성한 RDD_step2 를 이용합니다.\n",
    " -> PythonRDD[86] at RDD at PythonRDD.scala:53 \n",
    "\n",
    "Exercise 2에서 생성한 sample mean 을 이용합니다.\n",
    " -> [[427.88461538 186.32692308 344.05769231 178.05769231 129.48076923]]\n",
    "\n",
    "# task 4-3 output\n",
    " -> [[183085.24408284  79726.42381657 147216.9933432   76188.14718935\n",
    "   55402.82914201]\n",
    " [ 79726.42381657  34717.72226331  64107.21116864  33176.94193787\n",
    "   24125.7533284 ]\n",
    " [147216.9933432   64107.21116864 118375.69563609  61262.11871302\n",
    "   44548.85465976]\n",
    " [ 76188.14718935  33176.94193787  61262.11871302  31704.54178994\n",
    "   23055.04696746]\n",
    " [ 55402.82914201  24125.7533284   44548.85465976  23055.04696746\n",
    "   16765.26960059]]\n",
    "   ```"
   ]
  },
  {
   "cell_type": "code",
   "execution_count": null,
   "metadata": {},
   "outputs": [],
   "source": []
  },
  {
   "cell_type": "code",
   "execution_count": 134,
   "metadata": {
    "colab": {},
    "colab_type": "code",
    "id": "zjbo9U2oZ9qE",
    "scrolled": true
   },
   "outputs": [
    {
     "name": "stdout",
     "output_type": "stream",
     "text": [
      "Exercise 1에서 생성한 RDD_step2 를 이용합니다.\n",
      " -> PythonRDD[35] at RDD at PythonRDD.scala:53 \n",
      "\n",
      "Exercise 2에서 생성한 sample mean 을 이용합니다.\n",
      " -> [[427.88461538 186.32692308 344.05769231 178.05769231 129.48076923]]\n",
      "\n",
      "평균 벡터의 외적\n",
      " -> [[183085.24408284  79726.42381657 147216.9933432   76188.14718935\n",
      "   55402.82914201]\n",
      " [ 79726.42381657  34717.72226331  64107.21116864  33176.94193787\n",
      "   24125.7533284 ]\n",
      " [147216.9933432   64107.21116864 118375.69563609  61262.11871302\n",
      "   44548.85465976]\n",
      " [ 76188.14718935  33176.94193787  61262.11871302  31704.54178994\n",
      "   23055.04696746]\n",
      " [ 55402.82914201  24125.7533284   44548.85465976  23055.04696746\n",
      "   16765.26960059]]\n"
     ]
    }
   ],
   "source": [
    "print(\"Exercise 1에서 생성한 RDD_step2 를 이용합니다.\\n ->\",RDD_step2,\"\\n\")\n",
    "print(\"Exercise 2에서 생성한 sample mean 을 이용합니다.\\n ->\", sample_mean)\n",
    "\n",
    "# 4 - 2 답안 작성\n",
    "sample_outer=RDD_step2.map(lambda x:np.outer(x,x))#outer를 통해 원소의전체를 외적해줌\n",
    "sample_mean_outer=np.matmul(sample_mean.T,sample_mean)#np.matmul을 통해 평균 벡터구해준 것에서 전치행렬로 곱을 해줌\n",
    "\n",
    "\n",
    "\n",
    "# output\n",
    "print(\"\\n평균 벡터의 외적\\n ->\", sample_mean_outer)#평균벡터의 외적 출력"
   ]
  },
  {
   "cell_type": "markdown",
   "metadata": {
    "colab_type": "text",
    "id": "BNZzjVxeZ9qH"
   },
   "source": [
    "**task**\n",
    "\n",
    "4. Sample covariance matrix는 다음과 같이 구합니다. (10 point)\n",
    "\\begin{align*}\n",
    "\\text{Cov}_3(\\mathbf{x}) &= \\left(\\frac{1}{n}\\sum_{i=1}^n \\mathbf{O}_i\\right) - \\bar{\\mathbf{O}}\n",
    "\\end{align*}\n",
    "\n",
    "```\n",
    "# task 4-4 output\n",
    "Sample covariance matrix 방법3 결과(동일한 결과가 출력되어야 합니다)\n",
    " -> [[191231.67899408  92257.69156805 179270.89127219  94635.62204142\n",
    "   70490.86316568]\n",
    " [ 92257.69156805  47359.72004438  90009.30806213  47427.92344675\n",
    "   35666.34282544]\n",
    " [179270.89127219  90009.30806213 177880.51590237  95548.9966716\n",
    "   70259.24149408]\n",
    " [ 94635.62204142  47427.92344675  95548.9966716   54126.05436391\n",
    "   39050.81841716]\n",
    " [ 70490.86316568  35666.34282544  70259.24149408  39050.81841716\n",
    "   29639.63424556]]\n",
    "\n",
    "cov1과 cov3의 비교(오차)\n",
    " ->  0.0\n",
    "```"
   ]
  },
  {
   "cell_type": "code",
   "execution_count": 137,
   "metadata": {
    "colab": {},
    "colab_type": "code",
    "id": "WpAYaDsnZ9qI"
   },
   "outputs": [
    {
     "name": "stdout",
     "output_type": "stream",
     "text": [
      "Sample covariance matrix 방법3 결과(동일한 결과가 출력되어야 합니다)\n",
      " -> [[191231.67899408  92257.69156805 179270.89127219  94635.62204142\n",
      "   70490.86316568]\n",
      " [ 92257.69156805  47359.72004438  90009.30806213  47427.92344675\n",
      "   35666.34282544]\n",
      " [179270.89127219  90009.30806213 177880.51590237  95548.9966716\n",
      "   70259.24149408]\n",
      " [ 94635.62204142  47427.92344675  95548.9966716   54126.05436391\n",
      "   39050.81841716]\n",
      " [ 70490.86316568  35666.34282544  70259.24149408  39050.81841716\n",
      "   29639.63424556]]\n",
      "\n",
      "cov1과 cov3의 비교(오차)\n",
      " ->  0.0\n"
     ]
    }
   ],
   "source": [
    "# 4 - 4 답안 작성\n",
    "cov3=sample_outer.reduce(lambda x,y:x+y)/RDD_step2.count()-sample_mean_outer#cov3에 reduce를 통해 모두 더해준 후 갯수로 나눠줌(시그마 1부터 n까지 더해주고 n/1로 나누는 과정)\n",
    "\n",
    "# output\n",
    "print(\"Sample covariance matrix 방법3 결과(동일한 결과가 출력되어야 합니다)\\n ->\", cov3)#cov3을 출력\n",
    "\n",
    "print(\"\\ncov1과 cov3의 비교(오차)\\n -> \", \n",
    "     sum((np.round(np.ravel(cov1), 2) - np.round(np.ravel(cov3), 2)) **2))"
   ]
  },
  {
   "cell_type": "markdown",
   "metadata": {
    "colab_type": "text",
    "id": "FzdxheOjZ9qL"
   },
   "source": [
    "\n",
    " ![hi](http://www.filetalk.net/data/editor/1812/3b62f2a770e8c0fb20a6ee8d7368d27c_1545872435_993.gif)**수**\n",
    "![hi2](https://images2.imgbox.com/91/ec/mGQ8RQCe_o.gif)**고**"
   ]
  },
  {
   "cell_type": "code",
   "execution_count": 0,
   "metadata": {
    "colab": {},
    "colab_type": "code",
    "id": "oWEZLHf5bT3D"
   },
   "outputs": [],
   "source": []
  }
 ],
 "metadata": {
  "colab": {
   "collapsed_sections": [],
   "name": "HW8_upload_V1.ipynb",
   "provenance": []
  },
  "kernelspec": {
   "display_name": "Python 3",
   "language": "python",
   "name": "python3"
  },
  "language_info": {
   "codemirror_mode": {
    "name": "ipython",
    "version": 3
   },
   "file_extension": ".py",
   "mimetype": "text/x-python",
   "name": "python",
   "nbconvert_exporter": "python",
   "pygments_lexer": "ipython3",
   "version": "3.7.3"
  }
 },
 "nbformat": 4,
 "nbformat_minor": 1
}
