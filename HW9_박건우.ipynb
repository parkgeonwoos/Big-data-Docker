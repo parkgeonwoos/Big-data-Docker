{
 "cells": [
  {
   "cell_type": "markdown",
   "metadata": {
    "colab_type": "text",
    "id": "D2VUCcpqmv7Y"
   },
   "source": [
    "# Covariance Matrix(3)\n",
    "- - -\n",
    "\n",
    "#### 1. Covariance Matrix - 학습했던 내용!!!\n",
    "\n",
    "* Calculating the mean of Sample Vectors - HW7 \n",
    "\n",
    "* Outer product of sample vectors - HW8 \n",
    "\n",
    "* Covariance Matrix - HW8 \n",
    "\n",
    "#### 2. 새로운 sample mean vector와 outer product를 구하는 방법으로 Covariance Matrix(HW8의 방법 3 적용) 구하기\n",
    "* Calculating the mean of a vector & outer product with nan's\n",
    "* ★Computing the mean together with the covariance★\n",
    "- - -"
   ]
  },
  {
   "cell_type": "markdown",
   "metadata": {
    "colab_type": "text",
    "id": "dMUkFBYmmv7b"
   },
   "source": [
    "#### pyspark import & SparkContext 생성"
   ]
  },
  {
   "cell_type": "code",
   "execution_count": 1,
   "metadata": {
    "colab": {},
    "colab_type": "code",
    "id": "8rey9WZEmv7b",
    "outputId": "d4d5f2c3-872c-4efe-f617-128c557c75f2"
   },
   "outputs": [
    {
     "name": "stdout",
     "output_type": "stream",
     "text": [
      "<SparkContext master=local[*] appName=pyspark-shell>\n",
      "<pyspark.sql.context.SQLContext object at 0x7fcc856759e8>\n"
     ]
    }
   ],
   "source": [
    "from pyspark import SparkContext\n",
    "from pyspark.sql import SQLContext\n",
    "from pyspark.sql.types import Row, StructField, StructType, StringType, IntegerType\n",
    "\n",
    "sc = SparkContext(master=\"local[*]\")\n",
    "print(sc)\n",
    "\n",
    "# Just like using Spark requires having a SparkContext, using SQL requires an SQLContext\n",
    "sqlContext = SQLContext(sc)\n",
    "print(sqlContext)"
   ]
  },
  {
   "cell_type": "markdown",
   "metadata": {
    "colab_type": "text",
    "id": "7q1qoNc4Yk5N"
   },
   "source": [
    "### 1. Calculating the mean of a vector & outer product with nan's\n",
    "* We often get vectors $\\mathbf{x}$ in which some, but not all, of the entries are `nan`. \n",
    "* We want to compute the mean of the elements of $\\mathbf{x}$. \n",
    "* If we use `np.mean` we will get the result `nan`. \n",
    "* A useful alternative is to use `np.nanmean` which removes the `nan` elements and takes the mean of the rest."
   ]
  },
  {
   "cell_type": "markdown",
   "metadata": {
    "colab_type": "text",
    "id": "d5-nuZLcYjQh"
   },
   "source": []
  },
  {
   "cell_type": "markdown",
   "metadata": {
    "colab_type": "text",
    "id": "rfZmogYe3LBn"
   },
   "source": [
    "#### (1) nan이란 무엇인가\n",
    "* Not a Number의 약어\n",
    "* **표현 불가능한 수치형 결과**를 나타내는 값"
   ]
  },
  {
   "cell_type": "code",
   "execution_count": 4,
   "metadata": {
    "colab": {},
    "colab_type": "code",
    "id": "e0gIHk0u3LBo",
    "outputId": "2e806bab-41ba-47dc-da12-95ed1ee7f2ed"
   },
   "outputs": [
    {
     "name": "stdout",
     "output_type": "stream",
     "text": [
      "a= [ 1. nan  2. nan  3.  4.  5.]\n",
      "np.mean(a)= nan\n",
      "np.mean(np.nan_to_num(a))= 2.142857142857143\n",
      "np.nanmean(a)= 3.0\n"
     ]
    }
   ],
   "source": [
    "import numpy as np\n",
    "a=np.array([1,np.nan,2,np.nan,3,4,5])\n",
    "print('a=',a)\n",
    "print('np.mean(a)=',np.mean(a)) # nan이 포함되어 있기 때문에 계산이 되지 않는다.\n",
    "\n",
    "# nan을 특정한 수치로 처리하여 계산할 것인가? 아니면 빼고 계산할 것인가?\n",
    "# 사용하고자 하는 방법에 따라 계산된 결과가 다르다!!!!!!!!!\n",
    "print('np.mean(np.nan_to_num(a))=',np.mean(np.nan_to_num(a))) # =(1+0+2+0+3+4+5)/7\n",
    "print('np.nanmean(a)=',np.nanmean(a)) # =(1+2+3+4+5)/5"
   ]
  },
  {
   "cell_type": "markdown",
   "metadata": {
    "colab_type": "text",
    "id": "ZyFOoUid3LBr"
   },
   "source": [
    "#### (2) nan과 관련된 함수들...\n",
    "* np.nan* 으로 확인\n",
    "* `np.nan`, `np.isnan`, `np nan_to_num`, `np.nansum`, `np.nanmean` 등등\n",
    "* 목적에 따라 선택하여 사용할 것."
   ]
  },
  {
   "cell_type": "code",
   "execution_count": 0,
   "metadata": {
    "colab": {},
    "colab_type": "code",
    "id": "PFB0VrqU3LBs",
    "outputId": "9d75ee6e-c785-49eb-cc65-e8bf1ff84e61"
   },
   "outputs": [
    {
     "name": "stdout",
     "output_type": "stream",
     "text": [
      "# np.nan을 이용하여 nan을 생성할 수 있다.\n",
      "nan\n",
      "nan list =  [nan, nan, nan]\n"
     ]
    }
   ],
   "source": [
    "print(\"# np.nan을 이용하여 nan을 생성할 수 있다.\")\n",
    "print(np.nan)\n",
    "print('nan list = ',[np.nan, np.nan, np.nan])"
   ]
  },
  {
   "cell_type": "code",
   "execution_count": 0,
   "metadata": {
    "colab": {},
    "colab_type": "code",
    "id": "uvqD9zdA3LBv",
    "outputId": "42f621d0-68e9-4b44-b79a-dd6b06ad44f1"
   },
   "outputs": [
    {
     "name": "stdout",
     "output_type": "stream",
     "text": [
      "# np.isnan을 이용하여 boolean 값을 획득할 수 있다(nan일 경우 True return).\n",
      "a =  [ 1. nan  2. nan  3.  4.  5.]\n",
      "np.isnan(a) =  [False  True False  True False False False]\n"
     ]
    }
   ],
   "source": [
    "print(\"# np.isnan을 이용하여 boolean 값을 획득할 수 있다(nan일 경우 True return).\")\n",
    "a = np.array([1,np.nan,2,np.nan,3,4,5])\n",
    "print(\"a = \", a)\n",
    "print(\"np.isnan(a) = \", np.isnan(a))"
   ]
  },
  {
   "cell_type": "code",
   "execution_count": 0,
   "metadata": {
    "colab": {},
    "colab_type": "code",
    "id": "vZVrWg763LBy",
    "outputId": "72857ab2-0da8-4913-8095-e89f9bc8ebe0"
   },
   "outputs": [
    {
     "name": "stdout",
     "output_type": "stream",
     "text": [
      "# nan_to_num을 이용하여 nan을 특정한 값(0)으로 바꿀 수 있다.\n",
      "a =  [ 1. nan  2. nan  3.  4.  5.]\n",
      "np.nan_to_num(a) =  [1. 0. 2. 0. 3. 4. 5.]\n"
     ]
    }
   ],
   "source": [
    "print(\"# nan_to_num을 이용하여 nan을 특정한 값(0)으로 바꿀 수 있다.\")\n",
    "print(\"a = \", a)\n",
    "print(\"np.nan_to_num(a) = \", np.nan_to_num(a))"
   ]
  },
  {
   "cell_type": "code",
   "execution_count": 0,
   "metadata": {
    "colab": {},
    "colab_type": "code",
    "id": "YZPNvnTl3LB1",
    "outputId": "9eff4aa5-5647-45bc-9d6c-eeb5947dbdac",
    "scrolled": true
   },
   "outputs": [
    {
     "name": "stdout",
     "output_type": "stream",
     "text": [
      "nan을 특정한 겂으로 처리한 후의 sum =  15.0\n",
      "nan을 바꾸지 않은 후의 sum =  nan\n"
     ]
    }
   ],
   "source": [
    "print(\"nan을 특정한 겂으로 처리한 후의 sum = \",sum(np.nan_to_num(a)))\n",
    "print(\"nan을 바꾸지 않은 후의 sum = \", sum(a))"
   ]
  },
  {
   "cell_type": "markdown",
   "metadata": {
    "colab_type": "text",
    "id": "76qG_j3e3LB3"
   },
   "source": [
    "**★★ isnan으로부터 생성된 nan의 True/False를 수치형으로 변환**\n",
    "\n",
    "* `np.isnan(a) = array([False,  True, False,  True, False, False, False])`\n",
    "\n",
    "* `1-np.isnan(a) = array([1, 0, 1, 0, 1, 1, 1])`  "
   ]
  },
  {
   "cell_type": "code",
   "execution_count": 0,
   "metadata": {
    "colab": {},
    "colab_type": "code",
    "id": "l4XAblLn3LB4",
    "outputId": "06a6e9f7-9ee0-459a-cb4c-cecb187c8797",
    "scrolled": true
   },
   "outputs": [
    {
     "name": "stdout",
     "output_type": "stream",
     "text": [
      "np.isnan(a) =  [False  True False  True False False False]\n",
      "1-np.isnan(a) =  [1 0 1 0 1 1 1]\n",
      "nan의 개수 파악하기 =  5\n"
     ]
    }
   ],
   "source": [
    "print(\"np.isnan(a) = \",np.isnan(a))\n",
    "print(\"1-np.isnan(a) = \",1 - np.isnan(a))\n",
    "print(\"nan의 개수 파악하기 = \",sum(1-np.isnan(a)))"
   ]
  },
  {
   "cell_type": "markdown",
   "metadata": {
    "colab_type": "text",
    "id": "WEflp4HB3LB7"
   },
   "source": [
    "#### (3) Calculating the mean of a vector with nan's"
   ]
  },
  {
   "cell_type": "code",
   "execution_count": 0,
   "metadata": {
    "colab": {},
    "colab_type": "code",
    "id": "AOTg8L-J3LB8",
    "outputId": "8da91862-8670-4ffb-f41a-a3f66b8f38ee"
   },
   "outputs": [
    {
     "data": {
      "text/plain": [
       "3.0"
      ]
     },
     "execution_count": 8,
     "metadata": {
      "tags": []
     },
     "output_type": "execute_result"
    }
   ],
   "source": [
    "sum(np.nan_to_num(a))/sum(1-np.isnan(a))"
   ]
  },
  {
   "cell_type": "markdown",
   "metadata": {
    "colab_type": "text",
    "id": "3ywp5s_X3LB_"
   },
   "source": [
    "#### (4) Calculating the outer product of a vector with nan's"
   ]
  },
  {
   "cell_type": "code",
   "execution_count": 0,
   "metadata": {
    "colab": {},
    "colab_type": "code",
    "id": "55tWTOUa3LCA",
    "outputId": "5816a52c-81cc-4750-c35a-6bf410902526"
   },
   "outputs": [
    {
     "name": "stdout",
     "output_type": "stream",
     "text": [
      "outer product with nan\n",
      "-> [[ 1. nan  2. nan  3.  4.  5.]\n",
      " [nan nan nan nan nan nan nan]\n",
      " [ 2. nan  4. nan  6.  8. 10.]\n",
      " [nan nan nan nan nan nan nan]\n",
      " [ 3. nan  6. nan  9. 12. 15.]\n",
      " [ 4. nan  8. nan 12. 16. 20.]\n",
      " [ 5. nan 10. nan 15. 20. 25.]]\n",
      "\n",
      " [[1 0 1 0 1 1 1]\n",
      " [0 0 0 0 0 0 0]\n",
      " [1 0 1 0 1 1 1]\n",
      " [0 0 0 0 0 0 0]\n",
      " [1 0 1 0 1 1 1]\n",
      " [1 0 1 0 1 1 1]\n",
      " [1 0 1 0 1 1 1]]\n"
     ]
    }
   ],
   "source": [
    "S =np.outer(a,a)\n",
    "N =1-np.isnan(S)\n",
    "\n",
    "print(\"outer product with nan\\n->\", S)\n",
    "print(\"\\n\",N)"
   ]
  },
  {
   "cell_type": "markdown",
   "metadata": {
    "colab_type": "text",
    "id": "7dSX8F5D3LCC"
   },
   "source": [
    "### Computing the covariance  when there are `nan`s\n",
    "The covariance is a mean of outer products.\n",
    "\n",
    "We calculate two matrices:\n",
    "* $S$ - the sum of the matrices, where `nan`->0\n",
    "* $N$ - the number of not-`nan` element for each matrix location.\n",
    "\n",
    "We then calculate the mean as $S/N$ (division is done element-wise)"
   ]
  },
  {
   "cell_type": "markdown",
   "metadata": {
    "colab_type": "text",
    "id": "Y9h5mGSl3LCD"
   },
   "source": [
    "- - - - - - - - - - - - - -"
   ]
  },
  {
   "cell_type": "markdown",
   "metadata": {
    "colab_type": "text",
    "id": "sqDFod-k3LCE"
   },
   "source": [
    "### 2. Computing the mean together with the covariance\n",
    "\n",
    "To compute the covariance matrix we need to compute both $\\hat{E}(\\mathbf{x}^T \\mathbf{x})$ and $\\hat{E}(\\mathbf{x})$. Using a simple trick, we can compute both at the same time.\n",
    "\n",
    "- - -\n",
    "(1) Step 1\n",
    "\n",
    "Here is the trick: lets denote a $d$ dimensional **column vector** by $\\mathbf{x} = (x_1,x_2,\\ldots,x_d)$ (note that the subscript here is the index of the coordinate, not the index of the example in the training set as used above). \n",
    "\n",
    "The augmented vector $\\mathbf{x}'$ is defined to be the $d+1$ dimensional vector $\\mathbf{x}' = (1,x_1,x_2,\\ldots,x_d)$.\n",
    "\n",
    "- - -\n",
    "(2) Step 2\n",
    "\n",
    "The outer product of $\\mathbf{x}'$ with itself is equal to \n",
    "\n",
    "$$ {\\mathbf{x}'}^T {\\mathbf{x}'}\n",
    "= \\left[\\begin{array}{c|ccc}\n",
    "    1 &  &{\\mathbf{x}'} &\\\\\n",
    "    \\hline \\\\\n",
    "    {\\mathbf{x}'}^T & &{\\mathbf{x}'}^T {\\mathbf{x}'} \\\\ \\\\\n",
    "    \\end{array}\n",
    "    \\right]\n",
    "$$\n",
    "\n",
    "Where the lower left matrix is the original outer product ${\\mathbf{x}'}^T{\\mathbf{x}'}$ and the first row and the first column are ${\\mathbf{x}'}$ and ${\\mathbf{x}'}^T$ respectively.\n",
    "\n",
    "- - -\n",
    "(3) Step 3\n",
    "\n",
    "Now suppose that we do the take the average of the outer product of the augmented vector and convince yourself that:\n",
    "$$\n",
    "\\hat{E}({\\mathbf{x}'}^T{\\mathbf{x}'}) = \\frac{1}{n} \\sum_{i=1}^n {\\mathbf{x}'}_i^T{\\mathbf{x}'}_i\n",
    "= \\left[\\begin{array}{c|ccc}\n",
    "    1 &  &\\hat{E}({\\mathbf{x}'}) &\\\\\n",
    "    \\hline \\\\\n",
    "    \\hat{E}({\\mathbf{x}'}^T) & &\\hat{E}({\\mathbf{x}'}^T{\\mathbf{x}'}) \\\\ \\\\\n",
    "    \\end{array}\n",
    "    \\right]\n",
    "$$\n",
    "\n",
    "So indeed, we have produced the outer product average together with (two copies of) the average $\\hat{E}({\\mathbf{x}'}^T)$\n",
    "\n",
    "**★★★★★여기서 n은 non-nan의 sum★★★★★**\n",
    "\n",
    "- - -\n",
    "(4) Step 4\n",
    "\n",
    "Computing covariance matrix\n",
    "\n",
    "\\begin{align*}\n",
    "\\text{Cov}(\\mathbf{x}) &= \\hat E({\\mathbf{x}'}^T{\\mathbf{x}'}) \\ - \\hat{E}({\\mathbf{x}'})^T\\hat{E}({\\mathbf{x}'})\n",
    "\\end{align*}"
   ]
  },
  {
   "cell_type": "code",
   "execution_count": 21,
   "metadata": {
    "colab": {},
    "colab_type": "code",
    "id": "x6ITkWS93LCF",
    "outputId": "bfd14a32-4a8f-4d61-fda3-9523b245025d"
   },
   "outputs": [
    {
     "name": "stdout",
     "output_type": "stream",
     "text": [
      "★Step 1★\n",
      "\n",
      "각 sample의 값\n",
      "->  [ 2. nan  3.  5.] [ 4.  5. nan 10.] [ 7. 30.  9. nan]\n",
      "\n",
      "trick이 적용된 각 sample의 값\n",
      "->  [ 1.  2. nan  3.  5.] [ 1.  4.  5. nan 10.] [ 1.  7. 30.  9. nan]\n"
     ]
    }
   ],
   "source": [
    "# in python\n",
    "import numpy as np\n",
    "\n",
    "print(\"★Step 1★\\n\")\n",
    "\n",
    "sample1 = np.array([2,np.nan,3,5], dtype = 'float16')\n",
    "sample2 = np.array([4,5,np.nan,10], dtype = 'float16')\n",
    "sample3 = np.array([7,30,9,np.nan], dtype = 'float16')\n",
    "print(\"각 sample의 값\\n-> \", sample1, sample2, sample3)\n",
    "\n",
    "# nan이 있는 sample에서 sample mean을 구하기 위한 trick 적용\n",
    "sample1_trick = np.insert(sample1, 0, 1)\n",
    "sample2_trick = np.insert(sample2, 0, 1)\n",
    "sample3_trick = np.insert(sample3, 0, 1)\n",
    "print(\"\\ntrick이 적용된 각 sample의 값\\n-> \", sample1_trick, sample2_trick, sample3_trick)"
   ]
  },
  {
   "cell_type": "code",
   "execution_count": 4,
   "metadata": {
    "colab": {},
    "colab_type": "code",
    "id": "pGg6-18B3LCH",
    "outputId": "eeed42db-d521-4ecd-833f-6c3c7711a17c"
   },
   "outputs": [
    {
     "name": "stdout",
     "output_type": "stream",
     "text": [
      "★Step 2★\n",
      "\n",
      "sample1_trick의 outer product\n",
      "-> [[ 1.  2. nan  3.  5.]\n",
      " [ 2.  4. nan  6. 10.]\n",
      " [nan nan nan nan nan]\n",
      " [ 3.  6. nan  9. 15.]\n",
      " [ 5. 10. nan 15. 25.]]\n",
      "\n",
      "sample2_trick의 outer product\n",
      "-> [[  1.   4.   5.  nan  10.]\n",
      " [  4.  16.  20.  nan  40.]\n",
      " [  5.  20.  25.  nan  50.]\n",
      " [ nan  nan  nan  nan  nan]\n",
      " [ 10.  40.  50.  nan 100.]]\n",
      "\n",
      "sample3_trick의 outer product\n",
      "-> [[  1.   7.  30.   9.  nan]\n",
      " [  7.  49. 210.  63.  nan]\n",
      " [ 30. 210. 900. 270.  nan]\n",
      " [  9.  63. 270.  81.  nan]\n",
      " [ nan  nan  nan  nan  nan]]\n",
      "\n",
      "sample1_trick outer product의 non-nan\n",
      "-> [[1 1 0 1 1]\n",
      " [1 1 0 1 1]\n",
      " [0 0 0 0 0]\n",
      " [1 1 0 1 1]\n",
      " [1 1 0 1 1]]\n",
      "\n",
      "sample2_trick outer product의 non-nan\n",
      "-> [[1 1 1 0 1]\n",
      " [1 1 1 0 1]\n",
      " [1 1 1 0 1]\n",
      " [0 0 0 0 0]\n",
      " [1 1 1 0 1]]\n",
      "\n",
      "sample3_trick outer product의 non-nan\n",
      "-> [[1 1 1 1 0]\n",
      " [1 1 1 1 0]\n",
      " [1 1 1 1 0]\n",
      " [1 1 1 1 0]\n",
      " [0 0 0 0 0]]\n"
     ]
    }
   ],
   "source": [
    "# outer product 구하기 \n",
    "print(\"★Step 2★\\n\")\n",
    "\n",
    "sample1_outer = np.outer(sample1_trick, sample1_trick)\n",
    "sample2_outer = np.outer(sample2_trick, sample2_trick)\n",
    "sample3_outer = np.outer(sample3_trick, sample3_trick)\n",
    "\n",
    "print(\"sample1_trick의 outer product\\n->\", sample1_outer)\n",
    "print(\"\\nsample2_trick의 outer product\\n->\", sample2_outer)\n",
    "print(\"\\nsample3_trick의 outer product\\n->\", sample3_outer)\n",
    "\n",
    "# outer product의 non-nan 개수 구하기\n",
    "sample1_outer_nonnan = 1 - np.isnan(sample1_outer)\n",
    "sample2_outer_nonnan = 1 - np.isnan(sample2_outer)\n",
    "sample3_outer_nonnan = 1 - np.isnan(sample3_outer)\n",
    "\n",
    "print(\"\\nsample1_trick outer product의 non-nan\\n->\", sample1_outer_nonnan)\n",
    "print(\"\\nsample2_trick outer product의 non-nan\\n->\", sample2_outer_nonnan)\n",
    "print(\"\\nsample3_trick outer product의 non-nan\\n->\", sample3_outer_nonnan)"
   ]
  },
  {
   "cell_type": "code",
   "execution_count": 5,
   "metadata": {
    "colab": {},
    "colab_type": "code",
    "id": "TzZNa49X3LCK",
    "outputId": "a4406d33-b68f-4593-90f3-48be3038ee15"
   },
   "outputs": [
    {
     "name": "stdout",
     "output_type": "stream",
     "text": [
      "★Step 3★\n",
      "\n",
      "sample outer product sum\n",
      "-> [[  3.  13.  35.  12.  15.]\n",
      " [ 13.  69. 230.  69.  50.]\n",
      " [ 35. 230. 925. 270.  50.]\n",
      " [ 12.  69. 270.  90.  15.]\n",
      " [ 15.  50.  50.  15. 125.]]\n",
      "\n",
      "sample non-nan sum\n",
      "-> [[3 3 2 2 2]\n",
      " [3 3 2 2 2]\n",
      " [2 2 2 1 1]\n",
      " [2 2 1 2 1]\n",
      " [2 2 1 1 2]]\n",
      "\n",
      "sample mean vector\n",
      "-> [ 4.332 17.5    6.     7.5  ]\n",
      "\n",
      "outer product의 sum\n",
      "-> [[ 23.  115.   34.5  25. ]\n",
      " [115.  462.5 270.   50. ]\n",
      " [ 34.5 270.   45.   15. ]\n",
      " [ 25.   50.   15.   62.5]]\n"
     ]
    }
   ],
   "source": [
    "# outerproduct의 sum\n",
    "print(\"★Step 3★\\n\")\n",
    "\n",
    "sample_outer_sum = np.nansum(np.dstack([sample1_outer, sample2_outer]), axis=2)\n",
    "sample_outer_sum = np.nansum(np.dstack([sample_outer_sum, sample3_outer]), axis=2)\n",
    "print(\"sample outer product sum\\n->\", sample_outer_sum)\n",
    "\n",
    "# non-name의 sum\n",
    "sample_nonnan_sum = sample1_outer_nonnan + sample2_outer_nonnan + sample3_outer_nonnan\n",
    "print(\"\\nsample non-nan sum\\n->\", sample_nonnan_sum)\n",
    "\n",
    "print(\"\\nsample mean vector\\n->\", \n",
    "      sample_outer_sum[0, 1:] / np.float16(sample_nonnan_sum[0, 1:]))\n",
    "print(\"\\nouter product의 sum\\n->\",\\\n",
    "      sample_outer_sum[1:, 1:] / np.float16(sample_nonnan_sum[1:, 1:]))"
   ]
  },
  {
   "cell_type": "code",
   "execution_count": 6,
   "metadata": {
    "colab": {},
    "colab_type": "code",
    "id": "XvF61CiP3LCN",
    "outputId": "c2b03094-b9e5-42f9-ed53-a9676639ad80"
   },
   "outputs": [
    {
     "name": "stdout",
     "output_type": "stream",
     "text": [
      "★Step 4★\n",
      "\n",
      "Covariance Matrix\n",
      "-> [[  4.234  39.2     8.5    -7.5  ]\n",
      " [ 39.2   156.2   165.    -81.25 ]\n",
      " [  8.5   165.      9.    -30.   ]\n",
      " [ -7.5   -81.25  -30.      6.25 ]]\n"
     ]
    }
   ],
   "source": [
    "# Computing covariance matrix(HW8의 3번째 방법 이용)\n",
    "print(\"★Step 4★\\n\")\n",
    "\n",
    "sample_mean_vector = sample_outer_sum[0, 1:] / np.float16(sample_nonnan_sum[0, 1:])\n",
    "sample_outer_sum = sample_outer_sum[1:, 1:] / np.float16(sample_nonnan_sum[1:, 1:])\n",
    "\n",
    "cov = sample_outer_sum - np.outer(sample_mean_vector, sample_mean_vector)\n",
    "print(\"Covariance Matrix\\n->\", cov)"
   ]
  },
  {
   "cell_type": "code",
   "execution_count": 0,
   "metadata": {
    "colab": {},
    "colab_type": "code",
    "id": "rm1Gx7_W3LCP"
   },
   "outputs": [],
   "source": []
  },
  {
   "cell_type": "markdown",
   "metadata": {
    "colab_type": "text",
    "id": "rfBOSur4Z9pW"
   },
   "source": [
    "### Excercise 1 - \n",
    "#### 위의 Example에서 Python으로 적용한 부분을 Spark로 적용해보자!! (40 point)\n",
    "\n",
    "- - -\n",
    "\n",
    "다음 데이터에 대하여 다음 과제를 수행하세요.\n",
    "\n",
    "```\n",
    "sample1 = np.array([2,np.nan,3,5])\n",
    "sample2 = np.array([4,5,np.nan,10])\n",
    "sample3 = np.array([7,30,9,np.nan])\n",
    "```\n",
    "\n",
    "위에서 진행된 Step 1 ~ Step 4(Python)를 Spark로 구현하세요!!\n",
    "\n",
    "**task**\n",
    "\n",
    "* 1 : Step 1 (10 point)\n",
    "\n",
    "<br>\n",
    "\n",
    "* 2 : Step 2 (10 point)\n",
    "\n",
    "<br>\n",
    "\n",
    "* 3 : Step 3 (10 point)\n",
    "\n",
    "<br>\n",
    "\n",
    "* 4 : Step 4 (10 point)"
   ]
  },
  {
   "cell_type": "markdown",
   "metadata": {
    "colab_type": "text",
    "id": "Ch7u6nuNZ9pX"
   },
   "source": [
    "**task**\n",
    "\n",
    "* 1 : Here is the trick: lets denote a $d$ dimensional **column vector** by $\\mathbf{x} = (x_1,x_2,\\ldots,x_d)$ (note that the subscript here is the index of the coordinate, not the index of the example in the training set as used above). \n",
    "\n",
    "The augmented vector $\\mathbf{x}'$ is defined to be the $d+1$ dimensional vector $\\mathbf{x}' = (1,x_1,x_2,\\ldots,x_d)$. (10 point)\n",
    "- - -\n",
    "```\n",
    "# task 1-1 output\n",
    "[array([ 1.,  2., nan,  3.,  5.], dtype=float16),\n",
    " array([ 1.,  4.,  5., nan, 10.], dtype=float16),\n",
    " array([ 1.,  7., 30.,  9., nan], dtype=float16)]\n",
    " ```"
   ]
  },
  {
   "cell_type": "code",
   "execution_count": 13,
   "metadata": {
    "colab": {},
    "colab_type": "code",
    "id": "X5ZhQ1mB3LCT"
   },
   "outputs": [
    {
     "ename": "NameError",
     "evalue": "name 'sample1' is not defined",
     "output_type": "error",
     "traceback": [
      "\u001b[0;31m\u001b[0m",
      "\u001b[0;31mNameError\u001b[0mTraceback (most recent call last)",
      "\u001b[0;32m<ipython-input-13-569f20f97248>\u001b[0m in \u001b[0;36m<module>\u001b[0;34m\u001b[0m\n\u001b[1;32m      2\u001b[0m \u001b[0;34m\u001b[0m\u001b[0m\n\u001b[1;32m      3\u001b[0m \u001b[0;32mimport\u001b[0m \u001b[0mnumpy\u001b[0m \u001b[0;32mas\u001b[0m \u001b[0mnp\u001b[0m\u001b[0;31m#numpy함수 활용\u001b[0m\u001b[0;34m\u001b[0m\u001b[0;34m\u001b[0m\u001b[0m\n\u001b[0;32m----> 4\u001b[0;31m \u001b[0mtask1_1\u001b[0m\u001b[0;34m=\u001b[0m\u001b[0msc\u001b[0m\u001b[0;34m.\u001b[0m\u001b[0mparallelize\u001b[0m\u001b[0;34m(\u001b[0m\u001b[0;34m[\u001b[0m\u001b[0msample1\u001b[0m\u001b[0;34m,\u001b[0m\u001b[0msample2\u001b[0m\u001b[0;34m,\u001b[0m\u001b[0msample3\u001b[0m\u001b[0;34m]\u001b[0m\u001b[0;34m)\u001b[0m\u001b[0;31m#task1_1에 sample1,2,3의 리스트를 rdd형태로 만들어줌\u001b[0m\u001b[0;34m\u001b[0m\u001b[0;34m\u001b[0m\u001b[0m\n\u001b[0m\u001b[1;32m      5\u001b[0m \u001b[0ma\u001b[0m\u001b[0;34m=\u001b[0m\u001b[0mtask1_1\u001b[0m\u001b[0;34m.\u001b[0m\u001b[0mmap\u001b[0m\u001b[0;34m(\u001b[0m\u001b[0;32mlambda\u001b[0m \u001b[0mx\u001b[0m\u001b[0;34m:\u001b[0m\u001b[0mnp\u001b[0m\u001b[0;34m.\u001b[0m\u001b[0minsert\u001b[0m\u001b[0;34m(\u001b[0m\u001b[0mx\u001b[0m\u001b[0;34m,\u001b[0m\u001b[0;36m0\u001b[0m\u001b[0;34m,\u001b[0m\u001b[0;36m1\u001b[0m\u001b[0;34m)\u001b[0m\u001b[0;34m)\u001b[0m\u001b[0;31m#a에 task1_1 rdd에 0번째 원소에 1을 넣고 np array 형태로 만들어서 저장\u001b[0m\u001b[0;34m\u001b[0m\u001b[0;34m\u001b[0m\u001b[0m\n\u001b[1;32m      6\u001b[0m \u001b[0;31m# output\u001b[0m\u001b[0;34m\u001b[0m\u001b[0;34m\u001b[0m\u001b[0;34m\u001b[0m\u001b[0m\n",
      "\u001b[0;31mNameError\u001b[0m: name 'sample1' is not defined"
     ]
    }
   ],
   "source": [
    "# task 1-1 답안 작성\n",
    "\n",
    "import numpy as np#numpy함수 활용\n",
    "task1_1=sc.parallelize([sample1,sample2,sample3])#task1_1에 sample1,2,3의 리스트를 rdd형태로 만들어줌\n",
    "a=task1_1.map(lambda x:np.insert(x,0,1))#a에 task1_1 rdd에 0번째 원소에 1을 넣고 np array 형태로 만들어서 저장\n",
    "# output\n",
    "print(\"# task 1-1 output\")#task1_1을 출력\n",
    "a.collect()                        "
   ]
  },
  {
   "cell_type": "markdown",
   "metadata": {
    "colab_type": "text",
    "id": "mSHUTYKfZ9pc"
   },
   "source": [
    "**task**\n",
    "\n",
    "* 2 : \n",
    "\n",
    "The outer product of $\\mathbf{x}'$ with itself is equal to \n",
    "\n",
    "$$ {\\mathbf{x}'}^T {\\mathbf{x}'}\n",
    "= \\left[\\begin{array}{c|ccc}\n",
    "    1 &  &{\\mathbf{x}} &\\\\\n",
    "    \\hline \\\\\n",
    "    {\\mathbf{x}}^T & &{\\mathbf{x}}^T {\\mathbf{x}} \\\\ \\\\\n",
    "    \\end{array}\n",
    "    \\right]\n",
    "$$\n",
    "\n",
    "Where the lower left matrix is the original outer product ${\\mathbf{x}'}^T{\\mathbf{x}'}$ and the first row and the first column are ${\\mathbf{x}'}$ and ${\\mathbf{x}'}^T$ respectively.\n",
    "\n",
    "- - -\n",
    "\n",
    "**★ sample의 outer prodcut와 outer product의 non-nan을 구할 것.!!**\n",
    "\n",
    "```\n",
    "# task 1-2\n",
    "sample outer product\n",
    "-> [array([[ 1.,  2., nan,  3.,  5.],\n",
    "       [ 2.,  4., nan,  6., 10.],\n",
    "       [nan, nan, nan, nan, nan],\n",
    "       [ 3.,  6., nan,  9., 15.],\n",
    "       [ 5., 10., nan, 15., 25.]], dtype=float16), array([[  1.,   4.,   5.,  nan,  10.],\n",
    "       [  4.,  16.,  20.,  nan,  40.],\n",
    "       [  5.,  20.,  25.,  nan,  50.],\n",
    "       [ nan,  nan,  nan,  nan,  nan],\n",
    "       [ 10.,  40.,  50.,  nan, 100.]], dtype=float16), array([[  1.,   7.,  30.,   9.,  nan],\n",
    "       [  7.,  49., 210.,  63.,  nan],\n",
    "       [ 30., 210., 900., 270.,  nan],\n",
    "       [  9.,  63., 270.,  81.,  nan],\n",
    "       [ nan,  nan,  nan,  nan,  nan]], dtype=float16)]\n",
    "\n",
    "sample outer product non-nan\n",
    "-> [array([[1, 1, 0, 1, 1],\n",
    "       [1, 1, 0, 1, 1],\n",
    "       [0, 0, 0, 0, 0],\n",
    "       [1, 1, 0, 1, 1],\n",
    "       [1, 1, 0, 1, 1]]), array([[1, 1, 1, 0, 1],\n",
    "       [1, 1, 1, 0, 1],\n",
    "       [1, 1, 1, 0, 1],\n",
    "       [0, 0, 0, 0, 0],\n",
    "       [1, 1, 1, 0, 1]]), array([[1, 1, 1, 1, 0],\n",
    "       [1, 1, 1, 1, 0],\n",
    "       [1, 1, 1, 1, 0],\n",
    "       [1, 1, 1, 1, 0],\n",
    "       [0, 0, 0, 0, 0]])]\n",
    "```"
   ]
  },
  {
   "cell_type": "code",
   "execution_count": 8,
   "metadata": {
    "colab": {},
    "colab_type": "code",
    "id": "R6ItM_kRZ9pd",
    "scrolled": false
   },
   "outputs": [
    {
     "name": "stdout",
     "output_type": "stream",
     "text": [
      "sample outer product\n",
      "-> [array([[ 1.,  2., nan,  3.,  5.],\n",
      "       [ 2.,  4., nan,  6., 10.],\n",
      "       [nan, nan, nan, nan, nan],\n",
      "       [ 3.,  6., nan,  9., 15.],\n",
      "       [ 5., 10., nan, 15., 25.]], dtype=float16), array([[  1.,   4.,   5.,  nan,  10.],\n",
      "       [  4.,  16.,  20.,  nan,  40.],\n",
      "       [  5.,  20.,  25.,  nan,  50.],\n",
      "       [ nan,  nan,  nan,  nan,  nan],\n",
      "       [ 10.,  40.,  50.,  nan, 100.]], dtype=float16), array([[  1.,   7.,  30.,   9.,  nan],\n",
      "       [  7.,  49., 210.,  63.,  nan],\n",
      "       [ 30., 210., 900., 270.,  nan],\n",
      "       [  9.,  63., 270.,  81.,  nan],\n",
      "       [ nan,  nan,  nan,  nan,  nan]], dtype=float16)]\n",
      "\n",
      "sample outer product non-nan\n",
      "-> [array([[1, 1, 0, 1, 1],\n",
      "       [1, 1, 0, 1, 1],\n",
      "       [0, 0, 0, 0, 0],\n",
      "       [1, 1, 0, 1, 1],\n",
      "       [1, 1, 0, 1, 1]]), array([[1, 1, 1, 0, 1],\n",
      "       [1, 1, 1, 0, 1],\n",
      "       [1, 1, 1, 0, 1],\n",
      "       [0, 0, 0, 0, 0],\n",
      "       [1, 1, 1, 0, 1]]), array([[1, 1, 1, 1, 0],\n",
      "       [1, 1, 1, 1, 0],\n",
      "       [1, 1, 1, 1, 0],\n",
      "       [1, 1, 1, 1, 0],\n",
      "       [0, 0, 0, 0, 0]])]\n"
     ]
    }
   ],
   "source": [
    "# task 1-2 답안 작성\n",
    "task1_2=a.map(lambda x:np.outer(x,x))#task1_2에 a의 값을 map을 통해 외적시켜서 저장함\n",
    "outer_nonnan=task1_2.map(lambda x:1-np.isnan(x))#outer_nonnan에 task1_2의 맵과 isnan을 하여 nonnan갯수를 저장해줌\n",
    "# output\n",
    "print(\"sample outer product\\n->\", task1_2.collect())#task1_2를 출력\n",
    "print(\"\\nsample outer product non-nan\\n->\", outer_nonnan.collect())#outer_nonnan을 출력\n",
    "\n"
   ]
  },
  {
   "cell_type": "markdown",
   "metadata": {
    "colab_type": "text",
    "id": "A5AnS2bv3LCd"
   },
   "source": [
    "**task**\n",
    "\n",
    "* 3 : \n",
    "\n",
    "Now suppose that we do the take the average of the outer product of the augmented vector and convince yourself that:\n",
    "$$\n",
    "\\hat{E}({\\mathbf{x}'}^T{\\mathbf{x}'}) = \\frac{1}{n} \\sum_{i=1}^n {\\mathbf{x}'}_i^T{\\mathbf{x}'}_i\n",
    "= \\left[\\begin{array}{c|ccc}\n",
    "    1 &  &\\hat{E}({\\mathbf{x}}) &\\\\\n",
    "    \\hline \\\\\n",
    "    \\hat{E}({\\mathbf{x}}^T) & &\\hat{E}({\\mathbf{x}}^T{\\mathbf{x}}) \\\\ \\\\\n",
    "    \\end{array}\n",
    "    \\right]\n",
    "$$\n",
    "\n",
    "So indeed, we have produced the outer product average together with (two copies of) the average $\\hat{E}({\\mathbf{x}'}^T)$\n",
    "\n",
    "- - -\n",
    "\n",
    "**★★★★★여기서 n은 non-nan의 sum!!★★★★★**\n",
    "\n",
    "```\n",
    "# task 1-3 \n",
    "outer product sum(n이 나누어지지 않은)\n",
    "-> [[  3.  13.  35.  12.  15.]\n",
    " [ 13.  69. 230.  69.  50.]\n",
    " [ 35. 230. 925. 270.  50.]\n",
    " [ 12.  69. 270.  90.  15.]\n",
    " [ 15.  50.  50.  15. 125.]]\n",
    "\n",
    "outer product non-nan sum\n",
    "-> [[3 3 2 2 2]\n",
    " [3 3 2 2 2]\n",
    " [2 2 2 1 1]\n",
    " [2 2 1 2 1]\n",
    " [2 2 1 1 2]]\n",
    "\n",
    "outer product sum(n이 나누어진)\n",
    "-> [[ 23.  115.   34.5  25. ]\n",
    " [115.  462.5 270.   50. ]\n",
    " [ 34.5 270.   45.   15. ]\n",
    " [ 25.   50.   15.   62.5]]\n",
    "\n",
    "sample mean vector\n",
    "-> [ 4.332 17.5    6.     7.5  ]\n",
    "```"
   ]
  },
  {
   "cell_type": "code",
   "execution_count": 9,
   "metadata": {
    "colab": {},
    "colab_type": "code",
    "id": "9VPH5J_93LCf"
   },
   "outputs": [
    {
     "name": "stdout",
     "output_type": "stream",
     "text": [
      "outer product sum(n이 나누어지지 않은)\n",
      "-> [[  3.  13.  35.  12.  15.]\n",
      " [ 13.  69. 230.  69.  50.]\n",
      " [ 35. 230. 925. 270.  50.]\n",
      " [ 12.  69. 270.  90.  15.]\n",
      " [ 15.  50.  50.  15. 125.]]\n",
      "\n",
      "outer product non-nan sum\n",
      "-> [[3 3 2 2 2]\n",
      " [3 3 2 2 2]\n",
      " [2 2 2 1 1]\n",
      " [2 2 1 2 1]\n",
      " [2 2 1 1 2]]\n",
      "\n",
      "outer product sum(n이 나누어진)\n",
      "-> [[ 23.  115.   34.5  25. ]\n",
      " [115.  462.5 270.   50. ]\n",
      " [ 34.5 270.   45.   15. ]\n",
      " [ 25.   50.   15.   62.5]]\n",
      "\n",
      "sample mean vector\n",
      "-> [ 4.332 17.5    6.     7.5  ]\n"
     ]
    }
   ],
   "source": [
    "# task 1-3 답안 작성\n",
    "\n",
    "task1_3_outer_sum=task1_2.reduce(lambda x,y:(np.nansum(np.dstack([x, y]), axis=2)))#task1_3_outer_sum에 task1_2값을 리듀스하여 전부 더해주고 리스트 형태로 반환\n",
    "task1_3_nonnan_sum=outer_nonnan.reduce(lambda x,y:(np.nansum(np.dstack([x,y]),axis=2)))#task1_3_nonnan_sum에 outer_nonnan을 리듀스하여 전부 더해주고 리스트 형태로 반환\n",
    "sample_outer_product=(task1_3_outer_sum[1:, 1:] / np.float16(task1_3_nonnan_sum[1:, 1:]))#sample_outer_product의 순수한 외적만을 저장하기 위해 전부 더한 outersum의 1행1열을 논난 1행 1열로 나눔\n",
    "sample_mean_vector= (task1_3_outer_sum[0, 1:] / np.float16(task1_3_nonnan_sum[0, 1:]))#sample_mean_vector는 0행1열 이므로 task1_3outersum에서 0행1열과 논난 썸 0행1열을 나눠서 넣음\n",
    "\n",
    "# output\n",
    "print(\"outer product sum(n이 나누어지지 않은)\\n->\", task1_3_outer_sum)#task1_3outer_sum출력\n",
    "print(\"\\nouter product non-nan sum\\n->\", task1_3_nonnan_sum)#task1_3nonnn_sum을 출력\n",
    "print(\"\\nouter product sum(n이 나누어진)\\n->\", sample_outer_product)#sample_outer_product를 출력\n",
    "print(\"\\nsample mean vector\\n->\", sample_mean_vector)#sample_mean_vector 출력\n"
   ]
  },
  {
   "cell_type": "markdown",
   "metadata": {
    "colab_type": "text",
    "id": "Yu0ilAmd3LCi"
   },
   "source": [
    "**task**\n",
    "\n",
    "* 4 :\n",
    "\n",
    "Computing covariance matrix\n",
    "\n",
    "\\begin{align*}\n",
    "\\text{Cov}(\\mathbf{x}) &= \\hat E({\\mathbf{x}}^T{\\mathbf{x}}) \\ - \\hat{E}({\\mathbf{x}})^T\\hat{E}({\\mathbf{x}})\n",
    "\\end{align*}\n",
    "\n",
    "- - -\n",
    "\n",
    "\n",
    "```\n",
    "# task 1-4\n",
    "covariance matrix\n",
    "-> [[  4.234  39.2     8.5    -7.5  ]\n",
    " [ 39.2   156.2   165.    -81.25 ]\n",
    " [  8.5   165.      9.    -30.   ]\n",
    " [ -7.5   -81.25  -30.      6.25 ]]\n",
    "```"
   ]
  },
  {
   "cell_type": "code",
   "execution_count": 10,
   "metadata": {
    "colab": {},
    "colab_type": "code",
    "id": "hAw7Ui3X3LCi",
    "outputId": "3c8df03c-58db-4f21-bf00-b6aad9f0456b"
   },
   "outputs": [
    {
     "name": "stdout",
     "output_type": "stream",
     "text": [
      "covariance matrix\n",
      "-> [[  4.234  39.2     8.5    -7.5  ]\n",
      " [ 39.2   156.2   165.    -81.25 ]\n",
      " [  8.5   165.      9.    -30.   ]\n",
      " [ -7.5   -81.25  -30.      6.25 ]]\n"
     ]
    }
   ],
   "source": [
    "# task 1-4 답안 작성\n",
    "cov=sample_outer_product - np.outer(sample_mean_vector, sample_mean_vector)#공분산 식에 따라 구해준 mean vector외적값을 총 외적 합에서 빼주고 저장\n",
    "# output\n",
    "print(\"covariance matrix\\n->\", cov)#공분산값 출력"
   ]
  },
  {
   "cell_type": "markdown",
   "metadata": {
    "colab_type": "text",
    "id": "1irwfRoE3LCl"
   },
   "source": [
    "### Excercise 2 - \n",
    "####  (60 point)\n",
    "\n",
    "- - -\n",
    "\n",
    "다음 데이터에 대하여 다음 과제를 수행하세요.\n",
    "\n",
    "- regular_float32.zip : KBO에서 활약한 타자들의 역대 정규시즌 성적을 포함하여 타자의 고유 아이디, 타자의 이름, 팀 이름, 기록, 년도 등을 포함한 parquet 파일 입니다.\n",
    "\n",
    "```\n",
    "# regular_float32 예시\n",
    "<regular_float32.show(5)>\n",
    "+---------+------+----+--------------------+----+\n",
    "|batter_id|  name|team|              values|year|\n",
    "+---------+------+----+--------------------+----+\n",
    "|      297|진갑용|삼성|[17 D9 8E 3E 00 0...|2008|\n",
    "|      297|진갑용|삼성|[68 91 6D 3E 00 0...|2009|\n",
    "|      297|진갑용|삼성|[F0 A7 86 3E 00 0...|2010|\n",
    "|      297|진갑용|삼성|[A8 C6 8B 3E 00 0...|2011|\n",
    "|      297|진갑용|삼성|[1B 2F 9D 3E 00 0...|2012|\n",
    "+---------+------+----+--------------------+----+\n",
    "only showing top 5 rows\n",
    "\n",
    "<schema>\n",
    "root\n",
    " |-- batter_id: long (nullable = true)\n",
    " |-- name: string (nullable = true)\n",
    " |-- team: string (nullable = true)\n",
    " |-- values: binary (nullable = true)\n",
    " |-- year: long (nullable = true)\n",
    "\n",
    "<row의 수(sample의 수)> :2454\n",
    "```\n",
    "\n",
    "- - -\n",
    "\n",
    "##### regular_float32의 values에 대한 정보\n",
    "    A. values는 byte array로 각각의 값은 float32로 이루어져 있습니다.\n",
    "    B. values에 포함된 값은 아래와 같습니다(index 순서와 동일).\n",
    "       [0]타율 [1]출전게임수 [2]타수(타석-볼넷-사구-희생번트-희생플라이)\n",
    "       [3]득점 [4]안타(1루타+2루타+3루타+홈런) [5]2루타 [6]3루타\n",
    "       [7]홈런 [8]루타 수 [9]타점 [10]도루 성공 [11]도루 실패 [12]볼넷\n",
    "       [13]사구(몸에 맞는 볼) [14]삼진아웃 [15]병살타 [16]장타율 [17]출루율\n",
    "       [18]에러\n",
    "    C. values의 포함된 값은 nan이 존재할 수 있습니다.\n",
    "    D. values를 ndarray로 변환시에는 dtype=\"float32\"를 사용하세요.\n",
    "    \n",
    "    \n",
    "- - -\n",
    "##### Excercise 2에서 포함되어야 할 사항\n",
    "    A. 모든 작업은 RDD로 수행합니다.\n",
    "    B. Excercise 1에서 진행했던 모든 단계를 함수화 합니다.\n",
    "        (1) 함수의 이름, 기능은 자유롭게 설정합니다(1개 또는 여러개를 사용해도 됩니다)\n",
    "        (2) 단, 작성된 함수를 종합하여 실행하는 함수를 만들어야 합니다(ex. calcCov)\n",
    "    C. check_symmetric :  True, Exercise2 shape :  (19, 19) 가 결과로 출력되는지 확인하세요.\n",
    "    D. covariance matrix를 구한 후, regular_cov.txt 파일로 저장하여 과제란에 같이 제출합니다.\n",
    "\n",
    "- - -\n",
    "```\n",
    "# Exercise 2 output\n",
    "check_symmetric :  True\n",
    "\n",
    "Exercise2 shape :  (19, 19)\n",
    "\n",
    "Exercise2 result\n",
    "-> [[9.68648770e-03 2.31904584e+00 8.71907655e+00 1.45815861e+00\n",
    "  2.81985552e+00 4.96244952e-01 4.60792588e-02 3.05693491e-01\n",
    "  4.32533845e+00 1.44053534e+00 2.43099885e-01 9.82517298e-02\n",
    "  9.88237934e-01 1.42195695e-01 1.39666974e+00 1.98392683e-01\n",
    "  1.39535328e-02 9.58807760e-03 1.26492938e-01],\n",
    "                ...(중간 생략)...\n",
    " [1.26492938e-01 1.19444102e+02 4.45646963e+02 6.70115876e+01\n",
    "  1.28225598e+02 2.35202158e+01 2.19940931e+00 1.39919460e+01\n",
    "  1.98120470e+02 6.50261108e+01 1.26920823e+01 5.25860146e+00\n",
    "  4.43497757e+01 8.11945502e+00 7.72257562e+01 1.05942064e+01\n",
    "  2.23718629e-01 1.35275737e-01 2.10159326e+01]]\n",
    " ```\n",
    "(regular_cov.txt 예시)\n",
    "\n",
    "<p><img alt=\"\" src=\"https://drive.google.com/uc?id=1bIZAMXlyxw_WtZtiYaDBmlCH6MkZUDil\" style=\"height:324px; width:900px\" /></p>"
   ]
  },
  {
   "cell_type": "code",
   "execution_count": null,
   "metadata": {
    "colab": {},
    "colab_type": "code",
    "id": "WwFT4EJA3LCl"
   },
   "outputs": [
    {
     "name": "stdout",
     "output_type": "stream",
     "text": [
      "mkdir: cannot create directory ‘regular.parquet’: File exists\n",
      "Archive:  regular_float32.zip\n",
      "replace regular.parquet/._SUCCESS.crc? [y]es, [n]o, [A]ll, [N]one, [r]ename: "
     ]
    }
   ],
   "source": [
    "import urllib.request\n",
    "from os.path import exists\n",
    "\n",
    "!mkdir regular.parquet\n",
    "\n",
    "\n",
    "f = urllib.request\\\n",
    ".urlretrieve (\"https://docs.google.com/uc?export=download&id=1GUP0n9aybONtLkGre8GnBMBpMgR777Wy\",\n",
    "              \"./regular_float32.zip\")\n",
    "\n",
    "\n",
    "!unzip regular_float32.zip -d regular.parquet/\n",
    "!rm -rf regular_float32.zip\n",
    "\n",
    "\n",
    "\"\"\"\n",
    "f = urllib.request\\\n",
    ".urlretrieve (\"https://docs.google.com/uc?export=download&id=1fbTRIL2HGRYss0FnrwcM1lgZ0nm0pjVE\",\n",
    "              \"./regular_float16.zip\")\n",
    "\"\"\""
   ]
  },
  {
   "cell_type": "code",
   "execution_count": 2,
   "metadata": {
    "colab": {},
    "colab_type": "code",
    "id": "zoMo4RM03LCr",
    "outputId": "25225e44-742e-4970-d87b-ae24357bf49e"
   },
   "outputs": [
    {
     "name": "stdout",
     "output_type": "stream",
     "text": [
      "+---------+------+----+--------------------+----+\n",
      "|batter_id|  name|team|              values|year|\n",
      "+---------+------+----+--------------------+----+\n",
      "|      297|진갑용|삼성|[17 D9 8E 3E 00 0...|2008|\n",
      "|      297|진갑용|삼성|[68 91 6D 3E 00 0...|2009|\n",
      "|      297|진갑용|삼성|[F0 A7 86 3E 00 0...|2010|\n",
      "|      297|진갑용|삼성|[A8 C6 8B 3E 00 0...|2011|\n",
      "|      297|진갑용|삼성|[1B 2F 9D 3E 00 0...|2012|\n",
      "+---------+------+----+--------------------+----+\n",
      "only showing top 5 rows\n",
      "\n",
      "root\n",
      " |-- batter_id: long (nullable = true)\n",
      " |-- name: string (nullable = true)\n",
      " |-- team: string (nullable = true)\n",
      " |-- values: binary (nullable = true)\n",
      " |-- year: long (nullable = true)\n",
      "\n"
     ]
    },
    {
     "data": {
      "text/plain": [
       "2454"
      ]
     },
     "execution_count": 2,
     "metadata": {},
     "output_type": "execute_result"
    }
   ],
   "source": [
    "# data 읽기\n",
    "data = sqlContext.read.parquet(\"./regular.parquet/\")\n",
    "\n",
    "data.show(5)\n",
    "data.printSchema()\n",
    "data.count()"
   ]
  },
  {
   "cell_type": "code",
   "execution_count": 5,
   "metadata": {},
   "outputs": [
    {
     "data": {
      "text/plain": [
       "UnionRDD[18] at union at NativeMethodAccessorImpl.java:0"
      ]
     },
     "execution_count": 5,
     "metadata": {},
     "output_type": "execute_result"
    }
   ],
   "source": [
    "a=data.rdd.map(lambda x:np.frombuffer(x.values,dtype=\"float32\")).map(lambda x:(np.insert(x,0,1)))#array에 1씩 추가\n",
    "b=a.map(lambda x:(np.outer(x,x)))#외적 \n",
    "c=b.map(lambda x:1-np.isnan(x)).map(lambda x:np.outer(x,x))#non-nan\n",
    "d=c.map(lambda x:np.nansum(np.dstack([x, x]), axis=2))#non합\n",
    "e=b.map(lambda x:np.nansum(np.dstack([x, x]), axis=2))#외적 합\n",
    "d+e\n",
    "#def aa(SampleA,SampleB):\n",
    "   # a=SampleA+SampleB.map(lambda x:((SampleA,SampleB)))\n",
    "   # return a\n",
    "    \n",
    "    \n",
    "#aa(e,d)\n",
    "    \n",
    "\n",
    "#print(\"\\nsample mean vector\\n->\", \n",
    "     # sample_outer_sum[0, 1:] / np.float16(sample_nonnan_sum[0, 1:]))\n",
    "#print(\"\\nouter product의 sum\\n->\",\\\n",
    "     # sample_outer_sum[1:, 1:] / np.float16(sample_nonnan_sum[1:, 1:]))\n",
    "\n",
    "\n",
    "\n",
    "\n"
   ]
  },
  {
   "cell_type": "code",
   "execution_count": 11,
   "metadata": {
    "colab": {},
    "colab_type": "code",
    "id": "o92DjEyy3LCv"
   },
   "outputs": [],
   "source": [
    "# Exercise 2 답안 작성\n",
    "# 작성 예시\n",
    "def Ndarray2Trick(row):\n",
    "    row=row.rdd.map(lambda x:np.frombuffer(x.values,dtype=\"float32\")).map(lambda x:(np.insert(x,0,1)))\n",
    "    #row를 rdd로 바꾸고 map을 통해 값들을 float32형태로 바꿔주고 모든 원소의 값 0번쨰에 1을 넣어주고 np.array형태로 만들어줌\n",
    "    return row #row를 반환\n",
    "    # row를 input으로 받아서 각 array에 1 을 추가하여 np.array return하는 함수 \n",
    "    \n",
    "\n",
    "def outerWithNan(arr):\n",
    "    O=arr.map(lambda x:np.outer(x,x))#O값에 map을 통하여 외적값을 넣어 저장시켜줌\n",
    "    N=O.map(lambda x:1-np.isnan(x))#N값에 map을 통하여 isnan을 하고 nonnan값만을 구해주고 저장\n",
    "    return [O,N]#리스트 형태로 O,N을 반환시켜줌\n",
    "    # O = outer product, \n",
    "    # N = non-nan of outer prodcut\n",
    "    \n",
    "    # return [O, N]\n",
    "\n",
    "def sumWithNan(outer):\n",
    "    # SampleA,B ----> [0] = outer product, [1] = non-nan of outer product\n",
    "    sum_outer = outer[0].reduce(lambda x,y:np.nansum(np.dstack([x, y]), axis=2))#sum_outer에 outer[0]즉 outerproudct를 뽑아내고 그것들끼리 reduce하여 값들을 전부 더함\n",
    "    sum_nonnan =outer[1].reduce(lambda x,y:np.nansum(np.dstack([x, y]), axis=2))#sum_nonnan에 outer[1]즉 non-nan of outer product를 뽑아내고 그것들끼리 reduce하여 값들을 전부 더함\n",
    "    return [sum_outer,sum_nonnan]#두 개 값들을 리스트 형태로 반환\n",
    "    \n",
    "\n",
    "def calc_func(sum_list):\n",
    "    # E -> sum outer의 mean  추출\n",
    "    E=sum_list[0][1:,1:]/sum_list[1][1:,1:] #E는 받은 sum_list에 [0](outerproduct의 합)/sum_list(non-nan의 합)을 나눠줌 1행 1열이여야만 순수한 sum outer의 mean이 나옴\n",
    "   \n",
    "    # NE -> sum nonnan의 mean에 사용할 nonnan 수 추출\n",
    "    NE=sum_list[0][1:,0]/sum_list[1][1:,0] #NE는 sumlist[0](outerproduct의 합 )/sum_list(non-nan의 합)을 나눠줌 1행 0열만이 그 순수한 값이기 때문에 그것만 뽑아내줌\n",
    "    # Mean_vector 연산\n",
    "    Mean_vector=sum_list[0][0,1:]/sum_list[1][0,1:]#Mean_vector는 sum_list[0](outerproduct의 합 )/sum_list(non-nan의 합) 0행 1열만의 그 순수한 값이기 때문에 그것만 뽑아내줌\n",
    "    # Outer_vector = \n",
    "    Outer_vector=E-(np.outer(NE,Mean_vector))#공분산 값을 outer_vector에 저장하는데 E는 총 외적값을 non-nan으로 나눠서 나온 값-(sum nonnan의 평균,Sample_vector)외적\n",
    "    \n",
    "    return  Outer_vector#공분산 값을 반환\n",
    "    \n",
    "def calcCov(DataFrame):\n",
    "    # 위 함수를 활용하여 DataFrame을 calc_func 입력 변환 사전작업\n",
    "    # Result_cacl = calc_func(sumResult)\n",
    "    df_RDD = Ndarray2Trick(DataFrame)#함수에 dataFrame을 넣어줌\n",
    "    df_outer = outerWithNan(df_RDD)#저장한 df_RDD에 outerWithNan을 사용\n",
    "    df_sum = sumWithNan(df_outer)#저장한 df_outer에 sunWithNan함수를 사용\n",
    "    \n",
    "    \n",
    "    Result_cacl = calc_func(df_sum)#calc_func에 df_sum을 넣고 Reslt_cacl에 저장\n",
    "    #  Cov =\n",
    "    Cov=Result_cacl #그 값을 Cov에 저장\n",
    "    \n",
    "    return Cov#cov값을 반환\n",
    "    # return Cov"
   ]
  },
  {
   "cell_type": "code",
   "execution_count": 12,
   "metadata": {
    "colab": {},
    "colab_type": "code",
    "id": "9sMJQiai3LCy"
   },
   "outputs": [
    {
     "name": "stdout",
     "output_type": "stream",
     "text": [
      "check_symmetric :  True\n",
      "\n",
      "Exercise2 shape :  (19, 19)\n",
      "\n",
      "Exercise2 result\n",
      "-> [[9.68649964e-03 2.31904444e+00 8.71907518e+00 1.45815936e+00\n",
      "  2.81986175e+00 4.96245200e-01 4.60792829e-02 3.05693730e-01\n",
      "  4.32534540e+00 1.44053684e+00 2.43100420e-01 9.82518388e-02\n",
      "  9.88238461e-01 1.42195479e-01 1.39667151e+00 1.98392899e-01\n",
      "  1.39534918e-02 9.58810981e-03 1.26493030e-01]\n",
      " [2.31904444e+00 2.03262815e+03 7.11935584e+03 1.11504810e+03\n",
      "  2.10245742e+03 3.70960571e+02 3.62472065e+01 2.27622310e+02\n",
      "  3.22877893e+03 1.08292775e+03 2.00688691e+02 8.28696508e+01\n",
      "  7.78887464e+02 1.19269553e+02 1.23565084e+03 1.60837245e+02\n",
      "  4.03568690e+00 2.64932240e+00 1.19444102e+02]\n",
      " [8.71907518e+00 7.11935584e+03 2.87308044e+04 4.61456465e+03\n",
      "  8.72583045e+03 1.54633717e+03 1.48994509e+02 9.85854260e+02\n",
      "  1.35277223e+04 4.53493811e+03 8.40269582e+02 3.34447804e+02\n",
      "  3.20356317e+03 4.66056526e+02 4.78575510e+03 6.45422076e+02\n",
      "  1.56792351e+01 9.74128234e+00 4.45646963e+02]\n",
      " [1.45815936e+00 1.11504810e+03 4.61456465e+03 8.27879447e+02\n",
      "  1.44497859e+03 2.57672636e+02 2.71006065e+01 1.76791922e+02\n",
      "  2.28722820e+03 7.65424014e+02 1.59743024e+02 5.81638926e+01\n",
      "  5.46090428e+02 7.80543161e+01 7.65038856e+02 9.74175849e+01\n",
      "  2.72086955e+00 1.65976196e+00 6.70115876e+01]\n",
      " [2.81986175e+00 2.10245742e+03 8.72583045e+03 1.44497859e+03\n",
      "  2.72935153e+03 4.84332535e+02 4.60667363e+01 3.13547929e+02\n",
      "  4.24646133e+03 1.42745105e+03 2.56864879e+02 1.00461588e+02\n",
      "  9.90999743e+02 1.40201024e+02 1.40896508e+03 1.96038102e+02\n",
      "  5.03791946e+00 3.10641445e+00 1.28225598e+02]\n",
      " [4.96245200e-01 3.70960571e+02 1.54633717e+03 2.57672636e+02\n",
      "  4.84332535e+02 9.74031249e+01 7.60709159e+00 5.88605807e+01\n",
      "  7.73531585e+02 2.62498839e+02 4.07119790e+01 1.63730586e+01\n",
      "  1.75728265e+02 2.52539712e+01 2.56492253e+02 3.51557351e+01\n",
      "  9.49490849e-01 5.48291653e-01 2.35202158e+01]\n",
      " [4.60792829e-02 3.62472065e+01 1.48994509e+02 2.71006065e+01\n",
      "  4.60667363e+01 7.60709159e+00 2.71214038e+00 2.69740171e+00\n",
      "  6.71903138e+01 1.90656092e+01 9.10968802e+00 3.09532231e+00\n",
      "  1.52474130e+01 1.97439272e+00 2.34030507e+01 2.04717378e+00\n",
      "  7.40492125e-02 4.81121671e-02 2.19940931e+00]\n",
      " [3.05693730e-01 2.27622310e+02 9.85854260e+02 1.76791922e+02\n",
      "  3.13547929e+02 5.88605807e+01 2.69740171e+00 6.38041806e+01\n",
      "  5.69215855e+02 2.13448498e+02 1.51214746e+01 6.72234809e+00\n",
      "  1.26927287e+02 1.97195411e+01 1.89728415e+02 2.44468072e+01\n",
      "  7.73478232e-01 3.61383769e-01 1.39919460e+01]\n",
      " [4.32534540e+00 3.22877893e+03 1.35277223e+04 2.28722820e+03\n",
      "  4.24646133e+03 7.73531585e+02 6.71903138e+01 5.69215855e+02\n",
      "  6.86202151e+03 2.36842660e+03 3.61160658e+02 1.43192336e+02\n",
      "  1.57800469e+03 2.28562404e+02 2.28144868e+03 3.08628606e+02\n",
      "  8.45594036e+00 4.83506874e+00 1.98120470e+02]\n",
      " [1.44053684e+00 1.08292775e+03 4.53493811e+03 7.65424014e+02\n",
      "  1.42745105e+03 2.62498839e+02 1.90656092e+01 2.13448498e+02\n",
      "  2.36842660e+03 8.75978499e+02 9.59541899e+01 4.00367844e+01\n",
      "  5.49176371e+02 7.93151484e+01 7.89680047e+02 1.09315085e+02\n",
      "  2.99018068e+00 1.64578443e+00 6.50261108e+01]\n",
      " [2.43100420e-01 2.00688691e+02 8.40269582e+02 1.59743024e+02\n",
      "  2.56864879e+02 4.07119790e+01 9.10968802e+00 1.51214746e+01\n",
      "  3.61160658e+02 9.59541899e+01 8.25686314e+01 2.30961393e+01\n",
      "  9.08272368e+01 1.16763144e+01 1.22604298e+02 1.08909148e+01\n",
      "  3.39443298e-01 2.65932075e-01 1.26920823e+01]\n",
      " [9.82518388e-02 8.28696508e+01 3.34447804e+02 5.81638926e+01\n",
      "  1.00461588e+02 1.63730586e+01 3.09532231e+00 6.72234809e+00\n",
      "  1.43192336e+02 4.00367844e+01 2.30961393e+01 1.01977664e+01\n",
      "  3.63179859e+01 4.49556601e+00 5.07302709e+01 5.14291455e+00\n",
      "  1.41671210e-01 1.09023775e-01 5.25860146e+00]\n",
      " [9.88238461e-01 7.78887464e+02 3.20356317e+03 5.46090428e+02\n",
      "  9.90999743e+02 1.75728265e+02 1.52474130e+01 1.26927287e+02\n",
      "  1.57800469e+03 5.49176371e+02 9.08272368e+01 3.63179859e+01\n",
      "  4.49515990e+02 5.40279530e+01 5.39315967e+02 7.37136445e+01\n",
      "  1.88612529e+00 1.27207990e+00 4.43497757e+01]\n",
      " [1.42195479e-01 1.19269553e+02 4.66056526e+02 7.80543161e+01\n",
      "  1.40201024e+02 2.52539712e+01 1.97439272e+00 1.97195411e+01\n",
      "  2.28562404e+02 7.93151484e+01 1.16763144e+01 4.49556601e+00\n",
      "  5.40279530e+01 1.70715376e+01 8.60541736e+01 1.10139154e+01\n",
      "  2.87776576e-01 1.85862902e-01 8.11945502e+00]\n",
      " [1.39667151e+00 1.23565084e+03 4.78575510e+03 7.65038856e+02\n",
      "  1.40896508e+03 2.56492253e+02 2.34030507e+01 1.89728415e+02\n",
      "  2.28144868e+03 7.89680047e+02 1.22604298e+02 5.07302709e+01\n",
      "  5.39315967e+02 8.60541736e+01 1.01092112e+03 1.03236294e+02\n",
      "  2.81824091e+00 1.62890216e+00 7.72257562e+01]\n",
      " [1.98392899e-01 1.60837245e+02 6.45422076e+02 9.74175849e+01\n",
      "  1.96038102e+02 3.51557351e+01 2.04717378e+00 2.44468072e+01\n",
      "  3.08628606e+02 1.09315085e+02 1.08909148e+01 5.14291455e+00\n",
      "  7.37136445e+01 1.10139154e+01 1.03236294e+02 2.22083170e+01\n",
      "  3.70135451e-01 2.26294150e-01 1.05942064e+01]\n",
      " [1.39534918e-02 4.03568690e+00 1.56792351e+01 2.72086955e+00\n",
      "  5.03791946e+00 9.49490849e-01 7.40492125e-02 7.73478232e-01\n",
      "  8.45594036e+00 2.99018068e+00 3.39443298e-01 1.41671210e-01\n",
      "  1.88612529e+00 2.87776576e-01 2.81824091e+00 3.70135451e-01\n",
      "  2.66672167e-02 1.46304338e-02 2.23718343e-01]\n",
      " [9.58810981e-03 2.64932240e+00 9.74128234e+00 1.65976196e+00\n",
      "  3.10641445e+00 5.48291653e-01 4.81121671e-02 3.61383769e-01\n",
      "  4.83506874e+00 1.64578443e+00 2.65932075e-01 1.09023775e-01\n",
      "  1.27207990e+00 1.85862902e-01 1.62890216e+00 2.26294150e-01\n",
      "  1.46304338e-02 1.24892332e-02 1.35275821e-01]\n",
      " [1.26493030e-01 1.19444102e+02 4.45646963e+02 6.70115876e+01\n",
      "  1.28225598e+02 2.35202158e+01 2.19940931e+00 1.39919460e+01\n",
      "  1.98120470e+02 6.50261108e+01 1.26920823e+01 5.25860146e+00\n",
      "  4.43497757e+01 8.11945502e+00 7.72257562e+01 1.05942064e+01\n",
      "  2.23718343e-01 1.35275821e-01 2.10159326e+01]]\n"
     ]
    }
   ],
   "source": [
    "# Exercise 2 output\n",
    "def check_symmetric(a, rtol=1e-05, atol=1e-08):\n",
    "    return np.allclose(a, a.T, rtol=rtol, atol=atol)\n",
    "\n",
    "Exercise2_Cov = calcCov(data)#Exercis2_Cov에 calcCov(data)를 넣어서 저장\n",
    "print(\"check_symmetric : \", check_symmetric(Exercise2_Cov))#출력\n",
    "print(\"\\nExercise2 shape : \", Exercise2_Cov.shape)#형태 출력\n",
    "print(\"\\nExercise2 result\\n->\", Exercise2_Cov)# Exercis2_cov출력\n",
    "\n",
    "# textFile로 저장 후 주피터 노트북과 같이 제출\n",
    "np.savetxt(\"regular_cov.txt\", Exercise2_Cov, delimiter=\"\\t\")"
   ]
  },
  {
   "cell_type": "markdown",
   "metadata": {
    "colab_type": "text",
    "id": "FzdxheOjZ9qL"
   },
   "source": [
    "### ㅎㅎ~\n",
    "![hi](https://contents.vryjam.com/g1TwHtUsHsPFaeQ.gif)"
   ]
  },
  {
   "cell_type": "code",
   "execution_count": 0,
   "metadata": {
    "colab": {},
    "colab_type": "code",
    "id": "UBgIL-OM3xb6"
   },
   "outputs": [],
   "source": []
  }
 ],
 "metadata": {
  "colab": {
   "collapsed_sections": [],
   "name": "HW9_upload_V3.ipynb",
   "provenance": []
  },
  "kernelspec": {
   "display_name": "Python 3",
   "language": "python",
   "name": "python3"
  },
  "language_info": {
   "codemirror_mode": {
    "name": "ipython",
    "version": 3
   },
   "file_extension": ".py",
   "mimetype": "text/x-python",
   "name": "python",
   "nbconvert_exporter": "python",
   "pygments_lexer": "ipython3",
   "version": "3.7.3"
  }
 },
 "nbformat": 4,
 "nbformat_minor": 1
}
